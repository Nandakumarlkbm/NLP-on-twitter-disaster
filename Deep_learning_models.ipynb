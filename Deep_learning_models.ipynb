{
  "cells": [
    {
      "cell_type": "code",
      "execution_count": null,
      "metadata": {
        "id": "i_AWlliMwZQl"
      },
      "outputs": [],
      "source": [
        "import warnings\n",
        "warnings.filterwarnings(\"ignore\")\n",
        "import pandas as pd\n",
        "from tqdm import tqdm\n",
        "import matplotlib.pyplot as plt\n",
        "import seaborn as sns\n",
        "import numpy as np \n",
        "from sklearn import feature_extraction, linear_model, model_selection, preprocessing"
      ]
    },
    {
      "cell_type": "code",
      "execution_count": null,
      "metadata": {
        "colab": {
          "base_uri": "https://localhost:8080/",
          "height": 298
        },
        "id": "ekW8Mokqw7Am",
        "outputId": "9decc6de-d39e-44df-b024-7a98b729ca1f"
      },
      "outputs": [
        {
          "output_type": "stream",
          "name": "stdout",
          "text": [
            "Looking in indexes: https://pypi.org/simple, https://us-python.pkg.dev/colab-wheels/public/simple/\n",
            "Requirement already satisfied: kaggle in /usr/local/lib/python3.8/dist-packages (1.5.12)\n",
            "Requirement already satisfied: python-slugify in /usr/local/lib/python3.8/dist-packages (from kaggle) (7.0.0)\n",
            "Requirement already satisfied: urllib3 in /usr/local/lib/python3.8/dist-packages (from kaggle) (1.24.3)\n",
            "Requirement already satisfied: certifi in /usr/local/lib/python3.8/dist-packages (from kaggle) (2022.12.7)\n",
            "Requirement already satisfied: tqdm in /usr/local/lib/python3.8/dist-packages (from kaggle) (4.64.1)\n",
            "Requirement already satisfied: python-dateutil in /usr/local/lib/python3.8/dist-packages (from kaggle) (2.8.2)\n",
            "Requirement already satisfied: six>=1.10 in /usr/local/lib/python3.8/dist-packages (from kaggle) (1.15.0)\n",
            "Requirement already satisfied: requests in /usr/local/lib/python3.8/dist-packages (from kaggle) (2.25.1)\n",
            "Requirement already satisfied: text-unidecode>=1.3 in /usr/local/lib/python3.8/dist-packages (from python-slugify->kaggle) (1.3)\n",
            "Requirement already satisfied: chardet<5,>=3.0.2 in /usr/local/lib/python3.8/dist-packages (from requests->kaggle) (4.0.0)\n",
            "Requirement already satisfied: idna<3,>=2.5 in /usr/local/lib/python3.8/dist-packages (from requests->kaggle) (2.10)\n"
          ]
        },
        {
          "output_type": "display_data",
          "data": {
            "text/plain": [
              "<IPython.core.display.HTML object>"
            ],
            "text/html": [
              "\n",
              "     <input type=\"file\" id=\"files-57aec6e4-1246-4af2-8aa2-515c9bb67f1c\" name=\"files[]\" multiple disabled\n",
              "        style=\"border:none\" />\n",
              "     <output id=\"result-57aec6e4-1246-4af2-8aa2-515c9bb67f1c\">\n",
              "      Upload widget is only available when the cell has been executed in the\n",
              "      current browser session. Please rerun this cell to enable.\n",
              "      </output>\n",
              "      <script>// Copyright 2017 Google LLC\n",
              "//\n",
              "// Licensed under the Apache License, Version 2.0 (the \"License\");\n",
              "// you may not use this file except in compliance with the License.\n",
              "// You may obtain a copy of the License at\n",
              "//\n",
              "//      http://www.apache.org/licenses/LICENSE-2.0\n",
              "//\n",
              "// Unless required by applicable law or agreed to in writing, software\n",
              "// distributed under the License is distributed on an \"AS IS\" BASIS,\n",
              "// WITHOUT WARRANTIES OR CONDITIONS OF ANY KIND, either express or implied.\n",
              "// See the License for the specific language governing permissions and\n",
              "// limitations under the License.\n",
              "\n",
              "/**\n",
              " * @fileoverview Helpers for google.colab Python module.\n",
              " */\n",
              "(function(scope) {\n",
              "function span(text, styleAttributes = {}) {\n",
              "  const element = document.createElement('span');\n",
              "  element.textContent = text;\n",
              "  for (const key of Object.keys(styleAttributes)) {\n",
              "    element.style[key] = styleAttributes[key];\n",
              "  }\n",
              "  return element;\n",
              "}\n",
              "\n",
              "// Max number of bytes which will be uploaded at a time.\n",
              "const MAX_PAYLOAD_SIZE = 100 * 1024;\n",
              "\n",
              "function _uploadFiles(inputId, outputId) {\n",
              "  const steps = uploadFilesStep(inputId, outputId);\n",
              "  const outputElement = document.getElementById(outputId);\n",
              "  // Cache steps on the outputElement to make it available for the next call\n",
              "  // to uploadFilesContinue from Python.\n",
              "  outputElement.steps = steps;\n",
              "\n",
              "  return _uploadFilesContinue(outputId);\n",
              "}\n",
              "\n",
              "// This is roughly an async generator (not supported in the browser yet),\n",
              "// where there are multiple asynchronous steps and the Python side is going\n",
              "// to poll for completion of each step.\n",
              "// This uses a Promise to block the python side on completion of each step,\n",
              "// then passes the result of the previous step as the input to the next step.\n",
              "function _uploadFilesContinue(outputId) {\n",
              "  const outputElement = document.getElementById(outputId);\n",
              "  const steps = outputElement.steps;\n",
              "\n",
              "  const next = steps.next(outputElement.lastPromiseValue);\n",
              "  return Promise.resolve(next.value.promise).then((value) => {\n",
              "    // Cache the last promise value to make it available to the next\n",
              "    // step of the generator.\n",
              "    outputElement.lastPromiseValue = value;\n",
              "    return next.value.response;\n",
              "  });\n",
              "}\n",
              "\n",
              "/**\n",
              " * Generator function which is called between each async step of the upload\n",
              " * process.\n",
              " * @param {string} inputId Element ID of the input file picker element.\n",
              " * @param {string} outputId Element ID of the output display.\n",
              " * @return {!Iterable<!Object>} Iterable of next steps.\n",
              " */\n",
              "function* uploadFilesStep(inputId, outputId) {\n",
              "  const inputElement = document.getElementById(inputId);\n",
              "  inputElement.disabled = false;\n",
              "\n",
              "  const outputElement = document.getElementById(outputId);\n",
              "  outputElement.innerHTML = '';\n",
              "\n",
              "  const pickedPromise = new Promise((resolve) => {\n",
              "    inputElement.addEventListener('change', (e) => {\n",
              "      resolve(e.target.files);\n",
              "    });\n",
              "  });\n",
              "\n",
              "  const cancel = document.createElement('button');\n",
              "  inputElement.parentElement.appendChild(cancel);\n",
              "  cancel.textContent = 'Cancel upload';\n",
              "  const cancelPromise = new Promise((resolve) => {\n",
              "    cancel.onclick = () => {\n",
              "      resolve(null);\n",
              "    };\n",
              "  });\n",
              "\n",
              "  // Wait for the user to pick the files.\n",
              "  const files = yield {\n",
              "    promise: Promise.race([pickedPromise, cancelPromise]),\n",
              "    response: {\n",
              "      action: 'starting',\n",
              "    }\n",
              "  };\n",
              "\n",
              "  cancel.remove();\n",
              "\n",
              "  // Disable the input element since further picks are not allowed.\n",
              "  inputElement.disabled = true;\n",
              "\n",
              "  if (!files) {\n",
              "    return {\n",
              "      response: {\n",
              "        action: 'complete',\n",
              "      }\n",
              "    };\n",
              "  }\n",
              "\n",
              "  for (const file of files) {\n",
              "    const li = document.createElement('li');\n",
              "    li.append(span(file.name, {fontWeight: 'bold'}));\n",
              "    li.append(span(\n",
              "        `(${file.type || 'n/a'}) - ${file.size} bytes, ` +\n",
              "        `last modified: ${\n",
              "            file.lastModifiedDate ? file.lastModifiedDate.toLocaleDateString() :\n",
              "                                    'n/a'} - `));\n",
              "    const percent = span('0% done');\n",
              "    li.appendChild(percent);\n",
              "\n",
              "    outputElement.appendChild(li);\n",
              "\n",
              "    const fileDataPromise = new Promise((resolve) => {\n",
              "      const reader = new FileReader();\n",
              "      reader.onload = (e) => {\n",
              "        resolve(e.target.result);\n",
              "      };\n",
              "      reader.readAsArrayBuffer(file);\n",
              "    });\n",
              "    // Wait for the data to be ready.\n",
              "    let fileData = yield {\n",
              "      promise: fileDataPromise,\n",
              "      response: {\n",
              "        action: 'continue',\n",
              "      }\n",
              "    };\n",
              "\n",
              "    // Use a chunked sending to avoid message size limits. See b/62115660.\n",
              "    let position = 0;\n",
              "    do {\n",
              "      const length = Math.min(fileData.byteLength - position, MAX_PAYLOAD_SIZE);\n",
              "      const chunk = new Uint8Array(fileData, position, length);\n",
              "      position += length;\n",
              "\n",
              "      const base64 = btoa(String.fromCharCode.apply(null, chunk));\n",
              "      yield {\n",
              "        response: {\n",
              "          action: 'append',\n",
              "          file: file.name,\n",
              "          data: base64,\n",
              "        },\n",
              "      };\n",
              "\n",
              "      let percentDone = fileData.byteLength === 0 ?\n",
              "          100 :\n",
              "          Math.round((position / fileData.byteLength) * 100);\n",
              "      percent.textContent = `${percentDone}% done`;\n",
              "\n",
              "    } while (position < fileData.byteLength);\n",
              "  }\n",
              "\n",
              "  // All done.\n",
              "  yield {\n",
              "    response: {\n",
              "      action: 'complete',\n",
              "    }\n",
              "  };\n",
              "}\n",
              "\n",
              "scope.google = scope.google || {};\n",
              "scope.google.colab = scope.google.colab || {};\n",
              "scope.google.colab._files = {\n",
              "  _uploadFiles,\n",
              "  _uploadFilesContinue,\n",
              "};\n",
              "})(self);\n",
              "</script> "
            ]
          },
          "metadata": {}
        },
        {
          "output_type": "stream",
          "name": "stdout",
          "text": [
            "Saving kaggle.json to kaggle.json\n"
          ]
        },
        {
          "output_type": "execute_result",
          "data": {
            "text/plain": [
              "{'kaggle.json': b'{\"username\":\"nandakumarl\",\"key\":\"8907c6fe1b7317b97d4b771f90240a7d\"}'}"
            ]
          },
          "metadata": {},
          "execution_count": 2
        }
      ],
      "source": [
        "# To upload kaggle .json file\n",
        "!pip install kaggle\n",
        "from google.colab import files\n",
        "files.upload()"
      ]
    },
    {
      "cell_type": "code",
      "execution_count": null,
      "metadata": {
        "id": "Ns1157G8xTsc"
      },
      "outputs": [],
      "source": [
        "!mkdir ~/.kaggle\n",
        "!cp kaggle.json ~/.kaggle/\n",
        "!chmod 600 ~/.kaggle/kaggle.json"
      ]
    },
    {
      "cell_type": "code",
      "execution_count": null,
      "metadata": {
        "colab": {
          "base_uri": "https://localhost:8080/"
        },
        "id": "9lpHghg6xTpU",
        "outputId": "33cb35c1-8ef6-42fe-92a4-639ea70ecf09"
      },
      "outputs": [
        {
          "output_type": "stream",
          "name": "stdout",
          "text": [
            "Downloading nlp-getting-started.zip to /content\n",
            "\r  0% 0.00/593k [00:00<?, ?B/s]\n",
            "\r100% 593k/593k [00:00<00:00, 105MB/s]\n"
          ]
        }
      ],
      "source": [
        "!kaggle competitions download -c nlp-getting-started"
      ]
    },
    {
      "cell_type": "code",
      "execution_count": null,
      "metadata": {
        "colab": {
          "base_uri": "https://localhost:8080/"
        },
        "id": "bZJoMqNLxTmH",
        "outputId": "c397b05a-8878-49d5-e2e4-a7ffc41451dd"
      },
      "outputs": [
        {
          "output_type": "stream",
          "name": "stdout",
          "text": [
            "Archive:  nlp-getting-started.zip\n",
            "  inflating: data/sample_submission.csv  \n",
            "  inflating: data/test.csv           \n",
            "  inflating: data/train.csv          \n"
          ]
        }
      ],
      "source": [
        "!unzip nlp-getting-started.zip -d data"
      ]
    },
    {
      "cell_type": "code",
      "execution_count": null,
      "metadata": {
        "id": "UVZmYEeuxxSf"
      },
      "outputs": [],
      "source": [
        "import os\n",
        "dir_name = \"/content/data/\""
      ]
    },
    {
      "cell_type": "code",
      "execution_count": null,
      "metadata": {
        "colab": {
          "base_uri": "https://localhost:8080/"
        },
        "id": "_zB8NozexTiU",
        "outputId": "9b12b591-f3aa-47fd-e40b-eb0848870dff"
      },
      "outputs": [
        {
          "output_type": "execute_result",
          "data": {
            "text/plain": [
              "['test.csv', 'train.csv', 'sample_submission.csv']"
            ]
          },
          "metadata": {},
          "execution_count": 7
        }
      ],
      "source": [
        "os.listdir(dir_name)"
      ]
    },
    {
      "cell_type": "markdown",
      "metadata": {
        "id": "GOq9r2gAyI5B"
      },
      "source": [
        "##Exploratory Data analysis :"
      ]
    },
    {
      "cell_type": "code",
      "execution_count": null,
      "metadata": {
        "id": "yUT8rLj0yHxf"
      },
      "outputs": [],
      "source": [
        "# loading all datasets\n",
        "df_train=pd.read_csv(\"/content/data/train.csv\")\n",
        "df_test=pd.read_csv(\"/content/data/test.csv\")"
      ]
    },
    {
      "cell_type": "code",
      "execution_count": null,
      "metadata": {
        "colab": {
          "base_uri": "https://localhost:8080/"
        },
        "id": "V0tZ7K3ExTel",
        "outputId": "1bf982fd-913c-4b98-edd0-01a7390199db"
      },
      "outputs": [
        {
          "output_type": "execute_result",
          "data": {
            "text/plain": [
              "(7613, 5)"
            ]
          },
          "metadata": {},
          "execution_count": 9
        }
      ],
      "source": [
        "# Finding out the shape of each dataframes to get the intuition of problem\n",
        "df_train.shape"
      ]
    },
    {
      "cell_type": "code",
      "execution_count": null,
      "metadata": {
        "colab": {
          "base_uri": "https://localhost:8080/"
        },
        "id": "DNb1kXrhxTbe",
        "outputId": "e3479559-45be-4cf9-cc50-e42f277e6d50"
      },
      "outputs": [
        {
          "output_type": "execute_result",
          "data": {
            "text/plain": [
              "(3263, 4)"
            ]
          },
          "metadata": {},
          "execution_count": 10
        }
      ],
      "source": [
        "df_test.shape"
      ]
    },
    {
      "cell_type": "markdown",
      "metadata": {
        "id": "lbLsWQ44YwDZ"
      },
      "source": [
        "# lets do some preprocessing and extract some features for building the model"
      ]
    },
    {
      "cell_type": "code",
      "execution_count": null,
      "metadata": {
        "colab": {
          "base_uri": "https://localhost:8080/"
        },
        "id": "e0U_Pg1V9ck6",
        "outputId": "f9350460-f3cc-442f-83b8-619797b23199"
      },
      "outputs": [
        {
          "output_type": "stream",
          "name": "stderr",
          "text": [
            "[nltk_data] Downloading package stopwords to /root/nltk_data...\n",
            "[nltk_data]   Unzipping corpora/stopwords.zip.\n",
            "[nltk_data] Downloading package wordnet to /root/nltk_data...\n",
            "[nltk_data] Downloading package omw-1.4 to /root/nltk_data...\n"
          ]
        }
      ],
      "source": [
        "import re\n",
        "import nltk\n",
        "import string \n",
        "nltk.download('stopwords')\n",
        "nltk.download('wordnet')\n",
        "nltk.download('omw-1.4')\n",
        "from nltk.corpus import stopwords"
      ]
    },
    {
      "cell_type": "code",
      "execution_count": null,
      "metadata": {
        "colab": {
          "base_uri": "https://localhost:8080/"
        },
        "id": "IFdgBhRT4ry6",
        "outputId": "b97b5fe7-eaea-4839-d2e7-52fe6e978a44"
      },
      "outputs": [
        {
          "output_type": "stream",
          "name": "stdout",
          "text": [
            "Looking in indexes: https://pypi.org/simple, https://us-python.pkg.dev/colab-wheels/public/simple/\n",
            "Collecting contractions\n",
            "  Downloading contractions-0.1.73-py2.py3-none-any.whl (8.7 kB)\n",
            "Collecting textsearch>=0.0.21\n",
            "  Downloading textsearch-0.0.24-py2.py3-none-any.whl (7.6 kB)\n",
            "Collecting anyascii\n",
            "  Downloading anyascii-0.3.1-py3-none-any.whl (287 kB)\n",
            "\u001b[2K     \u001b[90m━━━━━━━━━━━━━━━━━━━━━━━━━━━━━━━━━━━━━━\u001b[0m \u001b[32m287.5/287.5 KB\u001b[0m \u001b[31m24.0 MB/s\u001b[0m eta \u001b[36m0:00:00\u001b[0m\n",
            "\u001b[?25hCollecting pyahocorasick\n",
            "  Downloading pyahocorasick-1.4.4-cp38-cp38-manylinux_2_17_x86_64.manylinux2014_x86_64.whl (110 kB)\n",
            "\u001b[2K     \u001b[90m━━━━━━━━━━━━━━━━━━━━━━━━━━━━━━━━━━━━━━\u001b[0m \u001b[32m110.1/110.1 KB\u001b[0m \u001b[31m17.1 MB/s\u001b[0m eta \u001b[36m0:00:00\u001b[0m\n",
            "\u001b[?25hInstalling collected packages: pyahocorasick, anyascii, textsearch, contractions\n",
            "Successfully installed anyascii-0.3.1 contractions-0.1.73 pyahocorasick-1.4.4 textsearch-0.0.24\n"
          ]
        }
      ],
      "source": [
        "!pip install contractions"
      ]
    },
    {
      "cell_type": "code",
      "execution_count": null,
      "metadata": {
        "id": "WhAJMBDL4xi2"
      },
      "outputs": [],
      "source": [
        "import contractions"
      ]
    },
    {
      "cell_type": "code",
      "execution_count": null,
      "metadata": {
        "id": "q_2TrNon4_gr"
      },
      "outputs": [],
      "source": [
        "def contractionfun(text):\n",
        "  expanded_words=[]\n",
        "  for word in text.split():\n",
        "    expanded_words.append(contractions.fix(word))\n",
        "  return '  '.join(expanded_words)"
      ]
    },
    {
      "cell_type": "code",
      "source": [
        "def spacebetweenword(tweet):\n",
        "    tweet = re.sub(r\"IranDeal\",\"Iran Deal\", tweet)\n",
        "    tweet = re.sub(r\"ArianaGrande\", \"Ariana Grande\", tweet)\n",
        "    tweet = re.sub(r\"camilacabello97\", \"camila cabello\", tweet) \n",
        "    tweet = re.sub(r\"RondaRousey\", \"Ronda Rousey\", tweet)     \n",
        "    tweet = re.sub(r\"MTVHottest\", \"MTV Hottest\", tweet)\n",
        "    tweet = re.sub(r\"TrapMusic\", \"Trap Music\", tweet)\n",
        "    tweet = re.sub(r\"ProphetMuhammad\", \"Prophet Muhammad\", tweet)\n",
        "    tweet = re.sub(r\"PantherAttack\", \"Panther Attack\", tweet)\n",
        "    tweet = re.sub(r\"StrategicPatience\", \"Strategic Patience\", tweet)\n",
        "    tweet = re.sub(r\"socialnews\", \"social news\", tweet)\n",
        "    tweet = re.sub(r\"NASAHurricane\", \"NASA Hurricane\", tweet)\n",
        "    tweet = re.sub(r\"onlinecommunities\", \"online communities\", tweet)\n",
        "    tweet = re.sub(r\"humanconsumption\", \"human consumption\", tweet)\n",
        "    tweet = re.sub(r\"Typhoon-Devastated\", \"Typhoon Devastated\", tweet)\n",
        "    tweet = re.sub(r\"Meat-Loving\", \"Meat Loving\", tweet)\n",
        "    tweet = re.sub(r\"facialabuse\", \"facial abuse\", tweet)\n",
        "    tweet = re.sub(r\"LakeCounty\", \"Lake County\", tweet)\n",
        "    tweet = re.sub(r\"BeingAuthor\", \"Being Author\", tweet)\n",
        "    tweet = re.sub(r\"withheavenly\", \"with heavenly\", tweet)\n",
        "    tweet = re.sub(r\"thankU\", \"thank you\", tweet)\n",
        "    tweet = re.sub(r\"iTunesMusic\", \"iTunes Music\", tweet)\n",
        "    tweet = re.sub(r\"OffensiveContent\", \"Offensive Content\", tweet)\n",
        "    tweet = re.sub(r\"WorstSummerJob\", \"Worst Summer Job\", tweet)\n",
        "    tweet = re.sub(r\"HarryBeCareful\", \"Harry Be Careful\", tweet)\n",
        "    tweet = re.sub(r\"NASASolarSystem\", \"NASA Solar System\", tweet)\n",
        "    tweet = re.sub(r\"animalrescue\", \"animal rescue\", tweet)\n",
        "    tweet = re.sub(r\"KurtSchlichter\", \"Kurt Schlichter\", tweet)\n",
        "    tweet = re.sub(r\"aRmageddon\", \"armageddon\", tweet)\n",
        "    tweet = re.sub(r\"Throwingknifes\", \"Throwing knives\", tweet)\n",
        "    tweet = re.sub(r\"GodsLove\", \"God's Love\", tweet)\n",
        "    tweet = re.sub(r\"bookboost\", \"book boost\", tweet)\n",
        "    tweet = re.sub(r\"ibooklove\", \"I book love\", tweet)\n",
        "    tweet = re.sub(r\"NestleIndia\", \"Nestle India\", tweet)\n",
        "    tweet = re.sub(r\"realDonaldTrump\", \"Donald Trump\", tweet)\n",
        "    tweet = re.sub(r\"DavidVonderhaar\", \"David Vonderhaar\", tweet)\n",
        "    tweet = re.sub(r\"CecilTheLion\", \"Cecil The Lion\", tweet)\n",
        "    tweet = re.sub(r\"weathernetwork\", \"weather network\", tweet)\n",
        "    tweet = re.sub(r\"withBioterrorism&use\", \"with Bioterrorism & use\", tweet)\n",
        "    tweet = re.sub(r\"Hostage&2\", \"Hostage & 2\", tweet)\n",
        "    tweet = re.sub(r\"GOPDebate\", \"GOP Debate\", tweet)\n",
        "    tweet = re.sub(r\"RickPerry\", \"Rick Perry\", tweet)\n",
        "    tweet = re.sub(r\"frontpage\", \"front page\", tweet)\n",
        "    tweet = re.sub(r\"NewsInTweets\", \"News In Tweets\", tweet)\n",
        "    tweet = re.sub(r\"ViralSpell\", \"Viral Spell\", tweet)\n",
        "    tweet = re.sub(r\"til_now\", \"until now\", tweet)\n",
        "    tweet = re.sub(r\"volcanoinRussia\", \"volcano in Russia\", tweet)\n",
        "    tweet = re.sub(r\"ZippedNews\", \"Zipped News\", tweet)\n",
        "    tweet = re.sub(r\"MicheleBachman\", \"Michele Bachman\", tweet)\n",
        "    tweet = re.sub(r\"53inch\", \"53 inch\", tweet)\n",
        "    tweet = re.sub(r\"KerrickTrial\", \"Kerrick Trial\", tweet)\n",
        "    tweet = re.sub(r\"abstorm\", \"Alberta Storm\", tweet)\n",
        "    tweet = re.sub(r\"Beyhive\", \"Beyonce hive\", tweet)\n",
        "    tweet = re.sub(r\"IDFire\", \"Idaho Fire\", tweet)\n",
        "    tweet = re.sub(r\"DETECTADO\", \"Detected\", tweet)\n",
        "    tweet = re.sub(r\"RockyFire\", \"Rocky Fire\", tweet)\n",
        "    tweet = re.sub(r\"Listen/Buy\", \"Listen / Buy\", tweet)\n",
        "    tweet = re.sub(r\"NickCannon\", \"Nick Cannon\", tweet)\n",
        "    tweet = re.sub(r\"FaroeIslands\", \"Faroe Islands\", tweet)\n",
        "    tweet = re.sub(r\"yycstorm\", \"Calgary Storm\", tweet)\n",
        "    tweet = re.sub(r\"IDPs:\", \"Internally Displaced People :\", tweet)\n",
        "    tweet = re.sub(r\"ArtistsUnited\", \"Artists United\", tweet)\n",
        "    tweet = re.sub(r\"ClaytonBryant\", \"Clayton Bryant\", tweet)\n",
        "    tweet = re.sub(r\"jimmyfallon\", \"jimmy fallon\", tweet)\n",
        "    tweet = re.sub(r\"justinbieber\", \"justin bieber\", tweet)  \n",
        "    tweet = re.sub(r\"UTC2015\", \"UTC 2015\", tweet)\n",
        "    tweet = re.sub(r\"Time2015\", \"Time 2015\", tweet)\n",
        "    tweet = re.sub(r\"djicemoon\", \"dj icemoon\", tweet)\n",
        "    tweet = re.sub(r\"LivingSafely\", \"Living Safely\", tweet)\n",
        "    tweet = re.sub(r\"FIFA16\", \"Fifa 2016\", tweet)\n",
        "    tweet = re.sub(r\"thisiswhywecanthavenicethings\", \"this is why we cannot have nice things\", tweet)\n",
        "    tweet = re.sub(r\"bbcnews\", \"bbc news\", tweet)\n",
        "    tweet = re.sub(r\"UndergroundRailraod\", \"Underground Railraod\", tweet)\n",
        "    tweet = re.sub(r\"c4news\", \"c4 news\", tweet)\n",
        "    tweet = re.sub(r\"OBLITERATION\", \"obliteration\", tweet)\n",
        "    tweet = re.sub(r\"MUDSLIDE\", \"mudslide\", tweet)\n",
        "    tweet = re.sub(r\"NoSurrender\", \"No Surrender\", tweet)\n",
        "    tweet = re.sub(r\"NotExplained\", \"Not Explained\", tweet)\n",
        "    tweet = re.sub(r\"greatbritishbakeoff\", \"great british bake off\", tweet)\n",
        "    tweet = re.sub(r\"LondonFire\", \"London Fire\", tweet)\n",
        "    tweet = re.sub(r\"KOTAWeather\", \"KOTA Weather\", tweet)\n",
        "    tweet = re.sub(r\"LuchaUnderground\", \"Lucha Underground\", tweet)\n",
        "    tweet = re.sub(r\"KOIN6News\", \"KOIN 6 News\", tweet)\n",
        "    tweet = re.sub(r\"LiveOnK2\", \"Live On K2\", tweet)\n",
        "    tweet = re.sub(r\"9NewsGoldCoast\", \"9 News Gold Coast\", tweet)\n",
        "    tweet = re.sub(r\"nikeplus\", \"nike plus\", tweet)\n",
        "    tweet = re.sub(r\"david_cameron\", \"David Cameron\", tweet)\n",
        "    tweet = re.sub(r\"peterjukes\", \"Peter Jukes\", tweet)\n",
        "    tweet = re.sub(r\"JamesMelville\", \"James Melville\", tweet)\n",
        "    tweet = re.sub(r\"megynkelly\", \"Megyn Kelly\", tweet)\n",
        "    tweet = re.sub(r\"cnewslive\", \"C News Live\", tweet)\n",
        "    tweet = re.sub(r\"JamaicaObserver\", \"Jamaica Observer\", tweet)\n",
        "    tweet = re.sub(r\"TweetLikeItsSeptember11th2001\", \"Tweet like it is september 11th 2001\", tweet)\n",
        "    tweet = re.sub(r\"cbplawyers\", \"cbp lawyers\", tweet)\n",
        "    tweet = re.sub(r\"fewmoretweets\", \"few more tweets\", tweet)\n",
        "    tweet = re.sub(r\"BlackLivesMatter\", \"Black Lives Matter\", tweet)\n",
        "    tweet = re.sub(r\"cjoyner\", \"Chris Joyner\", tweet)\n",
        "    tweet = re.sub(r\"ENGvAUS\", \"England vs Australia\", tweet)\n",
        "    tweet = re.sub(r\"ScottWalker\", \"Scott Walker\", tweet)\n",
        "    tweet = re.sub(r\"MikeParrActor\", \"Michael Parr\", tweet)\n",
        "    tweet = re.sub(r\"4PlayThursdays\", \"Foreplay Thursdays\", tweet)\n",
        "    tweet = re.sub(r\"TGF2015\", \"Tontitown Grape Festival\", tweet)\n",
        "    tweet = re.sub(r\"realmandyrain\", \"Mandy Rain\", tweet)\n",
        "    tweet = re.sub(r\"GraysonDolan\", \"Grayson Dolan\", tweet)\n",
        "    tweet = re.sub(r\"ApolloBrown\", \"Apollo Brown\", tweet)\n",
        "    tweet = re.sub(r\"saddlebrooke\", \"Saddlebrooke\", tweet)\n",
        "    tweet = re.sub(r\"TontitownGrape\", \"Tontitown Grape\", tweet)\n",
        "    tweet = re.sub(r\"AbbsWinston\", \"Abbs Winston\", tweet)\n",
        "    tweet = re.sub(r\"ShaunKing\", \"Shaun King\", tweet)\n",
        "    tweet = re.sub(r\"MeekMill\", \"Meek Mill\", tweet)\n",
        "    tweet = re.sub(r\"TornadoGiveaway\", \"Tornado Giveaway\", tweet)\n",
        "    tweet = re.sub(r\"GRupdates\", \"GR updates\", tweet)\n",
        "    tweet = re.sub(r\"SouthDowns\", \"South Downs\", tweet)\n",
        "    tweet = re.sub(r\"braininjury\", \"brain injury\", tweet)\n",
        "    tweet = re.sub(r\"auspol\", \"Australian politics\", tweet)\n",
        "    tweet = re.sub(r\"PlannedParenthood\", \"Planned Parenthood\", tweet)\n",
        "    tweet = re.sub(r\"calgaryweather\", \"Calgary Weather\", tweet)\n",
        "    tweet = re.sub(r\"weallheartonedirection\", \"we all heart one direction\", tweet)\n",
        "    tweet = re.sub(r\"edsheeran\", \"Ed Sheeran\", tweet)\n",
        "    tweet = re.sub(r\"TrueHeroes\", \"True Heroes\", tweet)\n",
        "    tweet = re.sub(r\"S3XLEAK\", \"sex leak\", tweet)\n",
        "    tweet = re.sub(r\"ComplexMag\", \"Complex Magazine\", tweet)\n",
        "    tweet = re.sub(r\"TheAdvocateMag\", \"The Advocate Magazine\", tweet)\n",
        "    tweet = re.sub(r\"CityofCalgary\", \"City of Calgary\", tweet)\n",
        "    tweet = re.sub(r\"EbolaOutbreak\", \"Ebola Outbreak\", tweet)\n",
        "    tweet = re.sub(r\"SummerFate\", \"Summer Fate\", tweet)\n",
        "    tweet = re.sub(r\"RAmag\", \"Royal Academy Magazine\", tweet)\n",
        "    tweet = re.sub(r\"offers2go\", \"offers to go\", tweet)\n",
        "    tweet = re.sub(r\"foodscare\", \"food scare\", tweet)\n",
        "    tweet = re.sub(r\"MNPDNashville\", \"Metropolitan Nashville Police Department\", tweet)\n",
        "    tweet = re.sub(r\"TfLBusAlerts\", \"TfL Bus Alerts\", tweet)\n",
        "    tweet = re.sub(r\"GamerGate\", \"Gamer Gate\", tweet)\n",
        "    tweet = re.sub(r\"IHHen\", \"Humanitarian Relief\", tweet)\n",
        "    tweet = re.sub(r\"spinningbot\", \"spinning bot\", tweet)\n",
        "    tweet = re.sub(r\"ModiMinistry\", \"Modi Ministry\", tweet)\n",
        "    tweet = re.sub(r\"TAXIWAYS\", \"taxi ways\", tweet)\n",
        "    tweet = re.sub(r\"Calum5SOS\", \"Calum Hood\", tweet)\n",
        "    tweet = re.sub(r\"po_st\", \"po.st\", tweet)\n",
        "    tweet = re.sub(r\"scoopit\", \"scoop.it\", tweet)\n",
        "    tweet = re.sub(r\"UltimaLucha\", \"Ultima Lucha\", tweet)\n",
        "    tweet = re.sub(r\"JonathanFerrell\", \"Jonathan Ferrell\", tweet)\n",
        "    tweet = re.sub(r\"aria_ahrary\", \"Aria Ahrary\", tweet)\n",
        "    tweet = re.sub(r\"rapidcity\", \"Rapid City\", tweet)\n",
        "    tweet = re.sub(r\"OutBid\", \"outbid\", tweet)\n",
        "    tweet = re.sub(r\"lavenderpoetrycafe\", \"lavender poetry cafe\", tweet)\n",
        "    tweet = re.sub(r\"EudryLantiqua\", \"Eudry Lantiqua\", tweet)\n",
        "    tweet = re.sub(r\"15PM\", \"15 PM\", tweet)\n",
        "    tweet = re.sub(r\"OriginalFunko\", \"Funko\", tweet)\n",
        "    tweet = re.sub(r\"rightwaystan\", \"Richard Tan\", tweet)\n",
        "    tweet = re.sub(r\"CindyNoonan\", \"Cindy Noonan\", tweet)\n",
        "    tweet = re.sub(r\"RT_America\", \"RT America\", tweet)\n",
        "    tweet = re.sub(r\"narendramodi\", \"Narendra Modi\", tweet)\n",
        "    tweet = re.sub(r\"BakeOffFriends\", \"Bake Off Friends\", tweet)\n",
        "    tweet = re.sub(r\"TeamHendrick\", \"Hendrick Motorsports\", tweet)\n",
        "    tweet = re.sub(r\"alexbelloli\", \"Alex Belloli\", tweet)\n",
        "    tweet = re.sub(r\"itsjustinstuart\", \"Justin Stuart\", tweet)\n",
        "    tweet = re.sub(r\"gunsense\", \"gun sense\", tweet)\n",
        "    tweet = re.sub(r\"DebateQuestionsWeWantToHear\", \"debate questions we want to hear\", tweet)\n",
        "    tweet = re.sub(r\"RoyalCarribean\", \"Royal Carribean\", tweet)\n",
        "    tweet = re.sub(r\"samanthaturne19\", \"Samantha Turner\", tweet)\n",
        "    tweet = re.sub(r\"JonVoyage\", \"Jon Stewart\", tweet)\n",
        "    tweet = re.sub(r\"renew911health\", \"renew 911 health\", tweet)\n",
        "    tweet = re.sub(r\"SuryaRay\", \"Surya Ray\", tweet)\n",
        "    tweet = re.sub(r\"pattonoswalt\", \"Patton Oswalt\", tweet)\n",
        "    tweet = re.sub(r\"minhazmerchant\", \"Minhaz Merchant\", tweet)\n",
        "    tweet = re.sub(r\"TLVFaces\", \"Israel Diaspora Coalition\", tweet)\n",
        "    tweet = re.sub(r\"pmarca\", \"Marc Andreessen\", tweet)\n",
        "    tweet = re.sub(r\"pdx911\", \"Portland Police\", tweet)\n",
        "    tweet = re.sub(r\"jamaicaplain\", \"Jamaica Plain\", tweet)\n",
        "    tweet = re.sub(r\"Japton\", \"Arkansas\", tweet)\n",
        "    tweet = re.sub(r\"RouteComplex\", \"Route Complex\", tweet)\n",
        "    tweet = re.sub(r\"INSubcontinent\", \"Indian Subcontinent\", tweet)\n",
        "    tweet = re.sub(r\"NJTurnpike\", \"New Jersey Turnpike\", tweet)\n",
        "    tweet = re.sub(r\"Politifiact\", \"PolitiFact\", tweet)\n",
        "    tweet = re.sub(r\"Hiroshima70\", \"Hiroshima\", tweet)\n",
        "    tweet = re.sub(r\"GMMBC\", \"Greater Mt Moriah Baptist Church\", tweet)\n",
        "    tweet = re.sub(r\"versethe\", \"verse the\", tweet)\n",
        "    tweet = re.sub(r\"TubeStrike\", \"Tube Strike\", tweet)\n",
        "    tweet = re.sub(r\"MissionHills\", \"Mission Hills\", tweet)\n",
        "    tweet = re.sub(r\"ProtectDenaliWolves\", \"Protect Denali Wolves\", tweet)\n",
        "    tweet = re.sub(r\"NANKANA\", \"Nankana\", tweet)\n",
        "    tweet = re.sub(r\"SAHIB\", \"Sahib\", tweet)\n",
        "    tweet = re.sub(r\"PAKPATTAN\", \"Pakpattan\", tweet)\n",
        "    tweet = re.sub(r\"Newz_Sacramento\", \"News Sacramento\", tweet)\n",
        "    tweet = re.sub(r\"gofundme\", \"go fund me\", tweet)\n",
        "    tweet = re.sub(r\"pmharper\", \"Stephen Harper\", tweet)\n",
        "    tweet = re.sub(r\"IvanBerroa\", \"Ivan Berroa\", tweet)\n",
        "    tweet = re.sub(r\"LosDelSonido\", \"Los Del Sonido\", tweet)\n",
        "    tweet = re.sub(r\"bancodeseries\", \"banco de series\", tweet)\n",
        "    tweet = re.sub(r\"timkaine\", \"Tim Kaine\", tweet)\n",
        "    tweet = re.sub(r\"IdentityTheft\", \"Identity Theft\", tweet)\n",
        "    tweet = re.sub(r\"AllLivesMatter\", \"All Lives Matter\", tweet)\n",
        "    tweet = re.sub(r\"mishacollins\", \"Misha Collins\", tweet)\n",
        "    tweet = re.sub(r\"BillNeelyNBC\", \"Bill Neely\", tweet)\n",
        "    tweet = re.sub(r\"BeClearOnCancer\", \"be clear on cancer\", tweet)\n",
        "    tweet = re.sub(r\"Kowing\", \"Knowing\", tweet)\n",
        "    tweet = re.sub(r\"ScreamQueens\", \"Scream Queens\", tweet)\n",
        "    tweet = re.sub(r\"AskCharley\", \"Ask Charley\", tweet)\n",
        "    tweet = re.sub(r\"BlizzHeroes\", \"Heroes of the Storm\", tweet)\n",
        "    tweet = re.sub(r\"BradleyBrad47\", \"Bradley Brad\", tweet)\n",
        "    tweet = re.sub(r\"HannaPH\", \"Typhoon Hanna\", tweet)\n",
        "    tweet = re.sub(r\"meinlcymbals\", \"MEINL Cymbals\", tweet)\n",
        "    tweet = re.sub(r\"Ptbo\", \"Peterborough\", tweet)\n",
        "    tweet = re.sub(r\"cnnbrk\", \"CNN Breaking News\", tweet)\n",
        "    tweet = re.sub(r\"IndianNews\", \"Indian News\", tweet)\n",
        "    tweet = re.sub(r\"savebees\", \"save bees\", tweet)\n",
        "    tweet = re.sub(r\"GreenHarvard\", \"Green Harvard\", tweet)\n",
        "    tweet = re.sub(r\"StandwithPP\", \"Stand with planned parent\",tweet)\n",
        "    tweet = re.sub(r\"hermancranston\", \"Herman Cranston\", tweet)\n",
        "    tweet = re.sub(r\"WMUR9\", \"WMUR-TV\", tweet)\n",
        "    tweet = re.sub(r\"RockBottomRadFM\", \"Rock Bottom Radio\", tweet)\n",
        "    tweet = re.sub(r\"ameenshaikh3\", \"Ameen Shaikh\", tweet)\n",
        "    tweet = re.sub(r\"ProSyn\", \"Project Syndicate\", tweet)\n",
        "    tweet = re.sub(r\"Daesh\", \"ISIS\", tweet)\n",
        "    tweet = re.sub(r\"s2g\", \"swear to god\", tweet)\n",
        "    tweet = re.sub(r\"listenlive\", \"listen live\", tweet)\n",
        "    tweet = re.sub(r\"CDCgov\", \"Centers for Disease Control and Prevention\", tweet)\n",
        "    tweet = re.sub(r\"FoxNew\", \"Fox News\", tweet)\n",
        "    tweet = re.sub(r\"CBSBigBrother\", \"Big Brother\", tweet)\n",
        "    tweet = re.sub(r\"JulieDiCaro\", \"Julie DiCaro\", tweet)\n",
        "    tweet = re.sub(r\"theadvocatemag\", \"The Advocate Magazine\", tweet)\n",
        "    tweet = re.sub(r\"RohnertParkDPS\", \"Rohnert Park Police Department\", tweet)\n",
        "    tweet = re.sub(r\"THISIZBWRIGHT\", \"Bonnie Wright\", tweet)\n",
        "    tweet = re.sub(r\"Popularmmos\", \"Popular MMOs\", tweet)\n",
        "    tweet = re.sub(r\"WildHorses\", \"Wild Horses\", tweet)\n",
        "    tweet = re.sub(r\"FantasticFour\", \"Fantastic Four\", tweet)\n",
        "    tweet = re.sub(r\"HORNDALE\", \"Horndale\", tweet)\n",
        "    tweet = re.sub(r\"PINER\", \"Piner\", tweet)\n",
        "    tweet = re.sub(r\"BathAndNorthEastSomerset\", \"Bath and North East Somerset\", tweet)\n",
        "    tweet = re.sub(r\"thatswhatfriendsarefor\", \"that is what friends are for\", tweet)\n",
        "    tweet = re.sub(r\"residualincome\", \"residual income\", tweet)\n",
        "    tweet = re.sub(r\"YahooNewsDigest\", \"Yahoo News Digest\", tweet)\n",
        "    tweet = re.sub(r\"MalaysiaAirlines\", \"Malaysia Airlines\", tweet)\n",
        "    tweet = re.sub(r\"AmazonDeals\", \"Amazon Deals\", tweet)\n",
        "    tweet = re.sub(r\"MissCharleyWebb\", \"Charley Webb\", tweet)\n",
        "    tweet = re.sub(r\"shoalstraffic\", \"shoals traffic\", tweet)\n",
        "    tweet = re.sub(r\"GeorgeFoster72\", \"George Foster\", tweet)\n",
        "    tweet = re.sub(r\"pop2015\", \"pop 2015\", tweet)\n",
        "    tweet = re.sub(r\"_PokemonCards_\", \"Pokemon Cards\", tweet)\n",
        "    tweet = re.sub(r\"DianneG\", \"Dianne Gallagher\", tweet)\n",
        "    tweet = re.sub(r\"KashmirConflict\", \"Kashmir Conflict\", tweet)\n",
        "    tweet = re.sub(r\"BritishBakeOff\", \"British Bake Off\", tweet)\n",
        "    tweet = re.sub(r\"FreeKashmir\", \"Free Kashmir\", tweet)\n",
        "    tweet = re.sub(r\"mattmosley\", \"Matt Mosley\", tweet)\n",
        "    tweet = re.sub(r\"BishopFred\", \"Bishop Fred\", tweet)\n",
        "    tweet = re.sub(r\"EndConflict\", \"End Conflict\", tweet)\n",
        "    tweet = re.sub(r\"EndOccupation\", \"End Occupation\", tweet)\n",
        "    tweet = re.sub(r\"UNHEALED\", \"unhealed\", tweet)\n",
        "    tweet = re.sub(r\"CharlesDagnall\", \"Charles Dagnall\", tweet)\n",
        "    tweet = re.sub(r\"Latestnews\", \"Latest news\", tweet)\n",
        "    tweet = re.sub(r\"KindleCountdown\", \"Kindle Countdown\", tweet)\n",
        "    tweet = re.sub(r\"NoMoreHandouts\", \"No More Handouts\", tweet)\n",
        "    tweet = re.sub(r\"datingtips\", \"dating tips\", tweet)\n",
        "    tweet = re.sub(r\"charlesadler\", \"Charles Adler\", tweet)\n",
        "    tweet = re.sub(r\"twia\", \"Texas Windstorm Insurance Association\", tweet)\n",
        "    tweet = re.sub(r\"txlege\", \"Texas Legislature\", tweet)\n",
        "    tweet = re.sub(r\"WindstormInsurer\", \"Windstorm Insurer\", tweet)\n",
        "    tweet = re.sub(r\"Newss\", \"News\", tweet)\n",
        "    tweet = re.sub(r\"hempoil\", \"hemp oil\", tweet)\n",
        "    tweet = re.sub(r\"CommoditiesAre\", \"Commodities are\", tweet)\n",
        "    tweet = re.sub(r\"tubestrike\", \"tube strike\", tweet)\n",
        "    tweet = re.sub(r\"JoeNBC\", \"Joe Scarborough\", tweet)\n",
        "    tweet = re.sub(r\"LiteraryCakes\", \"Literary Cakes\", tweet)\n",
        "    tweet = re.sub(r\"TI5\", \"The International 5\", tweet)\n",
        "    tweet = re.sub(r\"thehill\", \"the hill\", tweet)\n",
        "    tweet = re.sub(r\"3others\", \"3 others\", tweet)\n",
        "    tweet = re.sub(r\"stighefootball\", \"Sam Tighe\", tweet)\n",
        "    tweet = re.sub(r\"whatstheimportantvideo\", \"what is the important video\", tweet)\n",
        "    tweet = re.sub(r\"ClaudioMeloni\", \"Claudio Meloni\", tweet)\n",
        "    tweet = re.sub(r\"DukeSkywalker\", \"Duke Skywalker\", tweet)\n",
        "    tweet = re.sub(r\"carsonmwr\", \"Fort Carson\", tweet)\n",
        "    tweet = re.sub(r\"offdishduty\", \"off dish duty\", tweet)\n",
        "    tweet = re.sub(r\"andword\", \"and word\", tweet)\n",
        "    tweet = re.sub(r\"rhodeisland\", \"Rhode Island\", tweet)\n",
        "    tweet = re.sub(r\"easternoregon\", \"Eastern Oregon\", tweet)\n",
        "    tweet = re.sub(r\"WAwildfire\", \"Washington Wildfire\", tweet)\n",
        "    tweet = re.sub(r\"fingerrockfire\", \"Finger Rock Fire\", tweet)\n",
        "    tweet = re.sub(r\"57am\", \"57 am\", tweet)\n",
        "    tweet = re.sub(r\"JacobHoggard\", \"Jacob Hoggard\", tweet)\n",
        "    tweet = re.sub(r\"newnewnew\", \"new new new\", tweet)\n",
        "    tweet = re.sub(r\"under50\", \"under 50\", tweet)\n",
        "    tweet = re.sub(r\"getitbeforeitsgone\", \"get it before it is gone\", tweet)\n",
        "    tweet = re.sub(r\"freshoutofthebox\", \"fresh out of the box\", tweet)\n",
        "    tweet = re.sub(r\"amwriting\", \"am writing\", tweet)\n",
        "    tweet = re.sub(r\"Bokoharm\", \"Boko Haram\", tweet)\n",
        "    tweet = re.sub(r\"Nowlike\", \"Now like\", tweet)\n",
        "    tweet = re.sub(r\"seasonfrom\", \"season from\", tweet)\n",
        "    tweet = re.sub(r\"epicente\", \"epicenter\", tweet)\n",
        "    tweet = re.sub(r\"epicenterr\", \"epicenter\", tweet)\n",
        "    tweet = re.sub(r\"sicklife\", \"sick life\", tweet)\n",
        "    tweet = re.sub(r\"yycweather\", \"Calgary Weather\", tweet)\n",
        "    tweet = re.sub(r\"calgarysun\", \"Calgary Sun\", tweet)\n",
        "    tweet = re.sub(r\"approachng\", \"approaching\", tweet)\n",
        "    tweet = re.sub(r\"evng\", \"evening\", tweet)\n",
        "    tweet = re.sub(r\"Sumthng\", \"something\", tweet)\n",
        "    tweet = re.sub(r\"EllenPompeo\", \"Ellen Pompeo\", tweet)\n",
        "    tweet = re.sub(r\"shondarhimes\", \"Shonda Rhimes\", tweet)\n",
        "    tweet = re.sub(r\"ABCNetwork\", \"ABC Network\", tweet)\n",
        "    tweet = re.sub(r\"SushmaSwaraj\", \"Sushma Swaraj\", tweet)\n",
        "    tweet = re.sub(r\"pray4japan\", \"Pray for Japan\", tweet)\n",
        "    tweet = re.sub(r\"hope4japan\", \"Hope for Japan\", tweet)\n",
        "    tweet = re.sub(r\"Illusionimagess\", \"Illusion images\", tweet)\n",
        "    tweet = re.sub(r\"SummerUnderTheStars\", \"Summer Under The Stars\", tweet)\n",
        "    tweet = re.sub(r\"ShallWeDance\", \"Shall We Dance\", tweet)\n",
        "    tweet = re.sub(r\"TCMParty\", \"TCM Party\", tweet)\n",
        "    tweet = re.sub(r\"marijuananews\", \"marijuana news\", tweet)\n",
        "    tweet = re.sub(r\"onbeingwithKristaTippett\", \"on being with Krista Tippett\", tweet)\n",
        "    tweet = re.sub(r\"Beingtweets\", \"Being tweets\", tweet)\n",
        "    tweet = re.sub(r\"newauthors\", \"new authors\", tweet)\n",
        "    tweet = re.sub(r\"remedyyyy\", \"remedy\", tweet)\n",
        "    tweet = re.sub(r\"44PM\", \"44 PM\", tweet)\n",
        "    tweet = re.sub(r\"HeadlinesApp\", \"Headlines App\", tweet)\n",
        "    tweet = re.sub(r\"40PM\", \"40 PM\", tweet)\n",
        "    tweet = re.sub(r\"myswc\", \"Severe Weather Center\", tweet)\n",
        "    tweet = re.sub(r\"ithats\", \"that is\", tweet)\n",
        "    tweet = re.sub(r\"icouldsitinthismomentforever\", \"I could sit in this moment forever\", tweet)\n",
        "    tweet = re.sub(r\"FatLoss\", \"Fat Loss\", tweet)\n",
        "    tweet = re.sub(r\"02PM\", \"02 PM\", tweet)\n",
        "    tweet = re.sub(r\"MetroFmTalk\", \"Metro Fm Talk\", tweet)\n",
        "    tweet = re.sub(r\"Bstrd\", \"bastard\", tweet)\n",
        "    tweet = re.sub(r\"bldy\", \"bloody\", tweet)\n",
        "    tweet = re.sub(r\"MetrofmTalk\", \"Metro Fm Talk\", tweet)\n",
        "    tweet = re.sub(r\"terrorismturn\", \"terrorism turn\", tweet)\n",
        "    tweet = re.sub(r\"BBCNewsAsia\", \"BBC News Asia\", tweet)\n",
        "    tweet = re.sub(r\"BehindTheScenes\", \"Behind The Scenes\", tweet)\n",
        "    tweet = re.sub(r\"GeorgeTakei\", \"George Takei\", tweet)\n",
        "    tweet = re.sub(r\"WomensWeeklyMag\", \"Womens Weekly Magazine\", tweet)\n",
        "    tweet = re.sub(r\"SurvivorsGuidetoEarth\", \"Survivors Guide to Earth\", tweet)\n",
        "    tweet = re.sub(r\"incubusband\", \"incubus band\", tweet)\n",
        "    tweet = re.sub(r\"Babypicturethis\", \"Baby picture this\", tweet)\n",
        "    tweet = re.sub(r\"BombEffects\", \"Bomb Effects\", tweet)\n",
        "    tweet = re.sub(r\"win10\", \"Windows 10\", tweet)\n",
        "    tweet = re.sub(r\"idkidk\", \"I do not know I do not know\", tweet)\n",
        "    tweet = re.sub(r\"TheWalkingDead\", \"The Walking Dead\", tweet)\n",
        "    tweet = re.sub(r\"amyschumer\", \"Amy Schumer\", tweet)\n",
        "    tweet = re.sub(r\"crewlist\", \"crew list\", tweet)\n",
        "    tweet = re.sub(r\"Erdogans\", \"Erdogan\", tweet)\n",
        "    tweet = re.sub(r\"BBCLive\", \"BBC Live\", tweet)\n",
        "    tweet = re.sub(r\"TonyAbbottMHR\", \"Tony Abbott\", tweet)\n",
        "    tweet = re.sub(r\"paulmyerscough\", \"Paul Myerscough\", tweet)\n",
        "    tweet = re.sub(r\"georgegallagher\", \"George Gallagher\", tweet)\n",
        "    tweet = re.sub(r\"JimmieJohnson\", \"Jimmie Johnson\", tweet)\n",
        "    tweet = re.sub(r\"pctool\", \"pc tool\", tweet)\n",
        "    tweet = re.sub(r\"DoingHashtagsRight\", \"Doing Hashtags Right\", tweet)\n",
        "    tweet = re.sub(r\"ThrowbackThursday\", \"Throwback Thursday\", tweet)\n",
        "    tweet = re.sub(r\"SnowBackSunday\", \"Snowback Sunday\", tweet)\n",
        "    tweet = re.sub(r\"LakeEffect\", \"Lake Effect\", tweet)\n",
        "    tweet = re.sub(r\"RTphotographyUK\", \"Richard Thomas Photography UK\", tweet)\n",
        "    tweet = re.sub(r\"BigBang_CBS\", \"Big Bang CBS\", tweet)\n",
        "    tweet = re.sub(r\"writerslife\", \"writers life\", tweet)\n",
        "    tweet = re.sub(r\"NaturalBirth\", \"Natural Birth\", tweet)\n",
        "    tweet = re.sub(r\"UnusualWords\", \"Unusual Words\", tweet)\n",
        "    tweet = re.sub(r\"wizkhalifa\", \"Wiz Khalifa\", tweet)\n",
        "    tweet = re.sub(r\"acreativedc\", \"a creative DC\", tweet)\n",
        "    tweet = re.sub(r\"paulmyerscough\", \"Paul Myerscough\", tweet)\n",
        "    tweet = re.sub(r\"georgegallagher\", \"George Gallagher\", tweet)\n",
        "    tweet = re.sub(r\"JimmieJohnson\", \"Jimmie Johnson\", tweet)\n",
        "    tweet = re.sub(r\"pctool\", \"pc tool\", tweet)\n",
        "    tweet = re.sub(r\"DoingHashtagsRight\", \"Doing Hashtags Right\", tweet)\n",
        "    tweet = re.sub(r\"ThrowbackThursday\", \"Throwback Thursday\", tweet)\n",
        "    tweet = re.sub(r\"SnowBackSunday\", \"Snowback Sunday\", tweet)\n",
        "    tweet = re.sub(r\"LakeEffect\", \"Lake Effect\", tweet)\n",
        "    tweet = re.sub(r\"RTphotographyUK\", \"Richard Thomas Photography UK\", tweet)\n",
        "    tweet = re.sub(r\"BigBang_CBS\", \"Big Bang CBS\", tweet)\n",
        "    tweet = re.sub(r\"writerslife\", \"writers life\", tweet)\n",
        "    tweet = re.sub(r\"NaturalBirth\", \"Natural Birth\", tweet)\n",
        "    tweet = re.sub(r\"UnusualWords\", \"Unusual Words\", tweet)\n",
        "    tweet = re.sub(r\"wizkhalifa\", \"Wiz Khalifa\", tweet)\n",
        "    tweet = re.sub(r\"acreativedc\", \"a creative DC\", tweet)\n",
        "    tweet = re.sub(r\"SyrianRefugees\", \"Syrian Refugees\", tweet)\n",
        "    tweet = re.sub(r\"changetheworld\", \"change the world\", tweet)\n",
        "    tweet = re.sub(r\"Ebolacase\", \"Ebola case\", tweet)\n",
        "    tweet = re.sub(r\"mcgtech\", \"mcg technologies\", tweet)\n",
        "    tweet = re.sub(r\"withweapons\", \"with weapons\", tweet)\n",
        "    tweet = re.sub(r\"advancedwarfare\", \"advanced warfare\", tweet)\n",
        "    tweet = re.sub(r\"letsFootball\", \"let us Football\", tweet)\n",
        "    tweet = re.sub(r\"LateNiteMix\", \"late night mix\", tweet)\n",
        "    tweet = re.sub(r\"PhilCollinsFeed\", \"Phil Collins\", tweet)\n",
        "    tweet = re.sub(r\"RudyHavenstein\", \"Rudy Havenstein\", tweet)\n",
        "    tweet = re.sub(r\"22PM\", \"22 PM\", tweet)\n",
        "    tweet = re.sub(r\"54am\", \"54 AM\", tweet)\n",
        "    tweet = re.sub(r\"38am\", \"38 AM\", tweet)\n",
        "    tweet = re.sub(r\"OldFolkExplainStuff\", \"Old Folk Explain Stuff\", tweet)\n",
        "    tweet = re.sub(r\"BlacklivesMatter\", \"Black Lives Matter\", tweet)\n",
        "    tweet = re.sub(r\"InsaneLimits\", \"Insane Limits\", tweet)\n",
        "    tweet = re.sub(r\"youcantsitwithus\", \"you cannot sit with us\", tweet)\n",
        "    tweet = re.sub(r\"2k15\", \"2015\", tweet)\n",
        "    tweet = re.sub(r\"TheIran\", \"Iran\", tweet)\n",
        "    tweet = re.sub(r\"JimmyFallon\", \"Jimmy Fallon\", tweet)\n",
        "    tweet = re.sub(r\"AlbertBrooks\", \"Albert Brooks\", tweet)\n",
        "    tweet = re.sub(r\"defense_news\", \"defense news\", tweet)\n",
        "    tweet = re.sub(r\"nuclearrcSA\", \"Nuclear Risk Control Self Assessment\", tweet)\n",
        "    tweet = re.sub(r\"Auspol\", \"Australia Politics\", tweet)\n",
        "    tweet = re.sub(r\"NuclearPower\", \"Nuclear Power\", tweet)\n",
        "    tweet = re.sub(r\"WhiteTerrorism\", \"White Terrorism\", tweet)\n",
        "    tweet = re.sub(r\"truthfrequencyradio\", \"Truth Frequency Radio\", tweet)\n",
        "    tweet = re.sub(r\"ErasureIsNotEquality\", \"Erasure is not equality\", tweet)\n",
        "    tweet = re.sub(r\"ProBonoNews\", \"Pro Bono News\", tweet)\n",
        "    tweet = re.sub(r\"JakartaPost\", \"Jakarta Post\", tweet)\n",
        "    tweet = re.sub(r\"toopainful\", \"too painful\", tweet)\n",
        "    tweet = re.sub(r\"melindahaunton\", \"Melinda Haunton\", tweet)\n",
        "    tweet = re.sub(r\"NoNukes\", \"No Nukes\", tweet)\n",
        "    tweet = re.sub(r\"curryspcworld\", \"Currys PC World\", tweet)\n",
        "    tweet = re.sub(r\"ineedcake\", \"I need cake\", tweet)\n",
        "    tweet = re.sub(r\"blackforestgateau\", \"black forest gateau\", tweet)\n",
        "    tweet = re.sub(r\"BBCOne\", \"BBC One\", tweet)\n",
        "    tweet = re.sub(r\"AlexxPage\", \"Alex Page\", tweet)\n",
        "    tweet = re.sub(r\"jonathanserrie\", \"Jonathan Serrie\", tweet)\n",
        "    tweet = re.sub(r\"SocialJerkBlog\", \"Social Jerk Blog\", tweet)\n",
        "    tweet = re.sub(r\"ChelseaVPeretti\", \"Chelsea Peretti\", tweet)\n",
        "    tweet = re.sub(r\"irongiant\", \"iron giant\", tweet)\n",
        "    tweet = re.sub(r\"RonFunches\", \"Ron Funches\", tweet)\n",
        "    tweet = re.sub(r\"TimCook\", \"Tim Cook\", tweet)\n",
        "    tweet = re.sub(r\"sebastianstanisaliveandwell\", \"Sebastian Stan is alive and well\", tweet)\n",
        "    tweet = re.sub(r\"Madsummer\", \"Mad summer\", tweet)\n",
        "    tweet = re.sub(r\"NowYouKnow\", \"Now you know\", tweet)\n",
        "    tweet = re.sub(r\"concertphotography\", \"concert photography\", tweet)\n",
        "    tweet = re.sub(r\"TomLandry\", \"Tom Landry\", tweet)\n",
        "    tweet = re.sub(r\"showgirldayoff\", \"show girl day off\", tweet)\n",
        "    tweet = re.sub(r\"Yougslavia\", \"Yugoslavia\", tweet)\n",
        "    tweet = re.sub(r\"QuantumDataInformatics\", \"Quantum Data Informatics\", tweet)\n",
        "    tweet = re.sub(r\"FromTheDesk\", \"From The Desk\", tweet)\n",
        "    tweet = re.sub(r\"TheaterTrial\", \"Theater Trial\", tweet)\n",
        "    tweet = re.sub(r\"CatoInstitute\", \"Cato Institute\", tweet)\n",
        "    tweet = re.sub(r\"EmekaGift\", \"Emeka Gift\", tweet)\n",
        "    tweet = re.sub(r\"LetsBe_Rational\", \"Let us be rational\", tweet)\n",
        "    tweet = re.sub(r\"Cynicalreality\", \"Cynical reality\", tweet)\n",
        "    tweet = re.sub(r\"FredOlsenCruise\", \"Fred Olsen Cruise\", tweet)\n",
        "    tweet = re.sub(r\"NotSorry\", \"not sorry\", tweet)\n",
        "    tweet = re.sub(r\"UseYourWords\", \"use your words\", tweet)\n",
        "    tweet = re.sub(r\"WordoftheDay\", \"word of the day\", tweet)\n",
        "    tweet = re.sub(r\"Dictionarycom\", \"Dictionary.com\", tweet)\n",
        "    tweet = re.sub(r\"TheBrooklynLife\", \"The Brooklyn Life\", tweet)\n",
        "    tweet = re.sub(r\"jokethey\", \"joke they\", tweet)\n",
        "    tweet = re.sub(r\"nflweek1picks\", \"NFL week 1 picks\", tweet)\n",
        "    tweet = re.sub(r\"uiseful\", \"useful\", tweet)\n",
        "    tweet = re.sub(r\"JusticeDotOrg\", \"The American Association for Justice\", tweet)\n",
        "    tweet = re.sub(r\"autoaccidents\", \"auto accidents\", tweet)\n",
        "    tweet = re.sub(r\"SteveGursten\", \"Steve Gursten\", tweet)\n",
        "    tweet = re.sub(r\"MichiganAutoLaw\", \"Michigan Auto Law\", tweet)\n",
        "    tweet = re.sub(r\"birdgang\", \"bird gang\", tweet)\n",
        "    tweet = re.sub(r\"nflnetwork\", \"NFL Network\", tweet)\n",
        "    tweet = re.sub(r\"NYDNSports\", \"NY Daily News Sports\", tweet)\n",
        "    tweet = re.sub(r\"RVacchianoNYDN\", \"Ralph Vacchiano NY Daily News\", tweet)\n",
        "    tweet = re.sub(r\"EdmontonEsks\", \"Edmonton Eskimos\", tweet)\n",
        "    tweet = re.sub(r\"david_brelsford\", \"David Brelsford\", tweet)\n",
        "    tweet = re.sub(r\"TOI_India\", \"The Times of India\", tweet)\n",
        "    tweet = re.sub(r\"hegot\", \"he got\", tweet)\n",
        "    tweet = re.sub(r\"SkinsOn9\", \"Skins on 9\", tweet)\n",
        "    tweet = re.sub(r\"sothathappened\", \"so that happened\", tweet)\n",
        "    tweet = re.sub(r\"LCOutOfDoors\", \"LC Out Of Doors\", tweet)\n",
        "    tweet = re.sub(r\"NationFirst\", \"Nation First\", tweet)\n",
        "    tweet = re.sub(r\"IndiaToday\", \"India Today\", tweet)\n",
        "    tweet = re.sub(r\"HLPS\", \"helps\", tweet)\n",
        "    tweet = re.sub(r\"HOSTAGESTHROSW\", \"hostages throw\", tweet)\n",
        "    tweet = re.sub(r\"SNCTIONS\", \"sanctions\", tweet)\n",
        "    tweet = re.sub(r\"BidTime\", \"Bid Time\", tweet)\n",
        "    tweet = re.sub(r\"crunchysensible\", \"crunchy sensible\", tweet)\n",
        "    tweet = re.sub(r\"RandomActsOfRomance\", \"Random acts of romance\", tweet)\n",
        "    tweet = re.sub(r\"MomentsAtHill\", \"Moments at hill\", tweet)\n",
        "    tweet = re.sub(r\"eatshit\", \"eat shit\", tweet)\n",
        "    tweet = re.sub(r\"liveleakfun\", \"live leak fun\", tweet)\n",
        "    tweet = re.sub(r\"SahelNews\", \"Sahel News\", tweet)\n",
        "    tweet = re.sub(r\"abc7newsbayarea\", \"ABC 7 News Bay Area\", tweet)\n",
        "    tweet = re.sub(r\"facilitiesmanagement\", \"facilities management\", tweet)\n",
        "    tweet = re.sub(r\"facilitydude\", \"facility dude\", tweet)\n",
        "    tweet = re.sub(r\"CampLogistics\", \"Camp logistics\", tweet)\n",
        "    tweet = re.sub(r\"alaskapublic\", \"Alaska public\", tweet)\n",
        "    tweet = re.sub(r\"MarketResearch\", \"Market Research\", tweet)\n",
        "    tweet = re.sub(r\"AccuracyEsports\", \"Accuracy Esports\", tweet)\n",
        "    tweet = re.sub(r\"TheBodyShopAust\", \"The Body Shop Australia\", tweet)\n",
        "    tweet = re.sub(r\"yychail\", \"Calgary hail\", tweet)\n",
        "    tweet = re.sub(r\"yyctraffic\", \"Calgary traffic\", tweet)\n",
        "    tweet = re.sub(r\"eliotschool\", \"eliot school\", tweet)\n",
        "    tweet = re.sub(r\"TheBrokenCity\", \"The Broken City\", tweet)\n",
        "    tweet = re.sub(r\"OldsFireDept\", \"Olds Fire Department\", tweet)\n",
        "    tweet = re.sub(r\"RiverComplex\", \"River Complex\", tweet)\n",
        "    tweet = re.sub(r\"fieldworksmells\", \"field work smells\", tweet)\n",
        "    tweet = re.sub(r\"IranElection\", \"Iran Election\", tweet)\n",
        "    tweet = re.sub(r\"glowng\", \"glowing\", tweet)\n",
        "    tweet = re.sub(r\"kindlng\", \"kindling\", tweet)\n",
        "    tweet = re.sub(r\"riggd\", \"rigged\", tweet)\n",
        "    tweet = re.sub(r\"slownewsday\", \"slow news day\", tweet)\n",
        "    tweet = re.sub(r\"MyanmarFlood\", \"Myanmar Flood\", tweet)\n",
        "    tweet = re.sub(r\"abc7chicago\", \"ABC 7 Chicago\", tweet)\n",
        "    tweet = re.sub(r\"copolitics\", \"Colorado Politics\", tweet)\n",
        "    tweet = re.sub(r\"AdilGhumro\", \"Adil Ghumro\", tweet)\n",
        "    tweet = re.sub(r\"netbots\", \"net bots\", tweet)\n",
        "    tweet = re.sub(r\"byebyeroad\", \"bye bye road\", tweet)\n",
        "    tweet = re.sub(r\"massiveflooding\", \"massive flooding\", tweet)\n",
        "    tweet = re.sub(r\"EndofUS\", \"End of United States\", tweet)\n",
        "    tweet = re.sub(r\"35PM\", \"35 PM\", tweet)\n",
        "    tweet = re.sub(r\"greektheatrela\", \"Greek Theatre Los Angeles\", tweet)\n",
        "    tweet = re.sub(r\"76mins\", \"76 minutes\", tweet)\n",
        "    tweet = re.sub(r\"publicsafetyfirst\", \"public safety first\", tweet)\n",
        "    tweet = re.sub(r\"livesmatter\", \"lives matter\", tweet)\n",
        "    tweet = re.sub(r\"myhometown\", \"my hometown\", tweet)\n",
        "    tweet = re.sub(r\"tankerfire\", \"tanker fire\", tweet)\n",
        "    tweet = re.sub(r\"MEMORIALDAY\", \"memorial day\", tweet)\n",
        "    tweet = re.sub(r\"MEMORIAL_DAY\", \"memorial day\", tweet)\n",
        "    tweet = re.sub(r\"instaxbooty\", \"instagram booty\", tweet)\n",
        "    tweet = re.sub(r\"Jerusalem_Post\", \"Jerusalem Post\", tweet)\n",
        "    tweet = re.sub(r\"WayneRooney_INA\", \"Wayne Rooney\", tweet)\n",
        "    tweet = re.sub(r\"VirtualReality\", \"Virtual Reality\", tweet)\n",
        "    tweet = re.sub(r\"OculusRift\", \"Oculus Rift\", tweet)\n",
        "    tweet = re.sub(r\"OwenJones84\", \"Owen Jones\", tweet)\n",
        "    tweet = re.sub(r\"jeremycorbyn\", \"Jeremy Corbyn\", tweet)\n",
        "    tweet = re.sub(r\"paulrogers002\", \"Paul Rogers\", tweet)\n",
        "    tweet = re.sub(r\"mortalkombatx\", \"Mortal Kombat X\", tweet)\n",
        "    tweet = re.sub(r\"mortalkombat\", \"Mortal Kombat\", tweet)\n",
        "    tweet = re.sub(r\"FilipeCoelho92\", \"Filipe Coelho\", tweet)\n",
        "    tweet = re.sub(r\"OnlyQuakeNews\", \"Only Quake News\", tweet)\n",
        "    tweet = re.sub(r\"kostumes\", \"costumes\", tweet)\n",
        "    tweet = re.sub(r\"YEEESSSS\", \"yes\", tweet)\n",
        "    tweet = re.sub(r\"ToshikazuKatayama\", \"Toshikazu Katayama\", tweet)\n",
        "    tweet = re.sub(r\"IntlDevelopment\", \"Intl Development\", tweet)\n",
        "    tweet = re.sub(r\"ExtremeWeather\", \"Extreme Weather\", tweet)\n",
        "    tweet = re.sub(r\"WereNotGruberVoters\", \"We are not gruber voters\", tweet)\n",
        "    tweet = re.sub(r\"NewsThousands\", \"News Thousands\", tweet)\n",
        "    tweet = re.sub(r\"EdmundAdamus\", \"Edmund Adamus\", tweet)\n",
        "    tweet = re.sub(r\"EyewitnessWV\", \"Eye witness WV\", tweet)\n",
        "    tweet = re.sub(r\"PhiladelphiaMuseu\", \"Philadelphia Museum\", tweet)\n",
        "    tweet = re.sub(r\"DublinComicCon\", \"Dublin Comic Con\", tweet)\n",
        "    tweet = re.sub(r\"NicholasBrendon\", \"Nicholas Brendon\", tweet)\n",
        "    tweet = re.sub(r\"Alltheway80s\", \"All the way 80s\", tweet)\n",
        "    tweet = re.sub(r\"FromTheField\", \"From the field\", tweet)\n",
        "    tweet = re.sub(r\"NorthIowa\", \"North Iowa\", tweet)\n",
        "    tweet = re.sub(r\"WillowFire\", \"Willow Fire\", tweet)\n",
        "    tweet = re.sub(r\"MadRiverComplex\", \"Mad River Complex\", tweet)\n",
        "    tweet = re.sub(r\"feelingmanly\", \"feeling manly\", tweet)\n",
        "    tweet = re.sub(r\"stillnotoverit\", \"still not over it\", tweet)\n",
        "    tweet = re.sub(r\"FortitudeValley\", \"Fortitude Valley\", tweet)\n",
        "    tweet = re.sub(r\"CoastpowerlineTramTr\", \"Coast powerline\", tweet)\n",
        "    tweet = re.sub(r\"ServicesGold\", \"Services Gold\", tweet)\n",
        "    tweet = re.sub(r\"NewsbrokenEmergency\", \"News broken emergency\", tweet)\n",
        "    tweet = re.sub(r\"Evaucation\", \"evacuation\", tweet)\n",
        "    tweet = re.sub(r\"leaveevacuateexitbe\", \"leave evacuate exit be\", tweet)\n",
        "    tweet = re.sub(r\"P_EOPLE\", \"PEOPLE\", tweet)\n",
        "    tweet = re.sub(r\"Tubestrike\", \"tube strike\", tweet)\n",
        "    tweet = re.sub(r\"CLASS_SICK\", \"CLASS SICK\", tweet)\n",
        "    tweet = re.sub(r\"localplumber\", \"local plumber\", tweet)\n",
        "    tweet = re.sub(r\"awesomejobsiri\", \"awesome job siri\", tweet)\n",
        "    tweet = re.sub(r\"PayForItHow\", \"Pay for it how\", tweet)\n",
        "    tweet = re.sub(r\"ThisIsAfrica\", \"This is Africa\", tweet)\n",
        "    tweet = re.sub(r\"crimeairnetwork\", \"crime air network\", tweet)\n",
        "    tweet = re.sub(r\"KimAcheson\", \"Kim Acheson\", tweet)\n",
        "    tweet = re.sub(r\"cityofcalgary\", \"City of Calgary\", tweet)\n",
        "    tweet = re.sub(r\"prosyndicate\", \"pro syndicate\", tweet)\n",
        "    tweet = re.sub(r\"660NEWS\", \"660 NEWS\", tweet)\n",
        "    tweet = re.sub(r\"BusInsMagazine\", \"Business Insurance Magazine\", tweet)\n",
        "    tweet = re.sub(r\"wfocus\", \"focus\", tweet)\n",
        "    tweet = re.sub(r\"ShastaDam\", \"Shasta Dam\", tweet)\n",
        "    tweet = re.sub(r\"go2MarkFranco\", \"Mark Franco\", tweet)\n",
        "    tweet = re.sub(r\"StephGHinojosa\", \"Steph Hinojosa\", tweet)\n",
        "    tweet = re.sub(r\"Nashgrier\", \"Nash Grier\", tweet)\n",
        "    tweet = re.sub(r\"NashNewVideo\", \"Nash new video\", tweet)\n",
        "    tweet = re.sub(r\"IWouldntGetElectedBecause\", \"I would not get elected because\", tweet)\n",
        "    tweet = re.sub(r\"SHGames\", \"Sledgehammer Games\", tweet)\n",
        "    tweet = re.sub(r\"bedhair\", \"bed hair\", tweet)\n",
        "    tweet = re.sub(r\"JoelHeyman\", \"Joel Heyman\", tweet)\n",
        "    tweet = re.sub(r\"viaYouTube\", \"via YouTube\", tweet)\n",
        "    return tweet"
      ],
      "metadata": {
        "id": "D3eS2HAuou5Z"
      },
      "execution_count": null,
      "outputs": []
    },
    {
      "cell_type": "code",
      "execution_count": null,
      "metadata": {
        "id": "5HkJmWOj9gDb"
      },
      "outputs": [],
      "source": [
        "# Function for removing urls\n",
        "#https://stackoverflow.com/questions/11331982/how-to-remove-any-url-within-a-string-in-python\n",
        "#https://regex101.com/r/rP6sA9/1/debugger used to test our regular expression\n",
        "def url_remover(text):\n",
        "    url_patterns = re.sub(r'''(?i)\\b((?:https?://|www\\d{0,3}[.]|[a-z0-9.\\-]+[.][a-z]{2,4}/)(?:[^\\s()<>]+|\\(([^\\s()<>]+|(\\([^\\s()<>]+\\)))*\\))+(?:\\(([^\\s()<>]+|(\\([^\\s()<>]+\\)))*\\)|[^\\s`!()\\[\\]{};:'\".,<>?«»“”‘’]))''', \" \", text)\n",
        "    return url_patterns"
      ]
    },
    {
      "cell_type": "code",
      "execution_count": null,
      "metadata": {
        "colab": {
          "base_uri": "https://localhost:8080/"
        },
        "id": "KGrwEUKYvs4N",
        "outputId": "73287f5d-cbbe-4686-dec4-1108a260df17"
      },
      "outputs": [
        {
          "output_type": "stream",
          "name": "stderr",
          "text": [
            "100%|██████████| 7613/7613 [00:14<00:00, 529.77it/s]\n"
          ]
        }
      ],
      "source": [
        "# Starts with basic preprocessing steps\n",
        "#https://www.analyticsvidhya.com/blog/2021/06/text-preprocessing-in-nlp-with-python-codes/\n",
        "from nltk.stem import WordNetLemmatizer\n",
        "wl = WordNetLemmatizer()\n",
        "def preprocessing(text,remove_emojis=True):\n",
        "  tweets = []\n",
        "  for sentence in tqdm(text):\n",
        "    #sentence = spacebetweenword(sentence)\n",
        "    sentence = sentence.lower() # converting the words to lower case\n",
        "    sentence =  url_remover(sentence) # removing the url from the sentence\n",
        "    sentence = re.sub(r'@w+',  '', sentence).strip() # removing the words starts with \"@\"\n",
        "    sentence = contractionfun(sentence)\n",
        "    sentence = re.sub(\"[^a-zA-Z0-9 ']\", \" \", sentence) # removing symbols\n",
        "    sentence = sentence.replace(\"'\",\"\")\n",
        "    if remove_emojis:\n",
        "      sentence = sentence.encode('ascii', 'ignore').decode('utf8').strip()\n",
        "    sentence = sentence.split()\n",
        "    sentence1 = [wl.lemmatize(word) for word in sentence if word not in set(stopwords.words(\"english\"))] #lemmatization and stopwords removal from tweets\n",
        "    sentence1 = \" \".join(sentence1)\n",
        "    tweets.append(sentence1)\n",
        "  return tweets\n",
        "tweets = preprocessing(df_train['text'])"
      ]
    },
    {
      "cell_type": "code",
      "execution_count": null,
      "metadata": {
        "colab": {
          "base_uri": "https://localhost:8080/",
          "height": 36
        },
        "id": "m9plt1y5vssR",
        "outputId": "59228967-83fd-48e8-be23-d073318be8e4"
      },
      "outputs": [
        {
          "output_type": "execute_result",
          "data": {
            "text/plain": [
              "'Owner of Chicago-Area Gay Bar Admits to Arson Scheme http://t.co/0TSlQjOKvh via @theadvocatemag #LGBT'"
            ],
            "application/vnd.google.colaboratory.intrinsic+json": {
              "type": "string"
            }
          },
          "metadata": {},
          "execution_count": 18
        }
      ],
      "source": [
        "df_train['text'][400]"
      ]
    },
    {
      "cell_type": "code",
      "execution_count": null,
      "metadata": {
        "colab": {
          "base_uri": "https://localhost:8080/",
          "height": 36
        },
        "id": "oot0GKJZCXx7",
        "outputId": "3f200195-3ef0-4904-bb7d-44ee549f9c8a"
      },
      "outputs": [
        {
          "output_type": "execute_result",
          "data": {
            "text/plain": [
              "'owner chicago area gay bar admits arson scheme via theadvocatemag lgbt'"
            ],
            "application/vnd.google.colaboratory.intrinsic+json": {
              "type": "string"
            }
          },
          "metadata": {},
          "execution_count": 19
        }
      ],
      "source": [
        "tweets[400]"
      ]
    },
    {
      "cell_type": "code",
      "execution_count": null,
      "metadata": {
        "id": "ImLig2HQhlAd"
      },
      "outputs": [],
      "source": [
        "df_train[\"clean_text\"]=pd.DataFrame(tweets)"
      ]
    },
    {
      "cell_type": "code",
      "execution_count": null,
      "metadata": {
        "id": "7AB2Mu5qGn62"
      },
      "outputs": [],
      "source": [
        "# Since Keyword and location has more number of unique words and NAN Value so neglected as of now. First try to build using TEXT column only. If required will use keyword and location column data\n",
        "x=pd.DataFrame(tweets)\n",
        "y=df_train[\"target\"]"
      ]
    },
    {
      "cell_type": "code",
      "execution_count": null,
      "metadata": {
        "colab": {
          "base_uri": "https://localhost:8080/",
          "height": 424
        },
        "id": "0CfxtcRU9dJH",
        "outputId": "7ed3360b-e236-4b54-cac2-839123c169f7"
      },
      "outputs": [
        {
          "output_type": "execute_result",
          "data": {
            "text/plain": [
              "                                                      0\n",
              "0            deed reason earthquake may allah forgive u\n",
              "1                 forest fire near la ronge sask canada\n",
              "2     resident asked shelter place notified officer ...\n",
              "3     13 000 people receive wildfire evacuation orde...\n",
              "4     got sent photo ruby alaska smoke wildfire pour...\n",
              "...                                                 ...\n",
              "7608  two giant crane holding bridge collapse nearby...\n",
              "7609  aria ahrary thetawniest control wild fire cali...\n",
              "7610                 m1 94 01 04 utc 5km volcano hawaii\n",
              "7611  police investigating e bike collided car littl...\n",
              "7612  latest home razed northern california wildfire...\n",
              "\n",
              "[7613 rows x 1 columns]"
            ],
            "text/html": [
              "\n",
              "  <div id=\"df-adb07f30-ccea-41c1-9c7a-e8cede03ab65\">\n",
              "    <div class=\"colab-df-container\">\n",
              "      <div>\n",
              "<style scoped>\n",
              "    .dataframe tbody tr th:only-of-type {\n",
              "        vertical-align: middle;\n",
              "    }\n",
              "\n",
              "    .dataframe tbody tr th {\n",
              "        vertical-align: top;\n",
              "    }\n",
              "\n",
              "    .dataframe thead th {\n",
              "        text-align: right;\n",
              "    }\n",
              "</style>\n",
              "<table border=\"1\" class=\"dataframe\">\n",
              "  <thead>\n",
              "    <tr style=\"text-align: right;\">\n",
              "      <th></th>\n",
              "      <th>0</th>\n",
              "    </tr>\n",
              "  </thead>\n",
              "  <tbody>\n",
              "    <tr>\n",
              "      <th>0</th>\n",
              "      <td>deed reason earthquake may allah forgive u</td>\n",
              "    </tr>\n",
              "    <tr>\n",
              "      <th>1</th>\n",
              "      <td>forest fire near la ronge sask canada</td>\n",
              "    </tr>\n",
              "    <tr>\n",
              "      <th>2</th>\n",
              "      <td>resident asked shelter place notified officer ...</td>\n",
              "    </tr>\n",
              "    <tr>\n",
              "      <th>3</th>\n",
              "      <td>13 000 people receive wildfire evacuation orde...</td>\n",
              "    </tr>\n",
              "    <tr>\n",
              "      <th>4</th>\n",
              "      <td>got sent photo ruby alaska smoke wildfire pour...</td>\n",
              "    </tr>\n",
              "    <tr>\n",
              "      <th>...</th>\n",
              "      <td>...</td>\n",
              "    </tr>\n",
              "    <tr>\n",
              "      <th>7608</th>\n",
              "      <td>two giant crane holding bridge collapse nearby...</td>\n",
              "    </tr>\n",
              "    <tr>\n",
              "      <th>7609</th>\n",
              "      <td>aria ahrary thetawniest control wild fire cali...</td>\n",
              "    </tr>\n",
              "    <tr>\n",
              "      <th>7610</th>\n",
              "      <td>m1 94 01 04 utc 5km volcano hawaii</td>\n",
              "    </tr>\n",
              "    <tr>\n",
              "      <th>7611</th>\n",
              "      <td>police investigating e bike collided car littl...</td>\n",
              "    </tr>\n",
              "    <tr>\n",
              "      <th>7612</th>\n",
              "      <td>latest home razed northern california wildfire...</td>\n",
              "    </tr>\n",
              "  </tbody>\n",
              "</table>\n",
              "<p>7613 rows × 1 columns</p>\n",
              "</div>\n",
              "      <button class=\"colab-df-convert\" onclick=\"convertToInteractive('df-adb07f30-ccea-41c1-9c7a-e8cede03ab65')\"\n",
              "              title=\"Convert this dataframe to an interactive table.\"\n",
              "              style=\"display:none;\">\n",
              "        \n",
              "  <svg xmlns=\"http://www.w3.org/2000/svg\" height=\"24px\"viewBox=\"0 0 24 24\"\n",
              "       width=\"24px\">\n",
              "    <path d=\"M0 0h24v24H0V0z\" fill=\"none\"/>\n",
              "    <path d=\"M18.56 5.44l.94 2.06.94-2.06 2.06-.94-2.06-.94-.94-2.06-.94 2.06-2.06.94zm-11 1L8.5 8.5l.94-2.06 2.06-.94-2.06-.94L8.5 2.5l-.94 2.06-2.06.94zm10 10l.94 2.06.94-2.06 2.06-.94-2.06-.94-.94-2.06-.94 2.06-2.06.94z\"/><path d=\"M17.41 7.96l-1.37-1.37c-.4-.4-.92-.59-1.43-.59-.52 0-1.04.2-1.43.59L10.3 9.45l-7.72 7.72c-.78.78-.78 2.05 0 2.83L4 21.41c.39.39.9.59 1.41.59.51 0 1.02-.2 1.41-.59l7.78-7.78 2.81-2.81c.8-.78.8-2.07 0-2.86zM5.41 20L4 18.59l7.72-7.72 1.47 1.35L5.41 20z\"/>\n",
              "  </svg>\n",
              "      </button>\n",
              "      \n",
              "  <style>\n",
              "    .colab-df-container {\n",
              "      display:flex;\n",
              "      flex-wrap:wrap;\n",
              "      gap: 12px;\n",
              "    }\n",
              "\n",
              "    .colab-df-convert {\n",
              "      background-color: #E8F0FE;\n",
              "      border: none;\n",
              "      border-radius: 50%;\n",
              "      cursor: pointer;\n",
              "      display: none;\n",
              "      fill: #1967D2;\n",
              "      height: 32px;\n",
              "      padding: 0 0 0 0;\n",
              "      width: 32px;\n",
              "    }\n",
              "\n",
              "    .colab-df-convert:hover {\n",
              "      background-color: #E2EBFA;\n",
              "      box-shadow: 0px 1px 2px rgba(60, 64, 67, 0.3), 0px 1px 3px 1px rgba(60, 64, 67, 0.15);\n",
              "      fill: #174EA6;\n",
              "    }\n",
              "\n",
              "    [theme=dark] .colab-df-convert {\n",
              "      background-color: #3B4455;\n",
              "      fill: #D2E3FC;\n",
              "    }\n",
              "\n",
              "    [theme=dark] .colab-df-convert:hover {\n",
              "      background-color: #434B5C;\n",
              "      box-shadow: 0px 1px 3px 1px rgba(0, 0, 0, 0.15);\n",
              "      filter: drop-shadow(0px 1px 2px rgba(0, 0, 0, 0.3));\n",
              "      fill: #FFFFFF;\n",
              "    }\n",
              "  </style>\n",
              "\n",
              "      <script>\n",
              "        const buttonEl =\n",
              "          document.querySelector('#df-adb07f30-ccea-41c1-9c7a-e8cede03ab65 button.colab-df-convert');\n",
              "        buttonEl.style.display =\n",
              "          google.colab.kernel.accessAllowed ? 'block' : 'none';\n",
              "\n",
              "        async function convertToInteractive(key) {\n",
              "          const element = document.querySelector('#df-adb07f30-ccea-41c1-9c7a-e8cede03ab65');\n",
              "          const dataTable =\n",
              "            await google.colab.kernel.invokeFunction('convertToInteractive',\n",
              "                                                     [key], {});\n",
              "          if (!dataTable) return;\n",
              "\n",
              "          const docLinkHtml = 'Like what you see? Visit the ' +\n",
              "            '<a target=\"_blank\" href=https://colab.research.google.com/notebooks/data_table.ipynb>data table notebook</a>'\n",
              "            + ' to learn more about interactive tables.';\n",
              "          element.innerHTML = '';\n",
              "          dataTable['output_type'] = 'display_data';\n",
              "          await google.colab.output.renderOutput(dataTable, element);\n",
              "          const docLink = document.createElement('div');\n",
              "          docLink.innerHTML = docLinkHtml;\n",
              "          element.appendChild(docLink);\n",
              "        }\n",
              "      </script>\n",
              "    </div>\n",
              "  </div>\n",
              "  "
            ]
          },
          "metadata": {},
          "execution_count": 22
        }
      ],
      "source": [
        "x"
      ]
    },
    {
      "cell_type": "code",
      "execution_count": null,
      "metadata": {
        "colab": {
          "base_uri": "https://localhost:8080/"
        },
        "id": "Us9yMLEaEG-P",
        "outputId": "47cf00f8-2059-402c-c47c-cccd7d086766"
      },
      "outputs": [
        {
          "output_type": "execute_result",
          "data": {
            "text/plain": [
              "0       1\n",
              "1       1\n",
              "2       1\n",
              "3       1\n",
              "4       1\n",
              "       ..\n",
              "7608    1\n",
              "7609    1\n",
              "7610    1\n",
              "7611    1\n",
              "7612    1\n",
              "Name: target, Length: 7613, dtype: int64"
            ]
          },
          "metadata": {},
          "execution_count": 23
        }
      ],
      "source": [
        "y"
      ]
    },
    {
      "cell_type": "code",
      "execution_count": null,
      "metadata": {
        "colab": {
          "base_uri": "https://localhost:8080/"
        },
        "id": "-7hm57IdI9BN",
        "outputId": "a40d9cd4-05d8-4d2a-bf55-bf6a5fa42787"
      },
      "outputs": [
        {
          "output_type": "stream",
          "name": "stderr",
          "text": [
            "100%|██████████| 3263/3263 [00:05<00:00, 620.04it/s]\n"
          ]
        }
      ],
      "source": [
        "tweets_test = preprocessing(df_test['text'])"
      ]
    },
    {
      "cell_type": "code",
      "execution_count": null,
      "metadata": {
        "id": "XP6KsXZ7JG-J"
      },
      "outputs": [],
      "source": [
        "x_test =pd.DataFrame(tweets_test)"
      ]
    },
    {
      "cell_type": "markdown",
      "metadata": {
        "id": "75VQfoH_yLsf"
      },
      "source": [
        "#lets try to add meta features and check the F1 score"
      ]
    },
    {
      "cell_type": "code",
      "execution_count": null,
      "metadata": {
        "id": "OGLhILj2iHIJ"
      },
      "outputs": [],
      "source": [
        "#https://www.kaggle.com/code/sudalairajkumar/simple-exploration-notebook-qiqc/notebook"
      ]
    },
    {
      "cell_type": "markdown",
      "metadata": {
        "id": "DQgqKxkSlZzl"
      },
      "source": [
        "The meta features used for the analysis are;\n",
        "\n",
        "*   **word_count** number of words in text\n",
        "*   **unique_word_count** number of unique words in text\n",
        "*   **stop_word_count** number of stop words in text\n",
        "*   **mean_word_length** average character count in words\n",
        "*   **char_count** number of characters in text\n",
        "*   **punctuation_count** number of punctuations in text\n",
        "\n"
      ]
    },
    {
      "cell_type": "code",
      "execution_count": null,
      "metadata": {
        "id": "Fxja8CyUmDzv"
      },
      "outputs": [],
      "source": [
        "# word_count\n",
        "df_train['word_count'] = df_train['text'].apply(lambda x: len(str(x).split()))\n",
        "df_test['word_count'] = df_test['text'].apply(lambda x: len(str(x).split()))\n",
        "\n",
        "# unique_word_count\n",
        "df_train['unique_word_count'] = df_train['text'].apply(lambda x: len(set(str(x).split())))\n",
        "df_test['unique_word_count'] = df_test['text'].apply(lambda x: len(set(str(x).split())))\n",
        "\n",
        "# stop_word_count\n",
        "df_train['stop_word_count'] = df_train['text'].apply(lambda x: len([w for w in str(x).lower().split() if w in stopwords.words(\"english\")]))\n",
        "df_test['stop_word_count'] = df_test['text'].apply(lambda x: len([w for w in str(x).lower().split() if w in stopwords.words(\"english\")]))\n",
        "\n",
        "# mean_word_length\n",
        "df_train['mean_word_length'] = df_train['text'].apply(lambda x: np.mean([len(w) for w in str(x).split()]))\n",
        "df_test['mean_word_length'] = df_test['text'].apply(lambda x: np.mean([len(w) for w in str(x).split()]))\n",
        "\n",
        "# char_count\n",
        "df_train['char_count'] = df_train['text'].apply(lambda x: len(str(x)))\n",
        "df_test['char_count'] = df_test['text'].apply(lambda x: len(str(x)))\n",
        "\n",
        "# punctuation_count\n",
        "df_train['punctuation_count'] = df_train['text'].apply(lambda x: len([c for c in str(x) if c in string.punctuation]))\n",
        "df_test['punctuation_count'] = df_test['text'].apply(lambda x: len([c for c in str(x) if c in string.punctuation]))\n"
      ]
    },
    {
      "cell_type": "code",
      "execution_count": null,
      "metadata": {
        "colab": {
          "base_uri": "https://localhost:8080/"
        },
        "id": "jmz8-RxposRo",
        "outputId": "91118026-50a6-4d0a-9e12-febc8a79a90a"
      },
      "outputs": [
        {
          "output_type": "execute_result",
          "data": {
            "text/plain": [
              "Index(['id', 'keyword', 'location', 'text', 'target', 'clean_text',\n",
              "       'word_count', 'unique_word_count', 'stop_word_count',\n",
              "       'mean_word_length', 'char_count', 'punctuation_count'],\n",
              "      dtype='object')"
            ]
          },
          "metadata": {},
          "execution_count": 28
        }
      ],
      "source": [
        "df_train.columns"
      ]
    },
    {
      "cell_type": "code",
      "execution_count": null,
      "metadata": {
        "id": "02EVKuJSplfO"
      },
      "outputs": [],
      "source": [
        "X_train_meta =df_train[[\"word_count\",\"unique_word_count\",\"stop_word_count\",\"mean_word_length\",\"char_count\",\"punctuation_count\"]]"
      ]
    },
    {
      "cell_type": "code",
      "execution_count": null,
      "metadata": {
        "colab": {
          "base_uri": "https://localhost:8080/",
          "height": 424
        },
        "id": "4A67quDvrC2f",
        "outputId": "541a386a-1e7a-4941-d5d3-31a378d27344"
      },
      "outputs": [
        {
          "output_type": "execute_result",
          "data": {
            "text/plain": [
              "      word_count  unique_word_count  stop_word_count  mean_word_length  \\\n",
              "0             13                 13                6          4.384615   \n",
              "1              7                  7                0          4.571429   \n",
              "2             22                 20               11          5.090909   \n",
              "3              8                  8                1          7.125000   \n",
              "4             16                 15                7          4.500000   \n",
              "...          ...                ...              ...               ...   \n",
              "7608          11                 11                2          6.636364   \n",
              "7609          20                 17                9          5.300000   \n",
              "7610           8                  8                2          7.250000   \n",
              "7611          19                 19                5          6.263158   \n",
              "7612          13                 13                3          6.307692   \n",
              "\n",
              "      char_count  punctuation_count  \n",
              "0             69                  1  \n",
              "1             38                  1  \n",
              "2            133                  3  \n",
              "3             65                  2  \n",
              "4             88                  2  \n",
              "...          ...                ...  \n",
              "7608          83                  5  \n",
              "7609         125                  5  \n",
              "7610          65                 11  \n",
              "7611         137                  5  \n",
              "7612          94                  7  \n",
              "\n",
              "[7613 rows x 6 columns]"
            ],
            "text/html": [
              "\n",
              "  <div id=\"df-8826f144-a1e9-4a19-bc2d-709d3f25765a\">\n",
              "    <div class=\"colab-df-container\">\n",
              "      <div>\n",
              "<style scoped>\n",
              "    .dataframe tbody tr th:only-of-type {\n",
              "        vertical-align: middle;\n",
              "    }\n",
              "\n",
              "    .dataframe tbody tr th {\n",
              "        vertical-align: top;\n",
              "    }\n",
              "\n",
              "    .dataframe thead th {\n",
              "        text-align: right;\n",
              "    }\n",
              "</style>\n",
              "<table border=\"1\" class=\"dataframe\">\n",
              "  <thead>\n",
              "    <tr style=\"text-align: right;\">\n",
              "      <th></th>\n",
              "      <th>word_count</th>\n",
              "      <th>unique_word_count</th>\n",
              "      <th>stop_word_count</th>\n",
              "      <th>mean_word_length</th>\n",
              "      <th>char_count</th>\n",
              "      <th>punctuation_count</th>\n",
              "    </tr>\n",
              "  </thead>\n",
              "  <tbody>\n",
              "    <tr>\n",
              "      <th>0</th>\n",
              "      <td>13</td>\n",
              "      <td>13</td>\n",
              "      <td>6</td>\n",
              "      <td>4.384615</td>\n",
              "      <td>69</td>\n",
              "      <td>1</td>\n",
              "    </tr>\n",
              "    <tr>\n",
              "      <th>1</th>\n",
              "      <td>7</td>\n",
              "      <td>7</td>\n",
              "      <td>0</td>\n",
              "      <td>4.571429</td>\n",
              "      <td>38</td>\n",
              "      <td>1</td>\n",
              "    </tr>\n",
              "    <tr>\n",
              "      <th>2</th>\n",
              "      <td>22</td>\n",
              "      <td>20</td>\n",
              "      <td>11</td>\n",
              "      <td>5.090909</td>\n",
              "      <td>133</td>\n",
              "      <td>3</td>\n",
              "    </tr>\n",
              "    <tr>\n",
              "      <th>3</th>\n",
              "      <td>8</td>\n",
              "      <td>8</td>\n",
              "      <td>1</td>\n",
              "      <td>7.125000</td>\n",
              "      <td>65</td>\n",
              "      <td>2</td>\n",
              "    </tr>\n",
              "    <tr>\n",
              "      <th>4</th>\n",
              "      <td>16</td>\n",
              "      <td>15</td>\n",
              "      <td>7</td>\n",
              "      <td>4.500000</td>\n",
              "      <td>88</td>\n",
              "      <td>2</td>\n",
              "    </tr>\n",
              "    <tr>\n",
              "      <th>...</th>\n",
              "      <td>...</td>\n",
              "      <td>...</td>\n",
              "      <td>...</td>\n",
              "      <td>...</td>\n",
              "      <td>...</td>\n",
              "      <td>...</td>\n",
              "    </tr>\n",
              "    <tr>\n",
              "      <th>7608</th>\n",
              "      <td>11</td>\n",
              "      <td>11</td>\n",
              "      <td>2</td>\n",
              "      <td>6.636364</td>\n",
              "      <td>83</td>\n",
              "      <td>5</td>\n",
              "    </tr>\n",
              "    <tr>\n",
              "      <th>7609</th>\n",
              "      <td>20</td>\n",
              "      <td>17</td>\n",
              "      <td>9</td>\n",
              "      <td>5.300000</td>\n",
              "      <td>125</td>\n",
              "      <td>5</td>\n",
              "    </tr>\n",
              "    <tr>\n",
              "      <th>7610</th>\n",
              "      <td>8</td>\n",
              "      <td>8</td>\n",
              "      <td>2</td>\n",
              "      <td>7.250000</td>\n",
              "      <td>65</td>\n",
              "      <td>11</td>\n",
              "    </tr>\n",
              "    <tr>\n",
              "      <th>7611</th>\n",
              "      <td>19</td>\n",
              "      <td>19</td>\n",
              "      <td>5</td>\n",
              "      <td>6.263158</td>\n",
              "      <td>137</td>\n",
              "      <td>5</td>\n",
              "    </tr>\n",
              "    <tr>\n",
              "      <th>7612</th>\n",
              "      <td>13</td>\n",
              "      <td>13</td>\n",
              "      <td>3</td>\n",
              "      <td>6.307692</td>\n",
              "      <td>94</td>\n",
              "      <td>7</td>\n",
              "    </tr>\n",
              "  </tbody>\n",
              "</table>\n",
              "<p>7613 rows × 6 columns</p>\n",
              "</div>\n",
              "      <button class=\"colab-df-convert\" onclick=\"convertToInteractive('df-8826f144-a1e9-4a19-bc2d-709d3f25765a')\"\n",
              "              title=\"Convert this dataframe to an interactive table.\"\n",
              "              style=\"display:none;\">\n",
              "        \n",
              "  <svg xmlns=\"http://www.w3.org/2000/svg\" height=\"24px\"viewBox=\"0 0 24 24\"\n",
              "       width=\"24px\">\n",
              "    <path d=\"M0 0h24v24H0V0z\" fill=\"none\"/>\n",
              "    <path d=\"M18.56 5.44l.94 2.06.94-2.06 2.06-.94-2.06-.94-.94-2.06-.94 2.06-2.06.94zm-11 1L8.5 8.5l.94-2.06 2.06-.94-2.06-.94L8.5 2.5l-.94 2.06-2.06.94zm10 10l.94 2.06.94-2.06 2.06-.94-2.06-.94-.94-2.06-.94 2.06-2.06.94z\"/><path d=\"M17.41 7.96l-1.37-1.37c-.4-.4-.92-.59-1.43-.59-.52 0-1.04.2-1.43.59L10.3 9.45l-7.72 7.72c-.78.78-.78 2.05 0 2.83L4 21.41c.39.39.9.59 1.41.59.51 0 1.02-.2 1.41-.59l7.78-7.78 2.81-2.81c.8-.78.8-2.07 0-2.86zM5.41 20L4 18.59l7.72-7.72 1.47 1.35L5.41 20z\"/>\n",
              "  </svg>\n",
              "      </button>\n",
              "      \n",
              "  <style>\n",
              "    .colab-df-container {\n",
              "      display:flex;\n",
              "      flex-wrap:wrap;\n",
              "      gap: 12px;\n",
              "    }\n",
              "\n",
              "    .colab-df-convert {\n",
              "      background-color: #E8F0FE;\n",
              "      border: none;\n",
              "      border-radius: 50%;\n",
              "      cursor: pointer;\n",
              "      display: none;\n",
              "      fill: #1967D2;\n",
              "      height: 32px;\n",
              "      padding: 0 0 0 0;\n",
              "      width: 32px;\n",
              "    }\n",
              "\n",
              "    .colab-df-convert:hover {\n",
              "      background-color: #E2EBFA;\n",
              "      box-shadow: 0px 1px 2px rgba(60, 64, 67, 0.3), 0px 1px 3px 1px rgba(60, 64, 67, 0.15);\n",
              "      fill: #174EA6;\n",
              "    }\n",
              "\n",
              "    [theme=dark] .colab-df-convert {\n",
              "      background-color: #3B4455;\n",
              "      fill: #D2E3FC;\n",
              "    }\n",
              "\n",
              "    [theme=dark] .colab-df-convert:hover {\n",
              "      background-color: #434B5C;\n",
              "      box-shadow: 0px 1px 3px 1px rgba(0, 0, 0, 0.15);\n",
              "      filter: drop-shadow(0px 1px 2px rgba(0, 0, 0, 0.3));\n",
              "      fill: #FFFFFF;\n",
              "    }\n",
              "  </style>\n",
              "\n",
              "      <script>\n",
              "        const buttonEl =\n",
              "          document.querySelector('#df-8826f144-a1e9-4a19-bc2d-709d3f25765a button.colab-df-convert');\n",
              "        buttonEl.style.display =\n",
              "          google.colab.kernel.accessAllowed ? 'block' : 'none';\n",
              "\n",
              "        async function convertToInteractive(key) {\n",
              "          const element = document.querySelector('#df-8826f144-a1e9-4a19-bc2d-709d3f25765a');\n",
              "          const dataTable =\n",
              "            await google.colab.kernel.invokeFunction('convertToInteractive',\n",
              "                                                     [key], {});\n",
              "          if (!dataTable) return;\n",
              "\n",
              "          const docLinkHtml = 'Like what you see? Visit the ' +\n",
              "            '<a target=\"_blank\" href=https://colab.research.google.com/notebooks/data_table.ipynb>data table notebook</a>'\n",
              "            + ' to learn more about interactive tables.';\n",
              "          element.innerHTML = '';\n",
              "          dataTable['output_type'] = 'display_data';\n",
              "          await google.colab.output.renderOutput(dataTable, element);\n",
              "          const docLink = document.createElement('div');\n",
              "          docLink.innerHTML = docLinkHtml;\n",
              "          element.appendChild(docLink);\n",
              "        }\n",
              "      </script>\n",
              "    </div>\n",
              "  </div>\n",
              "  "
            ]
          },
          "metadata": {},
          "execution_count": 30
        }
      ],
      "source": [
        "X_train_meta"
      ]
    },
    {
      "cell_type": "code",
      "execution_count": null,
      "metadata": {
        "id": "Bga4fbVwscGK"
      },
      "outputs": [],
      "source": [
        "x_updated=df_train.drop(['id','keyword','location','text','target'],axis=1)"
      ]
    },
    {
      "cell_type": "code",
      "execution_count": null,
      "metadata": {
        "colab": {
          "base_uri": "https://localhost:8080/",
          "height": 424
        },
        "id": "-qzVthW8tEWD",
        "outputId": "df59742b-18ed-4fe1-fb76-68410ca47058"
      },
      "outputs": [
        {
          "output_type": "execute_result",
          "data": {
            "text/plain": [
              "                                             clean_text  word_count  \\\n",
              "0            deed reason earthquake may allah forgive u          13   \n",
              "1                 forest fire near la ronge sask canada           7   \n",
              "2     resident asked shelter place notified officer ...          22   \n",
              "3     13 000 people receive wildfire evacuation orde...           8   \n",
              "4     got sent photo ruby alaska smoke wildfire pour...          16   \n",
              "...                                                 ...         ...   \n",
              "7608  two giant crane holding bridge collapse nearby...          11   \n",
              "7609  aria ahrary thetawniest control wild fire cali...          20   \n",
              "7610                 m1 94 01 04 utc 5km volcano hawaii           8   \n",
              "7611  police investigating e bike collided car littl...          19   \n",
              "7612  latest home razed northern california wildfire...          13   \n",
              "\n",
              "      unique_word_count  stop_word_count  mean_word_length  char_count  \\\n",
              "0                    13                6          4.384615          69   \n",
              "1                     7                0          4.571429          38   \n",
              "2                    20               11          5.090909         133   \n",
              "3                     8                1          7.125000          65   \n",
              "4                    15                7          4.500000          88   \n",
              "...                 ...              ...               ...         ...   \n",
              "7608                 11                2          6.636364          83   \n",
              "7609                 17                9          5.300000         125   \n",
              "7610                  8                2          7.250000          65   \n",
              "7611                 19                5          6.263158         137   \n",
              "7612                 13                3          6.307692          94   \n",
              "\n",
              "      punctuation_count  \n",
              "0                     1  \n",
              "1                     1  \n",
              "2                     3  \n",
              "3                     2  \n",
              "4                     2  \n",
              "...                 ...  \n",
              "7608                  5  \n",
              "7609                  5  \n",
              "7610                 11  \n",
              "7611                  5  \n",
              "7612                  7  \n",
              "\n",
              "[7613 rows x 7 columns]"
            ],
            "text/html": [
              "\n",
              "  <div id=\"df-da44608f-758a-4899-b965-23555e5ff727\">\n",
              "    <div class=\"colab-df-container\">\n",
              "      <div>\n",
              "<style scoped>\n",
              "    .dataframe tbody tr th:only-of-type {\n",
              "        vertical-align: middle;\n",
              "    }\n",
              "\n",
              "    .dataframe tbody tr th {\n",
              "        vertical-align: top;\n",
              "    }\n",
              "\n",
              "    .dataframe thead th {\n",
              "        text-align: right;\n",
              "    }\n",
              "</style>\n",
              "<table border=\"1\" class=\"dataframe\">\n",
              "  <thead>\n",
              "    <tr style=\"text-align: right;\">\n",
              "      <th></th>\n",
              "      <th>clean_text</th>\n",
              "      <th>word_count</th>\n",
              "      <th>unique_word_count</th>\n",
              "      <th>stop_word_count</th>\n",
              "      <th>mean_word_length</th>\n",
              "      <th>char_count</th>\n",
              "      <th>punctuation_count</th>\n",
              "    </tr>\n",
              "  </thead>\n",
              "  <tbody>\n",
              "    <tr>\n",
              "      <th>0</th>\n",
              "      <td>deed reason earthquake may allah forgive u</td>\n",
              "      <td>13</td>\n",
              "      <td>13</td>\n",
              "      <td>6</td>\n",
              "      <td>4.384615</td>\n",
              "      <td>69</td>\n",
              "      <td>1</td>\n",
              "    </tr>\n",
              "    <tr>\n",
              "      <th>1</th>\n",
              "      <td>forest fire near la ronge sask canada</td>\n",
              "      <td>7</td>\n",
              "      <td>7</td>\n",
              "      <td>0</td>\n",
              "      <td>4.571429</td>\n",
              "      <td>38</td>\n",
              "      <td>1</td>\n",
              "    </tr>\n",
              "    <tr>\n",
              "      <th>2</th>\n",
              "      <td>resident asked shelter place notified officer ...</td>\n",
              "      <td>22</td>\n",
              "      <td>20</td>\n",
              "      <td>11</td>\n",
              "      <td>5.090909</td>\n",
              "      <td>133</td>\n",
              "      <td>3</td>\n",
              "    </tr>\n",
              "    <tr>\n",
              "      <th>3</th>\n",
              "      <td>13 000 people receive wildfire evacuation orde...</td>\n",
              "      <td>8</td>\n",
              "      <td>8</td>\n",
              "      <td>1</td>\n",
              "      <td>7.125000</td>\n",
              "      <td>65</td>\n",
              "      <td>2</td>\n",
              "    </tr>\n",
              "    <tr>\n",
              "      <th>4</th>\n",
              "      <td>got sent photo ruby alaska smoke wildfire pour...</td>\n",
              "      <td>16</td>\n",
              "      <td>15</td>\n",
              "      <td>7</td>\n",
              "      <td>4.500000</td>\n",
              "      <td>88</td>\n",
              "      <td>2</td>\n",
              "    </tr>\n",
              "    <tr>\n",
              "      <th>...</th>\n",
              "      <td>...</td>\n",
              "      <td>...</td>\n",
              "      <td>...</td>\n",
              "      <td>...</td>\n",
              "      <td>...</td>\n",
              "      <td>...</td>\n",
              "      <td>...</td>\n",
              "    </tr>\n",
              "    <tr>\n",
              "      <th>7608</th>\n",
              "      <td>two giant crane holding bridge collapse nearby...</td>\n",
              "      <td>11</td>\n",
              "      <td>11</td>\n",
              "      <td>2</td>\n",
              "      <td>6.636364</td>\n",
              "      <td>83</td>\n",
              "      <td>5</td>\n",
              "    </tr>\n",
              "    <tr>\n",
              "      <th>7609</th>\n",
              "      <td>aria ahrary thetawniest control wild fire cali...</td>\n",
              "      <td>20</td>\n",
              "      <td>17</td>\n",
              "      <td>9</td>\n",
              "      <td>5.300000</td>\n",
              "      <td>125</td>\n",
              "      <td>5</td>\n",
              "    </tr>\n",
              "    <tr>\n",
              "      <th>7610</th>\n",
              "      <td>m1 94 01 04 utc 5km volcano hawaii</td>\n",
              "      <td>8</td>\n",
              "      <td>8</td>\n",
              "      <td>2</td>\n",
              "      <td>7.250000</td>\n",
              "      <td>65</td>\n",
              "      <td>11</td>\n",
              "    </tr>\n",
              "    <tr>\n",
              "      <th>7611</th>\n",
              "      <td>police investigating e bike collided car littl...</td>\n",
              "      <td>19</td>\n",
              "      <td>19</td>\n",
              "      <td>5</td>\n",
              "      <td>6.263158</td>\n",
              "      <td>137</td>\n",
              "      <td>5</td>\n",
              "    </tr>\n",
              "    <tr>\n",
              "      <th>7612</th>\n",
              "      <td>latest home razed northern california wildfire...</td>\n",
              "      <td>13</td>\n",
              "      <td>13</td>\n",
              "      <td>3</td>\n",
              "      <td>6.307692</td>\n",
              "      <td>94</td>\n",
              "      <td>7</td>\n",
              "    </tr>\n",
              "  </tbody>\n",
              "</table>\n",
              "<p>7613 rows × 7 columns</p>\n",
              "</div>\n",
              "      <button class=\"colab-df-convert\" onclick=\"convertToInteractive('df-da44608f-758a-4899-b965-23555e5ff727')\"\n",
              "              title=\"Convert this dataframe to an interactive table.\"\n",
              "              style=\"display:none;\">\n",
              "        \n",
              "  <svg xmlns=\"http://www.w3.org/2000/svg\" height=\"24px\"viewBox=\"0 0 24 24\"\n",
              "       width=\"24px\">\n",
              "    <path d=\"M0 0h24v24H0V0z\" fill=\"none\"/>\n",
              "    <path d=\"M18.56 5.44l.94 2.06.94-2.06 2.06-.94-2.06-.94-.94-2.06-.94 2.06-2.06.94zm-11 1L8.5 8.5l.94-2.06 2.06-.94-2.06-.94L8.5 2.5l-.94 2.06-2.06.94zm10 10l.94 2.06.94-2.06 2.06-.94-2.06-.94-.94-2.06-.94 2.06-2.06.94z\"/><path d=\"M17.41 7.96l-1.37-1.37c-.4-.4-.92-.59-1.43-.59-.52 0-1.04.2-1.43.59L10.3 9.45l-7.72 7.72c-.78.78-.78 2.05 0 2.83L4 21.41c.39.39.9.59 1.41.59.51 0 1.02-.2 1.41-.59l7.78-7.78 2.81-2.81c.8-.78.8-2.07 0-2.86zM5.41 20L4 18.59l7.72-7.72 1.47 1.35L5.41 20z\"/>\n",
              "  </svg>\n",
              "      </button>\n",
              "      \n",
              "  <style>\n",
              "    .colab-df-container {\n",
              "      display:flex;\n",
              "      flex-wrap:wrap;\n",
              "      gap: 12px;\n",
              "    }\n",
              "\n",
              "    .colab-df-convert {\n",
              "      background-color: #E8F0FE;\n",
              "      border: none;\n",
              "      border-radius: 50%;\n",
              "      cursor: pointer;\n",
              "      display: none;\n",
              "      fill: #1967D2;\n",
              "      height: 32px;\n",
              "      padding: 0 0 0 0;\n",
              "      width: 32px;\n",
              "    }\n",
              "\n",
              "    .colab-df-convert:hover {\n",
              "      background-color: #E2EBFA;\n",
              "      box-shadow: 0px 1px 2px rgba(60, 64, 67, 0.3), 0px 1px 3px 1px rgba(60, 64, 67, 0.15);\n",
              "      fill: #174EA6;\n",
              "    }\n",
              "\n",
              "    [theme=dark] .colab-df-convert {\n",
              "      background-color: #3B4455;\n",
              "      fill: #D2E3FC;\n",
              "    }\n",
              "\n",
              "    [theme=dark] .colab-df-convert:hover {\n",
              "      background-color: #434B5C;\n",
              "      box-shadow: 0px 1px 3px 1px rgba(0, 0, 0, 0.15);\n",
              "      filter: drop-shadow(0px 1px 2px rgba(0, 0, 0, 0.3));\n",
              "      fill: #FFFFFF;\n",
              "    }\n",
              "  </style>\n",
              "\n",
              "      <script>\n",
              "        const buttonEl =\n",
              "          document.querySelector('#df-da44608f-758a-4899-b965-23555e5ff727 button.colab-df-convert');\n",
              "        buttonEl.style.display =\n",
              "          google.colab.kernel.accessAllowed ? 'block' : 'none';\n",
              "\n",
              "        async function convertToInteractive(key) {\n",
              "          const element = document.querySelector('#df-da44608f-758a-4899-b965-23555e5ff727');\n",
              "          const dataTable =\n",
              "            await google.colab.kernel.invokeFunction('convertToInteractive',\n",
              "                                                     [key], {});\n",
              "          if (!dataTable) return;\n",
              "\n",
              "          const docLinkHtml = 'Like what you see? Visit the ' +\n",
              "            '<a target=\"_blank\" href=https://colab.research.google.com/notebooks/data_table.ipynb>data table notebook</a>'\n",
              "            + ' to learn more about interactive tables.';\n",
              "          element.innerHTML = '';\n",
              "          dataTable['output_type'] = 'display_data';\n",
              "          await google.colab.output.renderOutput(dataTable, element);\n",
              "          const docLink = document.createElement('div');\n",
              "          docLink.innerHTML = docLinkHtml;\n",
              "          element.appendChild(docLink);\n",
              "        }\n",
              "      </script>\n",
              "    </div>\n",
              "  </div>\n",
              "  "
            ]
          },
          "metadata": {},
          "execution_count": 32
        }
      ],
      "source": [
        "x_updated"
      ]
    },
    {
      "cell_type": "code",
      "execution_count": null,
      "metadata": {
        "id": "6QsOj9IQrmWX"
      },
      "outputs": [],
      "source": [
        "from sklearn.model_selection import train_test_split\n",
        "X_train, X_test, y_train, y_test = train_test_split(x_updated, y, test_size=0.33, stratify=y) "
      ]
    },
    {
      "cell_type": "code",
      "execution_count": null,
      "metadata": {
        "colab": {
          "base_uri": "https://localhost:8080/"
        },
        "id": "TCRjgUUg098V",
        "outputId": "a2904ced-20b5-4b0b-f28c-4bbebad021d9"
      },
      "outputs": [
        {
          "output_type": "stream",
          "name": "stdout",
          "text": [
            "Looking in indexes: https://pypi.org/simple, https://us-python.pkg.dev/colab-wheels/public/simple/\n",
            "Requirement already satisfied: gdown in /usr/local/lib/python3.8/dist-packages (4.4.0)\n",
            "Collecting gdown\n",
            "  Downloading gdown-4.6.0-py3-none-any.whl (14 kB)\n",
            "Requirement already satisfied: tqdm in /usr/local/lib/python3.8/dist-packages (from gdown) (4.64.1)\n",
            "Requirement already satisfied: beautifulsoup4 in /usr/local/lib/python3.8/dist-packages (from gdown) (4.6.3)\n",
            "Requirement already satisfied: requests[socks] in /usr/local/lib/python3.8/dist-packages (from gdown) (2.25.1)\n",
            "Requirement already satisfied: filelock in /usr/local/lib/python3.8/dist-packages (from gdown) (3.8.2)\n",
            "Requirement already satisfied: six in /usr/local/lib/python3.8/dist-packages (from gdown) (1.15.0)\n",
            "Requirement already satisfied: certifi>=2017.4.17 in /usr/local/lib/python3.8/dist-packages (from requests[socks]->gdown) (2022.12.7)\n",
            "Requirement already satisfied: urllib3<1.27,>=1.21.1 in /usr/local/lib/python3.8/dist-packages (from requests[socks]->gdown) (1.24.3)\n",
            "Requirement already satisfied: idna<3,>=2.5 in /usr/local/lib/python3.8/dist-packages (from requests[socks]->gdown) (2.10)\n",
            "Requirement already satisfied: chardet<5,>=3.0.2 in /usr/local/lib/python3.8/dist-packages (from requests[socks]->gdown) (4.0.0)\n",
            "Requirement already satisfied: PySocks!=1.5.7,>=1.5.6 in /usr/local/lib/python3.8/dist-packages (from requests[socks]->gdown) (1.7.1)\n",
            "Installing collected packages: gdown\n",
            "  Attempting uninstall: gdown\n",
            "    Found existing installation: gdown 4.4.0\n",
            "    Uninstalling gdown-4.4.0:\n",
            "      Successfully uninstalled gdown-4.4.0\n",
            "Successfully installed gdown-4.6.0\n"
          ]
        }
      ],
      "source": [
        "!pip install --upgrade --no-cache-dir gdown"
      ]
    },
    {
      "cell_type": "code",
      "execution_count": null,
      "metadata": {
        "colab": {
          "base_uri": "https://localhost:8080/"
        },
        "id": "kZsdk7P70bVy",
        "outputId": "f1ddde6b-623a-4830-80f7-696a2bd0d1b8"
      },
      "outputs": [
        {
          "output_type": "stream",
          "name": "stdout",
          "text": [
            "/usr/local/lib/python3.8/dist-packages/gdown/cli.py:121: FutureWarning: Option `--id` was deprecated in version 4.3.1 and will be removed in 5.0. You don't need to pass it anymore to use a file ID.\n",
            "  warnings.warn(\n",
            "Downloading...\n",
            "From: https://drive.google.com/uc?id=1LIcc8FOV4CePFci_a6iNdtJoKaSw09uf\n",
            "To: /content/glove_vectors\n",
            "100% 128M/128M [00:00<00:00, 134MB/s]\n"
          ]
        }
      ],
      "source": [
        "!gdown --id 1LIcc8FOV4CePFci_a6iNdtJoKaSw09uf\n"
      ]
    },
    {
      "cell_type": "code",
      "execution_count": null,
      "metadata": {
        "id": "ew7XP6_xXegg"
      },
      "outputs": [],
      "source": [
        "from scipy.sparse import hstack\n",
        "from sklearn.preprocessing import MinMaxScaler\n",
        "scaler=MinMaxScaler()"
      ]
    },
    {
      "cell_type": "code",
      "execution_count": null,
      "metadata": {
        "id": "WZdbMjHMXilo"
      },
      "outputs": [],
      "source": [
        "scaler.fit(X_train['word_count'].values.reshape(-1,1))\n",
        "X_train_count_words=scaler.transform(X_train['word_count'].values.reshape(-1,1))\n",
        "X_test_count_words=scaler.transform(X_test['word_count'].values.reshape(-1,1))\n",
        "\n",
        "scaler.fit(X_train['unique_word_count'].values.reshape(-1,1))\n",
        "X_train_uniq_words=scaler.transform(X_train['unique_word_count'].values.reshape(-1,1))\n",
        "X_test_uniq_words=scaler.transform(X_test['unique_word_count'].values.reshape(-1,1))\n",
        "\n",
        "\n",
        "scaler.fit(X_train['stop_word_count'].values.reshape(-1,1))\n",
        "X_train_stp_words=scaler.transform(X_train['stop_word_count'].values.reshape(-1,1))\n",
        "X_test_stp_words=scaler.transform(X_test['stop_word_count'].values.reshape(-1,1))\n",
        "\n",
        "\n",
        "scaler.fit(X_train['mean_word_length'].values.reshape(-1,1))\n",
        "X_train_mean_words=scaler.transform(X_train['mean_word_length'].values.reshape(-1,1))\n",
        "X_test_mean_words=scaler.transform(X_test['mean_word_length'].values.reshape(-1,1))\n",
        "\n",
        "\n",
        "scaler.fit(X_train['char_count'].values.reshape(-1,1))\n",
        "X_train_count_char=scaler.transform(X_train['char_count'].values.reshape(-1,1))\n",
        "X_test_count_char=scaler.transform(X_test['char_count'].values.reshape(-1,1))\n",
        "\n",
        "\n",
        "scaler.fit(X_train['punctuation_count'].values.reshape(-1,1))\n",
        "X_train_count_punc=scaler.transform(X_train['punctuation_count'].values.reshape(-1,1))\n",
        "X_test_count_punc=scaler.transform(X_test['punctuation_count'].values.reshape(-1,1))"
      ]
    },
    {
      "cell_type": "code",
      "execution_count": null,
      "metadata": {
        "id": "DEF3_4wKXpRJ"
      },
      "outputs": [],
      "source": [
        "X_train_numeric_features = np.concatenate((X_train_count_words,X_train_uniq_words,X_train_stp_words,X_train_mean_words,X_train_count_char,X_train_count_punc),axis = 1)\n",
        "X_test_numeric_features= np.concatenate((X_test_count_words,X_test_uniq_words,X_test_stp_words,X_test_mean_words,X_test_count_char,X_test_count_punc),axis = 1)"
      ]
    },
    {
      "cell_type": "markdown",
      "metadata": {
        "id": "pdSjejmB6gso"
      },
      "source": [
        "#lets try simple NN model and check the F1 score"
      ]
    },
    {
      "cell_type": "code",
      "execution_count": null,
      "metadata": {
        "id": "ybrlS9Lq78Y0"
      },
      "outputs": [],
      "source": [
        "import tensorflow as tf\n",
        "from keras_preprocessing.sequence import pad_sequences"
      ]
    },
    {
      "cell_type": "code",
      "execution_count": null,
      "metadata": {
        "id": "-98KlJL076SZ"
      },
      "outputs": [],
      "source": [
        "tokenizer = tf.keras.preprocessing.text.Tokenizer()\n",
        "tokenizer1 = tf.keras.preprocessing.text.Tokenizer()\n",
        "tokenizer.fit_on_texts(x_updated[\"clean_text\"])\n",
        "tokenizer1.fit_on_texts(x_updated[\"clean_text\"])\n",
        "\n",
        "X_train['essay_aftok'] = tokenizer.texts_to_sequences(X_train[\"clean_text\"].values)\n",
        "X_test['essay_aftok'] = tokenizer.texts_to_sequences(X_test[\"clean_text\"].values)\n",
        "x_test['essay_aftok'] = tokenizer1.texts_to_sequences(x_test[0].values)\n"
      ]
    },
    {
      "cell_type": "code",
      "source": [
        "with open('tokenizer.pickle', 'wb') as handle:\n",
        "    pickle.dump(tokenizer, handle, protocol=pickle.HIGHEST_PROTOCOL)"
      ],
      "metadata": {
        "id": "eaytoLs16g7a"
      },
      "execution_count": null,
      "outputs": []
    },
    {
      "cell_type": "code",
      "execution_count": null,
      "metadata": {
        "id": "-mOdiU7Tw0jc"
      },
      "outputs": [],
      "source": [
        "maxlen = max([len(x) for x in X_train['essay_aftok']])"
      ]
    },
    {
      "cell_type": "code",
      "execution_count": null,
      "metadata": {
        "colab": {
          "base_uri": "https://localhost:8080/"
        },
        "id": "2TCwDdclw5Rj",
        "outputId": "41c2c245-5c95-491f-bf48-a8b33d8224cc"
      },
      "outputs": [
        {
          "output_type": "execute_result",
          "data": {
            "text/plain": [
              "27"
            ]
          },
          "metadata": {},
          "execution_count": 42
        }
      ],
      "source": [
        "maxlen"
      ]
    },
    {
      "cell_type": "code",
      "execution_count": null,
      "metadata": {
        "id": "_6IM9GShwOLq"
      },
      "outputs": [],
      "source": [
        "X_train_pad_tokens = tf.keras.preprocessing.sequence.pad_sequences(X_train['essay_aftok'], maxlen=maxlen, padding='post')\n",
        "X_test_pad_tokens = tf.keras.preprocessing.sequence.pad_sequences(X_test['essay_aftok'], maxlen=maxlen, padding='post')\n",
        "x_test_pad_tokens = tf.keras.preprocessing.sequence.pad_sequences(x_test['essay_aftok'], maxlen=maxlen, padding='post')"
      ]
    },
    {
      "cell_type": "code",
      "execution_count": null,
      "metadata": {
        "colab": {
          "base_uri": "https://localhost:8080/"
        },
        "id": "jds7InLcxXpw",
        "outputId": "d6ef9e18-094a-40f1-eaae-b57ac531feff"
      },
      "outputs": [
        {
          "output_type": "execute_result",
          "data": {
            "text/plain": [
              "15575"
            ]
          },
          "metadata": {},
          "execution_count": 44
        }
      ],
      "source": [
        "len(tokenizer.index_word)"
      ]
    },
    {
      "cell_type": "code",
      "execution_count": null,
      "metadata": {
        "id": "aWlH_zOFxo4N"
      },
      "outputs": [],
      "source": [
        "import pickle\n",
        "with open('glove_vectors', 'rb') as f:\n",
        "    glove = pickle.load(f)\n",
        "    glove_words =  set(glove.keys())"
      ]
    },
    {
      "cell_type": "code",
      "execution_count": null,
      "metadata": {
        "id": "C5wkWaXjxZ9D"
      },
      "outputs": [],
      "source": [
        "missing=0\n",
        "from numpy import zeros\n",
        "max_vocabulary = len(tokenizer.word_index)\n",
        "embedding_mat = zeros((max_vocabulary+1, 300))\n",
        "for word, i in tokenizer.word_index.items():\n",
        "  if word in glove_words:\n",
        "    embedding_vector = glove[word]\n",
        "    embedding_mat[i] = embedding_vector\n",
        "  else: \n",
        "    missing +=1"
      ]
    },
    {
      "cell_type": "code",
      "execution_count": null,
      "metadata": {
        "colab": {
          "base_uri": "https://localhost:8080/"
        },
        "id": "WY3wrPuIYoQs",
        "outputId": "7002463e-b38f-456c-91fd-8995970ace49"
      },
      "outputs": [
        {
          "output_type": "stream",
          "name": "stdout",
          "text": [
            "No of missing words in glove vector 6999\n"
          ]
        }
      ],
      "source": [
        "print(\"No of missing words in glove vector\",missing)"
      ]
    },
    {
      "cell_type": "code",
      "execution_count": null,
      "metadata": {
        "colab": {
          "base_uri": "https://localhost:8080/"
        },
        "id": "VBBzFGh_xwil",
        "outputId": "1f630992-e756-410d-fa7e-ba7725e259a3"
      },
      "outputs": [
        {
          "output_type": "stream",
          "name": "stdout",
          "text": [
            "(300,)\n",
            "[ 2.3727e-02  5.4741e-01 -2.0239e-01 -6.9084e-01 -9.1657e-02  3.8469e-02\n",
            " -2.4085e+00  7.5139e-01 -1.5536e-01 -1.6036e-01 -1.9913e-01  8.0414e-01\n",
            " -1.0065e-01 -9.1445e-02 -3.7918e-02 -4.5646e-01  1.9855e-01 -1.4555e-01\n",
            "  2.5142e-02 -3.8692e-02 -3.1152e-01 -3.7129e-01 -1.8185e-01 -3.1862e-01\n",
            " -1.8057e-01  2.7050e-01 -3.5682e-01 -9.6916e-02 -4.5424e-01 -2.5243e-01\n",
            "  9.8980e-02 -2.3099e-01 -4.6630e-01  3.4961e-01  5.8562e-01 -2.2965e-01\n",
            "  6.1965e-01  1.6667e-02 -6.6868e-01 -6.2833e-01  3.1282e-02  4.3401e-01\n",
            "  2.4202e-02 -2.6759e-01  3.3880e-01 -5.8394e-02  2.5862e-01 -7.7207e-01\n",
            " -2.5053e-01  3.1348e-03  1.0088e-01 -3.1704e-01 -4.1612e-01 -7.2533e-01\n",
            "  8.9485e-02 -2.8583e-01 -1.2505e-01  1.7974e-01 -6.2462e-02 -6.3058e-01\n",
            " -4.9917e-01  4.0058e-02 -1.9696e-03  4.5357e-01 -6.5259e-01 -1.1493e-01\n",
            " -1.2474e-02  3.0287e-01  2.4644e-01  4.7653e-01  2.3366e-01 -1.4033e-01\n",
            " -7.1256e-03 -1.9872e-01 -2.7480e-01  1.8508e-01 -7.5069e-02 -7.5731e-01\n",
            "  2.4809e-01 -3.7405e-01 -1.0049e-01  4.0003e-02  2.4812e-01  2.7685e-01\n",
            " -1.0047e-01  3.0585e-01  2.4387e-01 -3.7636e-02  4.7944e-01 -4.9613e-01\n",
            " -4.4498e-02  5.9225e-01 -2.4417e-01  7.3383e-01 -2.3763e-01 -7.8480e-01\n",
            " -1.8240e+00  2.9457e-03 -6.1690e-02 -2.2836e-02  3.6695e-01  2.8180e-01\n",
            " -4.2520e-03 -1.3114e-01 -4.7789e-02 -4.1308e-02  2.9087e-01 -5.7109e-01\n",
            "  1.3838e-01  1.3303e-01  1.9618e-01  1.1979e-01  5.3786e-02  4.8650e-02\n",
            "  2.2105e-01 -3.9206e-01  6.5109e-02  5.4715e-02  4.2326e-02  6.5382e-01\n",
            " -7.0947e-01  8.0129e-02 -1.4747e-01 -1.6944e-01 -2.7483e-01 -1.4765e-01\n",
            "  2.6917e-01 -1.9555e-01  1.2340e-01 -9.7522e-02  1.1411e-01 -1.9491e-01\n",
            " -5.0356e-02  4.7603e-01  3.5108e-01 -1.3723e-02  1.4502e-01 -4.1049e-01\n",
            " -2.1992e-01  7.5181e-01  8.7109e-02 -7.0409e-02  2.2807e-01  2.9107e-01\n",
            " -1.9228e-01 -3.6204e-02 -4.5591e-01 -1.5240e-01  3.2262e-01  2.0709e-02\n",
            "  1.6466e-01  1.7791e-01  7.5302e-01  6.9823e-02 -1.7950e-01 -1.2216e-01\n",
            "  2.0236e-01 -5.5162e-02  1.5049e-01 -7.3738e-02 -6.8954e-02  2.4488e-01\n",
            "  7.3089e-01  2.3248e-01  1.9849e-01  1.2392e-01 -1.2078e-01  2.7392e-01\n",
            " -3.0687e-01 -7.2113e-01 -1.9520e-01 -4.9737e-01 -1.9649e-01  4.5778e-01\n",
            " -9.0194e-02 -3.9055e-01 -4.3460e-01 -3.7138e-02  2.1355e-02 -3.9289e-01\n",
            "  2.5978e-01 -3.6368e-02  5.2329e-01 -2.4661e-01  3.4887e-01 -1.8052e-01\n",
            "  2.8666e-01 -4.2504e-01 -2.5910e-01 -3.7650e-01  4.2644e-01  3.7879e-01\n",
            " -1.3902e-01 -2.9311e-01 -3.6491e-02  4.8378e-02  3.4949e-01 -1.9517e-01\n",
            "  2.7550e-01 -3.4881e-01 -6.4457e-01 -1.3537e-01 -1.8876e-02 -2.8148e-01\n",
            " -2.4577e-01 -4.9063e-01  9.3331e-02  1.2620e-01  5.4946e-01 -9.3249e-03\n",
            " -5.8424e-01  4.3664e-01  2.7956e-01 -3.9834e-01  1.9921e-01 -4.7675e-01\n",
            "  4.0300e-01 -3.0834e-01  2.2033e-01 -3.6554e-01 -1.4119e-01  7.2520e-01\n",
            " -1.3119e-02 -4.2974e-02 -3.3694e+00  6.5480e-01  3.9017e-01  4.7676e-01\n",
            "  3.9365e-01  6.4772e-02  3.3633e-01  4.0009e-01  9.6128e-02 -3.2018e-01\n",
            " -1.7508e-01  5.9430e-01 -7.1733e-03 -7.7023e-01  2.9869e-01 -1.9661e-02\n",
            "  5.4800e-01  2.0584e-01  3.3914e-01 -2.0055e-01 -5.0715e-01 -6.9440e-02\n",
            "  1.6187e-01  2.0501e-01 -3.1335e-01 -6.6613e-02 -6.3456e-01 -2.9167e-01\n",
            "  4.0465e-01 -2.0724e-01  8.6425e-02 -5.4723e-02 -1.0516e-01  6.6966e-01\n",
            " -1.2334e-01  5.2192e-01  1.1867e-01 -3.2782e-01  4.6378e-01  3.4377e-01\n",
            " -3.0095e-01  3.5524e-01  1.4954e-01  7.2710e-02 -2.6486e-01 -6.4317e-01\n",
            " -2.4108e-01 -6.4174e-02 -2.4940e-01 -2.0476e-01 -1.4927e-01  2.6140e-01\n",
            " -8.6755e-02  3.9944e-01 -2.3884e-02 -4.0873e-01  6.4061e-01 -1.4964e-01\n",
            " -3.8864e-02  7.7957e-02 -6.4741e-02 -4.2802e-01  8.9240e-02 -2.9450e-01\n",
            "  5.4621e-02  9.3977e-01 -3.8107e-01 -2.2109e-01  9.4841e-02  1.2431e-01\n",
            "  4.1205e-01  1.3362e-01 -1.3634e-01  6.1877e-02 -7.7642e-01 -3.4211e-01]\n"
          ]
        }
      ],
      "source": [
        "print(embedding_mat[1].shape)\n",
        "print(embedding_mat[1])"
      ]
    },
    {
      "cell_type": "code",
      "execution_count": null,
      "metadata": {
        "id": "iaPNEwUxx8lM"
      },
      "outputs": [],
      "source": [
        "from tensorflow.keras.layers import LSTM\n",
        "from tensorflow.keras.layers import Conv1D\n",
        "from tensorflow.keras import regularizers\n",
        "from tensorflow.keras.regularizers import l2\n",
        "from tensorflow.keras.layers import Flatten\n",
        "from tensorflow.keras.layers import Dense, Input , Dropout\n",
        "from tensorflow.keras.layers import concatenate\n",
        "from tensorflow.keras.callbacks import TensorBoard\n",
        "from tensorflow.keras.layers import Embedding\n",
        "from tensorflow.keras.layers import GlobalMaxPool1D,MaxPooling1D,GlobalMaxPooling1D\n",
        "from tensorflow.keras.layers import BatchNormalization\n",
        "from tensorflow.keras.models import Sequential\n",
        "from tensorflow.keras.optimizers import Adam\n",
        "from tensorflow.keras.callbacks import Callback\n",
        "from sklearn.metrics import precision_score,recall_score,f1_score"
      ]
    },
    {
      "cell_type": "code",
      "source": [
        "class ClassificationReport(tf.keras.callbacks.Callback):\n",
        "    \n",
        "    def __init__(self, train_data=(), validation_data=()):\n",
        "        super(Callback, self).__init__()\n",
        "        \n",
        "        self.X_train, self.y_train = train_data\n",
        "        self.train_precision_scores = []\n",
        "        self.train_recall_scores = []\n",
        "        self.train_f1_scores = []\n",
        "        \n",
        "        self.X_val, self.y_val = validation_data\n",
        "        self.val_precision_scores = []\n",
        "        self.val_recall_scores = []\n",
        "        self.val_f1_scores = [] \n",
        "               \n",
        "    def on_epoch_end(self, epoch, logs={}):\n",
        "        train_predictions = np.round(self.model.predict(self.X_train, verbose=0))        \n",
        "        train_precision = precision_score(self.y_train, train_predictions, average='macro')\n",
        "        train_recall = recall_score(self.y_train, train_predictions, average='macro')\n",
        "        train_f1 = f1_score(self.y_train, train_predictions, average='macro')\n",
        "        self.train_precision_scores.append(train_precision)        \n",
        "        self.train_recall_scores.append(train_recall)\n",
        "        self.train_f1_scores.append(train_f1)\n",
        "        val_predictions = np.round(self.model.predict(self.X_val, verbose=0))\n",
        "        val_precision = precision_score(self.y_val, val_predictions, average='macro')\n",
        "        val_recall = recall_score(self.y_val, val_predictions, average='macro')\n",
        "        val_f1 = f1_score(self.y_val, val_predictions, average='macro')\n",
        "        self.val_precision_scores.append(val_precision)        \n",
        "        self.val_recall_scores.append(val_recall)        \n",
        "        self.val_f1_scores.append(val_f1)\n",
        "\n",
        "\n",
        "        print('\\nEpoch: {} - Training Precision: {:.6} - Training Recall: {:.6} - Training F1: {:.6}'.format(epoch + 1, train_precision, train_recall, train_f1))\n",
        "        print('Epoch: {} - Validation Precision: {:.6} - Validation Recall: {:.6} - Validation F1: {:.6}'.format(epoch + 1, val_precision, val_recall, val_f1)) \n",
        "        "
      ],
      "metadata": {
        "id": "OgPSz0laij52"
      },
      "execution_count": null,
      "outputs": []
    },
    {
      "cell_type": "code",
      "execution_count": null,
      "metadata": {
        "id": "NMVpoGenhBhg"
      },
      "outputs": [],
      "source": [
        "from tensorflow.keras.callbacks import ModelCheckpoint, EarlyStopping, TensorBoard"
      ]
    },
    {
      "cell_type": "code",
      "execution_count": null,
      "metadata": {
        "id": "2GiE-g7IgRPV"
      },
      "outputs": [],
      "source": [
        "## Callback for saving best model \n",
        "checkpoint = ModelCheckpoint(filepath='best_model.h5',verbose=1,monitor='val_accuracy',\n",
        "                           mode='max',save_best_only=True)\n",
        "\n",
        "## Callback for earlystopping \n",
        "early_stop = EarlyStopping(monitor=\"val_accuracy\",mode='max',patience=5)\n",
        "\n",
        "## F1-score\n",
        "f1_callback = ClassificationReport((X_train_pad_tokens,y_train),(X_test_pad_tokens,y_test))\n",
        "\n",
        "## all callbacks\n",
        "callbacks =[checkpoint,early_stop,f1_callback ]"
      ]
    },
    {
      "cell_type": "markdown",
      "metadata": {
        "id": "JoCYKkfevCrX"
      },
      "source": [
        "# Neural network:"
      ]
    },
    {
      "cell_type": "code",
      "execution_count": null,
      "metadata": {
        "id": "GBEH2PdlvGVC"
      },
      "outputs": [],
      "source": [
        "model = Sequential() \n",
        "model.add(Embedding(input_dim=max_vocabulary+1,output_dim=300,input_length=maxlen,weights=[embedding_mat]))\n",
        "model.add(Flatten())\n",
        "model.add(Dense(1024, activation='relu'))\n",
        "model.add(Dense(1, activation='sigmoid'))\n",
        "model.compile(optimizer=\"adam\", loss='binary_crossentropy', metrics=[\"accuracy\"])"
      ]
    },
    {
      "cell_type": "code",
      "source": [
        "hist = model.fit(X_train_pad_tokens,y_train, epochs=10,validation_data=(X_test_pad_tokens,y_test),batch_size=32,callbacks=callbacks)"
      ],
      "metadata": {
        "colab": {
          "base_uri": "https://localhost:8080/"
        },
        "id": "qcDQdvi15FiO",
        "outputId": "c947786c-fb58-4849-d6b1-969d3eb2c56d"
      },
      "execution_count": null,
      "outputs": [
        {
          "output_type": "stream",
          "name": "stdout",
          "text": [
            "Epoch 1/10\n",
            "160/160 [==============================] - ETA: 0s - loss: 0.5021 - accuracy: 0.7714\n",
            "Epoch 1: val_accuracy improved from -inf to 0.78273, saving model to best_model.h5\n",
            "\n",
            "Epoch: 1 - Training Precision: 0.934639 - Training Recall: 0.92576 - Training F1: 0.929325\n",
            "Epoch: 1 - Validation Precision: 0.781441 - Validation Recall: 0.77197 - Validation F1: 0.775027\n",
            "160/160 [==============================] - 29s 175ms/step - loss: 0.5021 - accuracy: 0.7714 - val_loss: 0.4726 - val_accuracy: 0.7827\n",
            "Epoch 2/10\n",
            "160/160 [==============================] - ETA: 0s - loss: 0.2005 - accuracy: 0.9265\n",
            "Epoch 2: val_accuracy did not improve from 0.78273\n",
            "\n",
            "Epoch: 2 - Training Precision: 0.973879 - Training Recall: 0.974561 - Training F1: 0.974213\n",
            "Epoch: 2 - Validation Precision: 0.764029 - Validation Recall: 0.7602 - Validation F1: 0.761726\n",
            "160/160 [==============================] - 30s 189ms/step - loss: 0.2005 - accuracy: 0.9265 - val_loss: 0.5894 - val_accuracy: 0.7680\n",
            "Epoch 3/10\n",
            "160/160 [==============================] - ETA: 0s - loss: 0.0980 - accuracy: 0.9686\n",
            "Epoch 3: val_accuracy did not improve from 0.78273\n",
            "\n",
            "Epoch: 3 - Training Precision: 0.977873 - Training Recall: 0.977711 - Training F1: 0.977791\n",
            "Epoch: 3 - Validation Precision: 0.768819 - Validation Recall: 0.762891 - Validation F1: 0.765042\n",
            "160/160 [==============================] - 26s 165ms/step - loss: 0.0980 - accuracy: 0.9686 - val_loss: 0.7042 - val_accuracy: 0.7720\n",
            "Epoch 4/10\n",
            "160/160 [==============================] - ETA: 0s - loss: 0.0735 - accuracy: 0.9745\n",
            "Epoch 4: val_accuracy did not improve from 0.78273\n",
            "\n",
            "Epoch: 4 - Training Precision: 0.981282 - Training Recall: 0.982387 - Training F1: 0.981817\n",
            "Epoch: 4 - Validation Precision: 0.769488 - Validation Recall: 0.759913 - Validation F1: 0.762896\n",
            "160/160 [==============================] - 26s 165ms/step - loss: 0.0735 - accuracy: 0.9745 - val_loss: 0.7845 - val_accuracy: 0.7712\n",
            "Epoch 5/10\n",
            "160/160 [==============================] - ETA: 0s - loss: 0.0616 - accuracy: 0.9771\n",
            "Epoch 5: val_accuracy did not improve from 0.78273\n",
            "\n",
            "Epoch: 5 - Training Precision: 0.984103 - Training Recall: 0.983884 - Training F1: 0.983993\n",
            "Epoch: 5 - Validation Precision: 0.753373 - Validation Recall: 0.755241 - Validation F1: 0.754146\n",
            "160/160 [==============================] - 26s 166ms/step - loss: 0.0616 - accuracy: 0.9771 - val_loss: 0.7723 - val_accuracy: 0.7581\n",
            "Epoch 6/10\n",
            "160/160 [==============================] - ETA: 0s - loss: 0.0479 - accuracy: 0.9786\n",
            "Epoch 6: val_accuracy did not improve from 0.78273\n",
            "\n",
            "Epoch: 6 - Training Precision: 0.983695 - Training Recall: 0.982689 - Training F1: 0.983179\n",
            "Epoch: 6 - Validation Precision: 0.775424 - Validation Recall: 0.75835 - Validation F1: 0.762495\n",
            "160/160 [==============================] - 26s 165ms/step - loss: 0.0479 - accuracy: 0.9786 - val_loss: 0.9228 - val_accuracy: 0.7732\n"
          ]
        }
      ]
    },
    {
      "cell_type": "code",
      "execution_count": null,
      "metadata": {
        "colab": {
          "base_uri": "https://localhost:8080/",
          "height": 318
        },
        "id": "IeAXmXmpxXJJ",
        "outputId": "f9113a29-c5a3-470f-e84c-dd8e2601cbc6"
      },
      "outputs": [
        {
          "output_type": "execute_result",
          "data": {
            "text/plain": [
              "[]"
            ]
          },
          "metadata": {},
          "execution_count": 56
        },
        {
          "output_type": "display_data",
          "data": {
            "text/plain": [
              "<Figure size 432x288 with 1 Axes>"
            ],
            "image/png": "[encoded data removed]"
          },
          "metadata": {}
        }
      ],
      "source": [
        "import seaborn as sns\n",
        "import matplotlib.pyplot as plt\n",
        "%matplotlib inline\n",
        "sns.set()\n",
        " \n",
        "acc = hist.history['accuracy']\n",
        "val = hist.history['val_accuracy']\n",
        "epochs = range(1, len(acc) + 1)\n",
        " \n",
        "plt.plot(epochs, acc, '-', label='Training accuracy')\n",
        "plt.plot(epochs, val, ':', label='Validation accuracy')\n",
        "plt.title('Training and Validation Accuracy')\n",
        "plt.xlabel('Epoch')\n",
        "plt.ylabel('Accuracy')\n",
        "plt.legend(loc='lower right')\n",
        "plt.plot()"
      ]
    },
    {
      "cell_type": "markdown",
      "metadata": {
        "id": "nFMkdG9ApLUW"
      },
      "source": [
        "Observation: \n",
        "\n",
        "** Simple neural network with glove vector found accuracy of 78.273"
      ]
    },
    {
      "cell_type": "markdown",
      "metadata": {
        "id": "LpjthW3GvbUr"
      },
      "source": [
        "# Convolutional neural network:"
      ]
    },
    {
      "cell_type": "code",
      "execution_count": null,
      "metadata": {
        "id": "xO6NphdQvkJB"
      },
      "outputs": [],
      "source": [
        "#https://www.atmosera.com/blog/text-classification-with-neural-networks/\n",
        "model1 = Sequential()\n",
        "model1.add(Embedding(input_dim=max_vocabulary+1,output_dim=300,input_length=maxlen,weights=[embedding_mat]))\n",
        "model1.add(Conv1D(32, 7, activation='relu'))\n",
        "model1.add(MaxPooling1D())\n",
        "model1.add(Conv1D(32, 7, activation='relu'))\n",
        "model1.add(GlobalMaxPooling1D())\n",
        "model1.add(Dense(1, activation='sigmoid'))\n",
        "model1.compile(optimizer=Adam(learning_rate=0.001), loss='binary_crossentropy', metrics=[\"accuracy\"])"
      ]
    },
    {
      "cell_type": "code",
      "execution_count": null,
      "metadata": {
        "colab": {
          "base_uri": "https://localhost:8080/"
        },
        "id": "jrVibi97vj1s",
        "outputId": "cfb3d60e-a916-43ed-c2e6-294cf581bd96"
      },
      "outputs": [
        {
          "output_type": "stream",
          "name": "stdout",
          "text": [
            "Epoch 1/10\n",
            "160/160 [==============================] - ETA: 0s - loss: 0.4865 - accuracy: 0.7724\n",
            "Epoch 1: val_accuracy improved from 0.78273 to 0.80183, saving model to best_model.h5\n",
            "\n",
            "Epoch: 1 - Training Precision: 0.893789 - Training Recall: 0.861015 - Training F1: 0.869389\n",
            "Epoch: 1 - Validation Precision: 0.816328 - Validation Recall: 0.782674 - Validation F1: 0.78903\n",
            "160/160 [==============================] - 14s 83ms/step - loss: 0.4865 - accuracy: 0.7724 - val_loss: 0.4621 - val_accuracy: 0.8018\n",
            "Epoch 2/10\n",
            "160/160 [==============================] - ETA: 0s - loss: 0.2962 - accuracy: 0.8814\n",
            "Epoch 2: val_accuracy did not improve from 0.80183\n",
            "\n",
            "Epoch: 2 - Training Precision: 0.954027 - Training Recall: 0.941894 - Training F1: 0.946548\n",
            "Epoch: 2 - Validation Precision: 0.806875 - Validation Recall: 0.78539 - Validation F1: 0.790607\n",
            "160/160 [==============================] - 12s 77ms/step - loss: 0.2962 - accuracy: 0.8814 - val_loss: 0.4830 - val_accuracy: 0.8006\n",
            "Epoch 3/10\n",
            "160/160 [==============================] - ETA: 0s - loss: 0.1663 - accuracy: 0.9443\n",
            "Epoch 3: val_accuracy did not improve from 0.80183\n",
            "\n",
            "Epoch: 3 - Training Precision: 0.977202 - Training Recall: 0.974812 - Training F1: 0.975936\n",
            "Epoch: 3 - Validation Precision: 0.775898 - Validation Recall: 0.772144 - Validation F1: 0.773668\n",
            "160/160 [==============================] - 13s 80ms/step - loss: 0.1663 - accuracy: 0.9443 - val_loss: 0.5750 - val_accuracy: 0.7795\n",
            "Epoch 4/10\n",
            "160/160 [==============================] - ETA: 0s - loss: 0.1021 - accuracy: 0.9686\n",
            "Epoch 4: val_accuracy did not improve from 0.80183\n",
            "\n",
            "Epoch: 4 - Training Precision: 0.982017 - Training Recall: 0.982393 - Training F1: 0.982203\n",
            "Epoch: 4 - Validation Precision: 0.756652 - Validation Recall: 0.761084 - Validation F1: 0.757381\n",
            "160/160 [==============================] - 13s 81ms/step - loss: 0.1021 - accuracy: 0.9686 - val_loss: 0.7016 - val_accuracy: 0.7596\n",
            "Epoch 5/10\n",
            "160/160 [==============================] - ETA: 0s - loss: 0.0771 - accuracy: 0.9782\n",
            "Epoch 5: val_accuracy did not improve from 0.80183\n",
            "\n",
            "Epoch: 5 - Training Precision: 0.983267 - Training Recall: 0.983537 - Training F1: 0.983401\n",
            "Epoch: 5 - Validation Precision: 0.764982 - Validation Recall: 0.764675 - Validation F1: 0.764825\n",
            "160/160 [==============================] - 12s 76ms/step - loss: 0.0771 - accuracy: 0.9782 - val_loss: 0.7257 - val_accuracy: 0.7696\n",
            "Epoch 6/10\n",
            "160/160 [==============================] - ETA: 0s - loss: 0.0642 - accuracy: 0.9796\n",
            "Epoch 6: val_accuracy did not improve from 0.80183\n",
            "\n",
            "Epoch: 6 - Training Precision: 0.985414 - Training Recall: 0.984971 - Training F1: 0.98519\n",
            "Epoch: 6 - Validation Precision: 0.770979 - Validation Recall: 0.763717 - Validation F1: 0.766214\n",
            "160/160 [==============================] - 14s 85ms/step - loss: 0.0642 - accuracy: 0.9796 - val_loss: 0.7348 - val_accuracy: 0.7736\n"
          ]
        }
      ],
      "source": [
        "hist = model1.fit(X_train_pad_tokens,y_train, epochs=10,validation_data=(X_test_pad_tokens,y_test),batch_size=32,callbacks=callbacks)"
      ]
    },
    {
      "cell_type": "code",
      "execution_count": null,
      "metadata": {
        "colab": {
          "base_uri": "https://localhost:8080/",
          "height": 318
        },
        "id": "ya3-aEYjxe8N",
        "outputId": "97e3aae5-76a9-43e3-afa4-e534a73fd3ff"
      },
      "outputs": [
        {
          "output_type": "execute_result",
          "data": {
            "text/plain": [
              "[]"
            ]
          },
          "metadata": {},
          "execution_count": 60
        },
        {
          "output_type": "display_data",
          "data": {
            "text/plain": [
              "<Figure size 432x288 with 1 Axes>"
            ],
            "image/png": "[encoded data removed]"
          },
          "metadata": {}
        }
      ],
      "source": [
        "acc = hist.history['accuracy']\n",
        "val = hist.history['val_accuracy']\n",
        "epochs = range(1, len(acc) + 1)\n",
        " \n",
        "plt.plot(epochs, acc, '-', label='Training accuracy')\n",
        "plt.plot(epochs, val, ':', label='Validation accuracy')\n",
        "plt.title('Training and Validation Accuracy')\n",
        "plt.xlabel('Epoch')\n",
        "plt.ylabel('Accuracy')\n",
        "plt.legend(loc='lower right')\n",
        "plt.plot()"
      ]
    },
    {
      "cell_type": "markdown",
      "metadata": {
        "id": "yLpUqAtnqC_m"
      },
      "source": [
        "Observation:\n",
        "\n",
        "** Cov1D with glove vector found the accuracy of 80.183"
      ]
    },
    {
      "cell_type": "markdown",
      "metadata": {
        "id": "tPwXxS1ww7sK"
      },
      "source": [
        "# LSTM model"
      ]
    },
    {
      "cell_type": "code",
      "execution_count": null,
      "metadata": {
        "id": "4vBVgb3CySDK"
      },
      "outputs": [],
      "source": [
        "lstm_model = Sequential()\n",
        "lstm_model.add(Embedding(input_dim=max_vocabulary+1,output_dim=300,input_length=maxlen,weights=[embedding_mat]))\n",
        "lstm_model.add(LSTM(units=100,kernel_initializer='glorot_uniform',recurrent_dropout=0.5,return_sequences=True))\n",
        "lstm_model.add(GlobalMaxPool1D())\n",
        "lstm_model.add(BatchNormalization())\n",
        "lstm_model.add(Dropout(0.5))\n",
        "lstm_model.add(Dense(10, activation=\"relu\"))\n",
        "lstm_model.add(Dropout(0.25))\n",
        "lstm_model.add(Dense(1, activation = \"sigmoid\"))\n"
      ]
    },
    {
      "cell_type": "code",
      "execution_count": null,
      "metadata": {
        "colab": {
          "base_uri": "https://localhost:8080/"
        },
        "id": "uKWEg17q0HCS",
        "outputId": "b8406559-9338-454a-d48f-9ef4b8429c20"
      },
      "outputs": [
        {
          "output_type": "stream",
          "name": "stdout",
          "text": [
            "Model: \"sequential_3\"\n",
            "_________________________________________________________________\n",
            " Layer (type)                Output Shape              Param #   \n",
            "=================================================================\n",
            " embedding_3 (Embedding)     (None, 27, 300)           4641600   \n",
            "                                                                 \n",
            " lstm (LSTM)                 (None, 27, 100)           160400    \n",
            "                                                                 \n",
            " global_max_pooling1d_2 (Glo  (None, 100)              0         \n",
            " balMaxPooling1D)                                                \n",
            "                                                                 \n",
            " batch_normalization (BatchN  (None, 100)              400       \n",
            " ormalization)                                                   \n",
            "                                                                 \n",
            " dropout (Dropout)           (None, 100)               0         \n",
            "                                                                 \n",
            " dense_4 (Dense)             (None, 10)                1010      \n",
            "                                                                 \n",
            " dropout_1 (Dropout)         (None, 10)                0         \n",
            "                                                                 \n",
            " dense_5 (Dense)             (None, 1)                 11        \n",
            "                                                                 \n",
            "=================================================================\n",
            "Total params: 4,803,421\n",
            "Trainable params: 4,803,221\n",
            "Non-trainable params: 200\n",
            "_________________________________________________________________\n"
          ]
        }
      ],
      "source": [
        "\n",
        "lstm_model.compile(optimizer = Adam(learning_rate=0.001), loss = \"binary_crossentropy\", metrics = [\"accuracy\"])\n",
        "lstm_model.summary()"
      ]
    },
    {
      "cell_type": "code",
      "execution_count": null,
      "metadata": {
        "colab": {
          "base_uri": "https://localhost:8080/"
        },
        "id": "_mDOtyt_13KW",
        "outputId": "b294cb70-c075-4f5a-98ac-63861e279dcb"
      },
      "outputs": [
        {
          "output_type": "stream",
          "name": "stdout",
          "text": [
            "Epoch 1/10\n",
            "160/160 [==============================] - ETA: 0s - loss: 0.5954 - accuracy: 0.7139\n",
            "Epoch 1: val_accuracy did not improve from 0.80183\n",
            "\n",
            "Epoch: 1 - Training Precision: 0.832907 - Training Recall: 0.829936 - Training F1: 0.831245\n",
            "Epoch: 1 - Validation Precision: 0.781951 - Validation Recall: 0.780007 - Validation F1: 0.780876\n",
            "160/160 [==============================] - 29s 161ms/step - loss: 0.5954 - accuracy: 0.7139 - val_loss: 0.6022 - val_accuracy: 0.7859\n",
            "Epoch 2/10\n",
            "160/160 [==============================] - ETA: 0s - loss: 0.4355 - accuracy: 0.8076\n",
            "Epoch 2: val_accuracy did not improve from 0.80183\n",
            "\n",
            "Epoch: 2 - Training Precision: 0.873346 - Training Recall: 0.821259 - Training F1: 0.830553\n",
            "Epoch: 2 - Validation Precision: 0.814148 - Validation Recall: 0.769624 - Validation F1: 0.776025\n",
            "160/160 [==============================] - 25s 156ms/step - loss: 0.4355 - accuracy: 0.8076 - val_loss: 0.5135 - val_accuracy: 0.7923\n",
            "Epoch 3/10\n",
            "160/160 [==============================] - ETA: 0s - loss: 0.3619 - accuracy: 0.8441\n",
            "Epoch 3: val_accuracy did not improve from 0.80183\n",
            "\n",
            "Epoch: 3 - Training Precision: 0.919288 - Training Recall: 0.896173 - Training F1: 0.903338\n",
            "Epoch: 3 - Validation Precision: 0.803658 - Validation Recall: 0.783988 - Validation F1: 0.788937\n",
            "160/160 [==============================] - 25s 157ms/step - loss: 0.3619 - accuracy: 0.8441 - val_loss: 0.4608 - val_accuracy: 0.7986\n",
            "Epoch 4/10\n",
            "160/160 [==============================] - ETA: 0s - loss: 0.2845 - accuracy: 0.8851\n",
            "Epoch 4: val_accuracy did not improve from 0.80183\n",
            "\n",
            "Epoch: 4 - Training Precision: 0.947709 - Training Recall: 0.938563 - Training F1: 0.942249\n",
            "Epoch: 4 - Validation Precision: 0.794728 - Validation Recall: 0.783464 - Validation F1: 0.786993\n",
            "160/160 [==============================] - 26s 164ms/step - loss: 0.2845 - accuracy: 0.8851 - val_loss: 0.5430 - val_accuracy: 0.7947\n",
            "Epoch 5/10\n",
            "160/160 [==============================] - ETA: 0s - loss: 0.2186 - accuracy: 0.9169\n",
            "Epoch 5: val_accuracy did not improve from 0.80183\n",
            "\n",
            "Epoch: 5 - Training Precision: 0.961656 - Training Recall: 0.948357 - Training F1: 0.953392\n",
            "Epoch: 5 - Validation Precision: 0.796288 - Validation Recall: 0.770461 - Validation F1: 0.775794\n",
            "160/160 [==============================] - 25s 156ms/step - loss: 0.2186 - accuracy: 0.9169 - val_loss: 0.6092 - val_accuracy: 0.7879\n",
            "Epoch 6/10\n",
            "160/160 [==============================] - ETA: 0s - loss: 0.1480 - accuracy: 0.9484\n",
            "Epoch 6: val_accuracy did not improve from 0.80183\n",
            "\n",
            "Epoch: 6 - Training Precision: 0.961758 - Training Recall: 0.947391 - Training F1: 0.952739\n",
            "Epoch: 6 - Validation Precision: 0.789229 - Validation Recall: 0.757626 - Validation F1: 0.76294\n",
            "160/160 [==============================] - 25s 155ms/step - loss: 0.1480 - accuracy: 0.9484 - val_loss: 0.6893 - val_accuracy: 0.7776\n",
            "Epoch 7/10\n",
            "160/160 [==============================] - ETA: 0s - loss: 0.1125 - accuracy: 0.9614\n",
            "Epoch 7: val_accuracy did not improve from 0.80183\n",
            "\n",
            "Epoch: 7 - Training Precision: 0.97662 - Training Recall: 0.972367 - Training F1: 0.974285\n",
            "Epoch: 7 - Validation Precision: 0.779261 - Validation Recall: 0.765053 - Validation F1: 0.768909\n",
            "160/160 [==============================] - 25s 155ms/step - loss: 0.1125 - accuracy: 0.9614 - val_loss: 0.9111 - val_accuracy: 0.7784\n",
            "Epoch 8/10\n",
            "160/160 [==============================] - ETA: 0s - loss: 0.1014 - accuracy: 0.9657\n",
            "Epoch 8: val_accuracy did not improve from 0.80183\n",
            "\n",
            "Epoch: 8 - Training Precision: 0.979895 - Training Recall: 0.974148 - Training F1: 0.976663\n",
            "Epoch: 8 - Validation Precision: 0.789415 - Validation Recall: 0.769153 - Validation F1: 0.773889\n",
            "160/160 [==============================] - 25s 156ms/step - loss: 0.1014 - accuracy: 0.9657 - val_loss: 0.8270 - val_accuracy: 0.7847\n"
          ]
        }
      ],
      "source": [
        "hist = lstm_model.fit(X_train_pad_tokens,y_train, epochs=10,validation_data=(X_test_pad_tokens,y_test),batch_size=32,callbacks=callbacks)"
      ]
    },
    {
      "cell_type": "code",
      "execution_count": null,
      "metadata": {
        "colab": {
          "base_uri": "https://localhost:8080/",
          "height": 318
        },
        "id": "A9Eypx2HxgaV",
        "outputId": "bff71795-348e-4124-e383-bed6f63501e8"
      },
      "outputs": [
        {
          "output_type": "execute_result",
          "data": {
            "text/plain": [
              "[]"
            ]
          },
          "metadata": {},
          "execution_count": 64
        },
        {
          "output_type": "display_data",
          "data": {
            "text/plain": [
              "<Figure size 432x288 with 1 Axes>"
            ],
            "image/png": "[encoded data removed]"
          },
          "metadata": {}
        }
      ],
      "source": [
        "acc = hist.history['accuracy']\n",
        "val = hist.history['val_accuracy']\n",
        "epochs = range(1, len(acc) + 1)\n",
        " \n",
        "plt.plot(epochs, acc, '-', label='Training accuracy')\n",
        "plt.plot(epochs, val, ':', label='Validation accuracy')\n",
        "plt.title('Training and Validation Accuracy')\n",
        "plt.xlabel('Epoch')\n",
        "plt.ylabel('Accuracy')\n",
        "plt.legend(loc='lower right')\n",
        "plt.plot()"
      ]
    },
    {
      "cell_type": "markdown",
      "metadata": {
        "id": "X7GQWvoZAlSx"
      },
      "source": [
        "#observation:\n",
        "\n",
        "* Single layer LSTM model with embedding found the accuracy as 79.86"
      ]
    },
    {
      "cell_type": "markdown",
      "metadata": {
        "id": "pkF5MCcwyQbN"
      },
      "source": [
        "#Bidirectional LSTM"
      ]
    },
    {
      "cell_type": "code",
      "execution_count": null,
      "metadata": {
        "id": "MP6VT8imHjGZ"
      },
      "outputs": [],
      "source": [
        "from tensorflow.keras.layers import Bidirectional"
      ]
    },
    {
      "cell_type": "code",
      "execution_count": null,
      "metadata": {
        "id": "egDP2SCbyP-U"
      },
      "outputs": [],
      "source": [
        "\n",
        "lstm_model1 = Sequential()\n",
        "lstm_model1.add(Embedding(input_dim=max_vocabulary+1,output_dim=300,input_length=maxlen,weights=[embedding_mat]))\n",
        "lstm_model1.add(Bidirectional(LSTM(units=100,kernel_initializer='glorot_uniform',recurrent_dropout=0.5,return_sequences=True)))\n",
        "lstm_model1.add(GlobalMaxPool1D())\n",
        "lstm_model1.add(BatchNormalization())\n",
        "lstm_model1.add(Dropout(0.5))\n",
        "lstm_model1.add(Dense(10, activation=\"relu\"))\n",
        "lstm_model1.add(Dropout(0.25))\n",
        "lstm_model1.add(Dense(1, activation = \"sigmoid\"))"
      ]
    },
    {
      "cell_type": "code",
      "execution_count": null,
      "metadata": {
        "colab": {
          "base_uri": "https://localhost:8080/"
        },
        "id": "_C6-RA3tynKO",
        "outputId": "3065ca8a-6a76-47b9-d9c7-1b4359f757fe"
      },
      "outputs": [
        {
          "output_type": "stream",
          "name": "stdout",
          "text": [
            "Model: \"sequential_4\"\n",
            "_________________________________________________________________\n",
            " Layer (type)                Output Shape              Param #   \n",
            "=================================================================\n",
            " embedding_4 (Embedding)     (None, 27, 300)           4641600   \n",
            "                                                                 \n",
            " bidirectional (Bidirectiona  (None, 27, 200)          320800    \n",
            " l)                                                              \n",
            "                                                                 \n",
            " global_max_pooling1d_3 (Glo  (None, 200)              0         \n",
            " balMaxPooling1D)                                                \n",
            "                                                                 \n",
            " batch_normalization_1 (Batc  (None, 200)              800       \n",
            " hNormalization)                                                 \n",
            "                                                                 \n",
            " dropout_2 (Dropout)         (None, 200)               0         \n",
            "                                                                 \n",
            " dense_6 (Dense)             (None, 10)                2010      \n",
            "                                                                 \n",
            " dropout_3 (Dropout)         (None, 10)                0         \n",
            "                                                                 \n",
            " dense_7 (Dense)             (None, 1)                 11        \n",
            "                                                                 \n",
            "=================================================================\n",
            "Total params: 4,965,221\n",
            "Trainable params: 4,964,821\n",
            "Non-trainable params: 400\n",
            "_________________________________________________________________\n"
          ]
        }
      ],
      "source": [
        "lstm_model1.compile(optimizer = Adam(learning_rate=0.001), loss = \"binary_crossentropy\", metrics = [\"accuracy\"])\n",
        "lstm_model1.summary()"
      ]
    },
    {
      "cell_type": "code",
      "execution_count": null,
      "metadata": {
        "colab": {
          "base_uri": "https://localhost:8080/"
        },
        "id": "GLhv8jFiyn7U",
        "outputId": "33eaed46-c2ed-451b-dfe8-7319c10cf221"
      },
      "outputs": [
        {
          "output_type": "stream",
          "name": "stdout",
          "text": [
            "Epoch 1/10\n",
            "160/160 [==============================] - ETA: 0s - loss: 0.5833 - accuracy: 0.7261\n",
            "Epoch 1: val_accuracy did not improve from 0.80183\n",
            "\n",
            "Epoch: 1 - Training Precision: 0.838993 - Training Recall: 0.715581 - Training F1: 0.713774\n",
            "Epoch: 1 - Validation Precision: 0.803103 - Validation Recall: 0.687439 - Validation F1: 0.680737\n",
            "160/160 [==============================] - 50s 278ms/step - loss: 0.5833 - accuracy: 0.7261 - val_loss: 0.5976 - val_accuracy: 0.7278\n",
            "Epoch 2/10\n",
            "160/160 [==============================] - ETA: 0s - loss: 0.4309 - accuracy: 0.8082\n",
            "Epoch 2: val_accuracy did not improve from 0.80183\n",
            "\n",
            "Epoch: 2 - Training Precision: 0.888938 - Training Recall: 0.850295 - Training F1: 0.859237\n",
            "Epoch: 2 - Validation Precision: 0.810151 - Validation Recall: 0.775722 - Validation F1: 0.781886\n",
            "160/160 [==============================] - 42s 261ms/step - loss: 0.4309 - accuracy: 0.8082 - val_loss: 0.4778 - val_accuracy: 0.7955\n",
            "Epoch 3/10\n",
            "160/160 [==============================] - ETA: 0s - loss: 0.3588 - accuracy: 0.8529\n",
            "Epoch 3: val_accuracy did not improve from 0.80183\n",
            "\n",
            "Epoch: 3 - Training Precision: 0.915769 - Training Recall: 0.8862 - Training F1: 0.894502\n",
            "Epoch: 3 - Validation Precision: 0.807104 - Validation Recall: 0.775823 - Validation F1: 0.781767\n",
            "160/160 [==============================] - 42s 263ms/step - loss: 0.3588 - accuracy: 0.8529 - val_loss: 0.4599 - val_accuracy: 0.7947\n",
            "Epoch 4/10\n",
            "160/160 [==============================] - ETA: 0s - loss: 0.2838 - accuracy: 0.8859\n",
            "Epoch 4: val_accuracy did not improve from 0.80183\n",
            "\n",
            "Epoch: 4 - Training Precision: 0.947233 - Training Recall: 0.947132 - Training F1: 0.947183\n",
            "Epoch: 4 - Validation Precision: 0.767849 - Validation Recall: 0.769627 - Validation F1: 0.768608\n",
            "160/160 [==============================] - 42s 261ms/step - loss: 0.2838 - accuracy: 0.8859 - val_loss: 0.5172 - val_accuracy: 0.7724\n",
            "Epoch 5/10\n",
            "160/160 [==============================] - ETA: 0s - loss: 0.2054 - accuracy: 0.9210\n",
            "Epoch 5: val_accuracy did not improve from 0.80183\n",
            "\n",
            "Epoch: 5 - Training Precision: 0.962477 - Training Recall: 0.953251 - Training F1: 0.956998\n",
            "Epoch: 5 - Validation Precision: 0.787099 - Validation Recall: 0.772245 - Validation F1: 0.776302\n",
            "160/160 [==============================] - 42s 261ms/step - loss: 0.2054 - accuracy: 0.9210 - val_loss: 0.6645 - val_accuracy: 0.7855\n",
            "Epoch 6/10\n",
            "160/160 [==============================] - ETA: 0s - loss: 0.1507 - accuracy: 0.9408\n",
            "Epoch 6: val_accuracy did not improve from 0.80183\n",
            "\n",
            "Epoch: 6 - Training Precision: 0.974518 - Training Recall: 0.966673 - Training F1: 0.969964\n",
            "Epoch: 6 - Validation Precision: 0.784591 - Validation Recall: 0.766818 - Validation F1: 0.771205\n",
            "160/160 [==============================] - 47s 296ms/step - loss: 0.1507 - accuracy: 0.9408 - val_loss: 0.7326 - val_accuracy: 0.7815\n",
            "Epoch 7/10\n",
            "160/160 [==============================] - ETA: 0s - loss: 0.1042 - accuracy: 0.9649\n",
            "Epoch 7: val_accuracy did not improve from 0.80183\n",
            "\n",
            "Epoch: 7 - Training Precision: 0.983361 - Training Recall: 0.981836 - Training F1: 0.982569\n",
            "Epoch: 7 - Validation Precision: 0.764443 - Validation Recall: 0.762267 - Validation F1: 0.763216\n",
            "160/160 [==============================] - 42s 264ms/step - loss: 0.1042 - accuracy: 0.9649 - val_loss: 0.8022 - val_accuracy: 0.7688\n"
          ]
        }
      ],
      "source": [
        "hist = lstm_model1.fit(X_train_pad_tokens,y_train, epochs=10,validation_data=(X_test_pad_tokens,y_test),batch_size=32,callbacks=callbacks)"
      ]
    },
    {
      "cell_type": "markdown",
      "metadata": {
        "id": "0obgj3AQdJ66"
      },
      "source": [
        "#observation:\n",
        "\n",
        "* Single layer Bidirectional LSTM model with embedding found the accuracy as 79.55"
      ]
    },
    {
      "cell_type": "markdown",
      "metadata": {
        "id": "yO2WGrECA4Ct"
      },
      "source": [
        "#lets try word embedding from pretrained embeddings"
      ]
    },
    {
      "cell_type": "code",
      "execution_count": null,
      "metadata": {
        "id": "soXLWpi_A3Pp"
      },
      "outputs": [],
      "source": [
        "#https://www.kaggle.com/code/christofhenkel/how-to-preprocessing-when-using-embeddings/notebook\n",
        "\n",
        "def build_vocab(sentences, verbose =  True):\n",
        "    \"\"\"\n",
        "    :param sentences: list of list of words\n",
        "    :return: dictionary of words and their count\n",
        "    \"\"\"\n",
        "    vocab = {}\n",
        "    for sentence in tqdm(sentences, disable = (not verbose)):\n",
        "        for word in sentence:\n",
        "            try:\n",
        "                vocab[word] += 1\n",
        "            except KeyError:\n",
        "                vocab[word] = 1\n",
        "    return vocab"
      ]
    },
    {
      "cell_type": "code",
      "execution_count": null,
      "metadata": {
        "colab": {
          "base_uri": "https://localhost:8080/"
        },
        "id": "1qib5_ciBbxu",
        "outputId": "302c71c9-47d6-4ba2-fdc5-7aeedc20a6de"
      },
      "outputs": [
        {
          "output_type": "stream",
          "name": "stderr",
          "text": [
            "100%|██████████| 7613/7613 [00:00<00:00, 178071.44it/s]"
          ]
        },
        {
          "output_type": "stream",
          "name": "stdout",
          "text": [
            "{'Our': 25, 'Deeds': 1, 'are': 345, 'the': 2575, 'Reason': 5}\n"
          ]
        },
        {
          "output_type": "stream",
          "name": "stderr",
          "text": [
            "\n"
          ]
        }
      ],
      "source": [
        "sentences = df_train[\"text\"].apply(lambda x: x.split()).values\n",
        "vocab = build_vocab(sentences)\n",
        "print({k: vocab[k] for k in list(vocab)[:5]})"
      ]
    },
    {
      "cell_type": "code",
      "execution_count": null,
      "metadata": {
        "colab": {
          "base_uri": "https://localhost:8080/"
        },
        "id": "rjHSOZJrLJ1Y",
        "outputId": "ed189310-6db4-4b98-92ce-fe71ceb0b50d"
      },
      "outputs": [
        {
          "output_type": "stream",
          "name": "stdout",
          "text": [
            "/usr/local/lib/python3.8/dist-packages/gdown/cli.py:121: FutureWarning: Option `--id` was deprecated in version 4.3.1 and will be removed in 5.0. You don't need to pass it anymore to use a file ID.\n",
            "  warnings.warn(\n",
            "Downloading...\n",
            "From: https://drive.google.com/uc?id=1YUM5bWSYGOJbQtTth5c1gKwapkOSdna0\n",
            "To: /content/Pickled glove.840b.300d.zip\n",
            "100% 2.51G/2.51G [00:28<00:00, 88.6MB/s]\n"
          ]
        }
      ],
      "source": [
        "!gdown --id 1YUM5bWSYGOJbQtTth5c1gKwapkOSdna0"
      ]
    },
    {
      "cell_type": "code",
      "execution_count": null,
      "metadata": {
        "colab": {
          "base_uri": "https://localhost:8080/"
        },
        "id": "xB2JoHJ1L1SN",
        "outputId": "31149a8d-820b-4089-ea14-b82ea6c3225c"
      },
      "outputs": [
        {
          "output_type": "stream",
          "name": "stdout",
          "text": [
            "Archive:  /content/Pickled glove.840b.300d.zip\n",
            "  inflating: glove.840B.300d.pkl     \n"
          ]
        }
      ],
      "source": [
        "!unzip \"/content/Pickled glove.840b.300d.zip\""
      ]
    },
    {
      "cell_type": "code",
      "execution_count": null,
      "metadata": {
        "colab": {
          "base_uri": "https://localhost:8080/"
        },
        "id": "7VqNCsfHCVvd",
        "outputId": "495fd034-a62b-410b-f12e-3fb8f4f2f654"
      },
      "outputs": [
        {
          "output_type": "stream",
          "name": "stdout",
          "text": [
            "CPU times: user 7.05 s, sys: 3.38 s, total: 10.4 s\n",
            "Wall time: 10.8 s\n"
          ]
        }
      ],
      "source": [
        "%%time\n",
        "\n",
        "glove_embeddings = np.load('glove.840B.300d.pkl',allow_pickle=True)\n"
      ]
    },
    {
      "cell_type": "code",
      "execution_count": null,
      "metadata": {
        "id": "u_ZqoGuRMzfk"
      },
      "outputs": [],
      "source": [
        "import operator"
      ]
    },
    {
      "cell_type": "code",
      "execution_count": null,
      "metadata": {
        "id": "Hcg95t_9C9lI"
      },
      "outputs": [],
      "source": [
        "def check_embeddings_coverage(X, embeddings):\n",
        "    \n",
        "    vocab = build_vocab(X)    \n",
        "    \n",
        "    covered = {}\n",
        "    oov = {}    \n",
        "    n_covered = 0\n",
        "    n_oov = 0\n",
        "    \n",
        "    for word in vocab:\n",
        "        try:\n",
        "            covered[word] = embeddings[word]\n",
        "            n_covered += vocab[word]\n",
        "        except:\n",
        "            oov[word] = vocab[word]\n",
        "            n_oov += vocab[word]\n",
        "            \n",
        "    vocab_coverage = len(covered) / len(vocab)\n",
        "    text_coverage = (n_covered / (n_covered + n_oov))\n",
        "    \n",
        "    sorted_oov = sorted(oov.items(), key=operator.itemgetter(1))[::-1]\n",
        "    return sorted_oov, vocab_coverage, text_coverage\n"
      ]
    },
    {
      "cell_type": "code",
      "execution_count": null,
      "metadata": {
        "colab": {
          "base_uri": "https://localhost:8080/"
        },
        "id": "4NYuXBiMMWZQ",
        "outputId": "6eb42673-48b7-4a0e-bc3b-6dffe5f75299"
      },
      "outputs": [
        {
          "output_type": "stream",
          "name": "stderr",
          "text": [
            "100%|██████████| 5100/5100 [00:00<00:00, 107982.75it/s]\n",
            "100%|██████████| 2513/2513 [00:00<00:00, 97236.01it/s]"
          ]
        },
        {
          "output_type": "stream",
          "name": "stdout",
          "text": [
            "GloVe Embeddings cover 97.30% of vocabulary and 86.57% of text in Training Set\n",
            "GloVe Embeddings cover 97.30% of vocabulary and 86.56% of text in Test Set\n"
          ]
        },
        {
          "output_type": "stream",
          "name": "stderr",
          "text": [
            "\n"
          ]
        }
      ],
      "source": [
        "train_glove_oov, train_glove_vocab_coverage, train_glove_text_coverage = check_embeddings_coverage(X_train[\"clean_text\"], glove_embeddings)\n",
        "test_glove_oov, test_glove_vocab_coverage, test_glove_text_coverage = check_embeddings_coverage(X_test[\"clean_text\"], glove_embeddings)\n",
        "print('GloVe Embeddings cover {:.2%} of vocabulary and {:.2%} of text in Training Set'.format(train_glove_vocab_coverage, train_glove_text_coverage))\n",
        "print('GloVe Embeddings cover {:.2%} of vocabulary and {:.2%} of text in Test Set'.format(test_glove_vocab_coverage, test_glove_text_coverage))"
      ]
    },
    {
      "cell_type": "code",
      "execution_count": null,
      "metadata": {
        "id": "RkaABI2IQuaw"
      },
      "outputs": [],
      "source": [
        "with open('glove.840B.300d.pkl', 'rb') as f:\n",
        "    glove = pickle.load(f)\n",
        "    \n",
        "# define an embedding matrix\n",
        "glove_matrix = np.zeros((len(tokenizer.word_index) + 1, 300))\n",
        "\n",
        "# get embeddings from GloVe and list out of vocabulary words\n",
        "unknown_words = []    \n",
        "for word, i in tokenizer.word_index.items():\n",
        "    try:\n",
        "        glove_matrix[i] = glove[word]\n",
        "    except KeyError:\n",
        "        unknown_words.append(word)\n",
        "        \n",
        "embedding_matrix = np.concatenate([glove_matrix], axis=-1)"
      ]
    },
    {
      "cell_type": "code",
      "execution_count": null,
      "metadata": {
        "colab": {
          "base_uri": "https://localhost:8080/"
        },
        "id": "EcqksNr9c6Zu",
        "outputId": "3d750ff1-2a8f-418b-c279-f2adc982aa43"
      },
      "outputs": [
        {
          "output_type": "stream",
          "name": "stdout",
          "text": [
            "No of missing words: 3602\n"
          ]
        }
      ],
      "source": [
        "print(\"No of missing words:\",len(unknown_words))"
      ]
    },
    {
      "cell_type": "code",
      "execution_count": null,
      "metadata": {
        "id": "2NecJqzjFQpY"
      },
      "outputs": [],
      "source": [
        "unknown_wordsframe=pd.DataFrame(unknown_words)"
      ]
    },
    {
      "cell_type": "code",
      "execution_count": null,
      "metadata": {
        "id": "c3uPLGJ1F2IE"
      },
      "outputs": [],
      "source": [
        "unknown_wordsframe.value_counts().to_csv(\"unknown words_glove.csv\")"
      ]
    },
    {
      "cell_type": "code",
      "execution_count": null,
      "metadata": {
        "id": "bNRckwN_moDJ"
      },
      "outputs": [],
      "source": [
        "import gc"
      ]
    },
    {
      "cell_type": "code",
      "execution_count": null,
      "metadata": {
        "colab": {
          "base_uri": "https://localhost:8080/"
        },
        "id": "r0ig8s3nmQSq",
        "outputId": "bd1b15b9-1768-45ef-9d34-173d5bfea1ee"
      },
      "outputs": [
        {
          "output_type": "execute_result",
          "data": {
            "text/plain": [
              "30716"
            ]
          },
          "metadata": {},
          "execution_count": 85
        }
      ],
      "source": [
        "del glove_embeddings,train_glove_oov, train_glove_vocab_coverage, train_glove_text_coverage,test_glove_oov, test_glove_vocab_coverage, test_glove_text_coverage\n",
        "gc.collect()"
      ]
    },
    {
      "cell_type": "markdown",
      "metadata": {
        "id": "BOMKN73PyJt9"
      },
      "source": [
        "# lets try for fasttext embedding"
      ]
    },
    {
      "cell_type": "code",
      "execution_count": null,
      "metadata": {
        "colab": {
          "base_uri": "https://localhost:8080/"
        },
        "id": "3RVghzYyyJBj",
        "outputId": "f8969477-4689-47f4-8dc2-6837a476e2f7"
      },
      "outputs": [
        {
          "output_type": "stream",
          "name": "stdout",
          "text": [
            "/usr/local/lib/python3.8/dist-packages/gdown/cli.py:121: FutureWarning: Option `--id` was deprecated in version 4.3.1 and will be removed in 5.0. You don't need to pass it anymore to use a file ID.\n",
            "  warnings.warn(\n",
            "Downloading...\n",
            "From: https://drive.google.com/uc?id=1JHicpxjC66wseC5FkOCkk9sbh-NwMWEs\n",
            "To: /content/Pickled Crawl -300D-2M.zip\n",
            "100% 1.82G/1.82G [00:16<00:00, 110MB/s] \n"
          ]
        }
      ],
      "source": [
        "!gdown --id 1JHicpxjC66wseC5FkOCkk9sbh-NwMWEs"
      ]
    },
    {
      "cell_type": "code",
      "execution_count": null,
      "metadata": {
        "colab": {
          "base_uri": "https://localhost:8080/"
        },
        "id": "ruDkzjfVyTdt",
        "outputId": "4465b991-64e7-4346-8520-e7a8822113d9"
      },
      "outputs": [
        {
          "output_type": "stream",
          "name": "stdout",
          "text": [
            "Archive:  /content/Pickled Crawl -300D-2M.zip\n",
            "  inflating: crawl-300d-2M.pkl       \n"
          ]
        }
      ],
      "source": [
        "!unzip \"/content/Pickled Crawl -300D-2M.zip\""
      ]
    },
    {
      "cell_type": "code",
      "execution_count": null,
      "metadata": {
        "colab": {
          "base_uri": "https://localhost:8080/"
        },
        "id": "8Zw5q6AYyTRj",
        "outputId": "1bc2beb8-916e-4670-fbc7-d6ab97901c79"
      },
      "outputs": [
        {
          "output_type": "stream",
          "name": "stdout",
          "text": [
            "CPU times: user 5 s, sys: 2.5 s, total: 7.5 s\n",
            "Wall time: 7.61 s\n"
          ]
        }
      ],
      "source": [
        "%%time\n",
        "\n",
        "fasttext_embeddings = np.load('crawl-300d-2M.pkl',allow_pickle=True)\n"
      ]
    },
    {
      "cell_type": "code",
      "execution_count": null,
      "metadata": {
        "id": "liOYz8sXcaWn"
      },
      "outputs": [],
      "source": [
        "with open('crawl-300d-2M.pkl', 'rb') as f:\n",
        "    glove = pickle.load(f)\n",
        "    \n",
        "# define an embedding matrix\n",
        "glove_matrix = np.zeros((len(tokenizer.word_index) + 1, 300))\n",
        "\n",
        "# get embeddings from GloVe and list out of vocabulary words\n",
        "unknown_words = []    \n",
        "for word, i in tokenizer.word_index.items():\n",
        "    try:\n",
        "        glove_matrix[i] = glove[word]\n",
        "    except KeyError:\n",
        "        unknown_words.append(word)\n",
        "        \n",
        "embedding_matrix = np.concatenate([glove_matrix], axis=-1)"
      ]
    },
    {
      "cell_type": "code",
      "execution_count": null,
      "metadata": {
        "colab": {
          "base_uri": "https://localhost:8080/"
        },
        "id": "Q6txUpglcvXj",
        "outputId": "6f97f30f-6b65-4dcf-9d51-a50d9b8d38b6"
      },
      "outputs": [
        {
          "output_type": "stream",
          "name": "stdout",
          "text": [
            "No of missing words: 3876\n"
          ]
        }
      ],
      "source": [
        "print(\"No of missing words:\",len(unknown_words))"
      ]
    },
    {
      "cell_type": "code",
      "source": [
        "unknown_wordsframe=pd.DataFrame(unknown_words)"
      ],
      "metadata": {
        "id": "-x2Pt_C1CXNy"
      },
      "execution_count": null,
      "outputs": []
    },
    {
      "cell_type": "code",
      "source": [
        "unknown_wordsframe.value_counts().to_csv(\"unknown words_fasttext.csv\")"
      ],
      "metadata": {
        "id": "3ArELTCMCgZe"
      },
      "execution_count": null,
      "outputs": []
    },
    {
      "cell_type": "code",
      "execution_count": null,
      "metadata": {
        "colab": {
          "base_uri": "https://localhost:8080/"
        },
        "id": "hvmutGaayS6B",
        "outputId": "1e714ee9-d8f0-44ff-8fe0-e0f1e7b2f237"
      },
      "outputs": [
        {
          "output_type": "stream",
          "name": "stderr",
          "text": [
            "100%|██████████| 5100/5100 [00:00<00:00, 87718.16it/s]\n",
            "100%|██████████| 2513/2513 [00:00<00:00, 91601.29it/s]"
          ]
        },
        {
          "output_type": "stream",
          "name": "stdout",
          "text": [
            "Fasttext Embeddings cover 97.30% of vocabulary and 86.57% of text in Training Set\n",
            "Fasttext Embeddings cover 97.30% of vocabulary and 86.56% of text in Test Set\n"
          ]
        },
        {
          "output_type": "stream",
          "name": "stderr",
          "text": [
            "\n"
          ]
        }
      ],
      "source": [
        "train_fasttext_oov, train_fasttext_vocab_coverage, train_fasttext_text_coverage = check_embeddings_coverage(X_train[\"clean_text\"], fasttext_embeddings)\n",
        "test_fasttext_oov, test_fasttext_vocab_coverage, test_fasttext_text_coverage = check_embeddings_coverage(X_test[\"clean_text\"], fasttext_embeddings)\n",
        "print('Fasttext Embeddings cover {:.2%} of vocabulary and {:.2%} of text in Training Set'.format(train_fasttext_vocab_coverage, train_fasttext_text_coverage))\n",
        "print('Fasttext Embeddings cover {:.2%} of vocabulary and {:.2%} of text in Test Set'.format(test_fasttext_vocab_coverage, test_fasttext_text_coverage))"
      ]
    },
    {
      "cell_type": "markdown",
      "metadata": {
        "id": "ntv-3yKfqvJD"
      },
      "source": [
        "Observation: \n",
        "* Both glove and fasttext embedding having more or over same missing values"
      ]
    },
    {
      "cell_type": "code",
      "execution_count": null,
      "metadata": {
        "colab": {
          "base_uri": "https://localhost:8080/"
        },
        "id": "5voTNXsUsyOT",
        "outputId": "0e107ee4-53d7-48f4-b111-0a22c766c718"
      },
      "outputs": [
        {
          "output_type": "stream",
          "name": "stdout",
          "text": [
            "/usr/local/lib/python3.8/dist-packages/gdown/cli.py:121: FutureWarning: Option `--id` was deprecated in version 4.3.1 and will be removed in 5.0. You don't need to pass it anymore to use a file ID.\n",
            "  warnings.warn(\n",
            "Downloading...\n",
            "From: https://drive.google.com/uc?id=1Lgne8ANV3Ql3ZgmeHnY3AjyAAYOp7STB\n",
            "To: /content/glove.twitter.27B.200d.pkl.zip\n",
            "100% 923M/923M [00:11<00:00, 77.0MB/s]\n"
          ]
        }
      ],
      "source": [
        "!gdown --id 1Lgne8ANV3Ql3ZgmeHnY3AjyAAYOp7STB"
      ]
    },
    {
      "cell_type": "code",
      "execution_count": null,
      "metadata": {
        "colab": {
          "base_uri": "https://localhost:8080/"
        },
        "id": "OtxRah3dtpjB",
        "outputId": "ec179053-1320-409a-8035-6264d799c488"
      },
      "outputs": [
        {
          "output_type": "stream",
          "name": "stdout",
          "text": [
            "Archive:  /content/glove.twitter.27B.200d.pkl.zip\n",
            "  inflating: glove.twitter.27B.200d.pkl  \n"
          ]
        }
      ],
      "source": [
        "!unzip \"/content/glove.twitter.27B.200d.pkl.zip\""
      ]
    },
    {
      "cell_type": "code",
      "execution_count": null,
      "metadata": {
        "colab": {
          "base_uri": "https://localhost:8080/"
        },
        "id": "suhBrfN6tpLL",
        "outputId": "8a1a4641-9479-4bb1-e27e-e1b91e8093d2"
      },
      "outputs": [
        {
          "output_type": "stream",
          "name": "stdout",
          "text": [
            "CPU times: user 2.98 s, sys: 1.73 s, total: 4.7 s\n",
            "Wall time: 5.1 s\n"
          ]
        }
      ],
      "source": [
        "%%time\n",
        "\n",
        "Twitter_embeddings = np.load('glove.twitter.27B.200d.pkl',allow_pickle=True)"
      ]
    },
    {
      "cell_type": "code",
      "execution_count": null,
      "metadata": {
        "id": "t6nQFwgYtvOo"
      },
      "outputs": [],
      "source": [
        "with open('glove.twitter.27B.200d.pkl', 'rb') as f:\n",
        "    glove = pickle.load(f)\n",
        "    \n",
        "# define an embedding matrix\n",
        "glove_matrix = np.zeros((len(tokenizer.word_index) + 1, 200))\n",
        "\n",
        "# get embeddings from GloVe and list out of vocabulary words\n",
        "unknown_words = []    \n",
        "for word, i in tokenizer.word_index.items():\n",
        "    try:\n",
        "        glove_matrix[i] = glove[word]\n",
        "    except KeyError:\n",
        "        unknown_words.append(word)\n",
        "        \n",
        "embedding_matrix = np.concatenate([glove_matrix], axis=-1)"
      ]
    },
    {
      "cell_type": "code",
      "execution_count": null,
      "metadata": {
        "colab": {
          "base_uri": "https://localhost:8080/"
        },
        "id": "Fcg5CQr6tvH8",
        "outputId": "dd26095b-2962-43dc-e5c5-8dd46358d72e"
      },
      "outputs": [
        {
          "output_type": "stream",
          "name": "stdout",
          "text": [
            "No of missing words: 4066\n"
          ]
        }
      ],
      "source": [
        "print(\"No of missing words:\",len(unknown_words))"
      ]
    },
    {
      "cell_type": "code",
      "source": [
        "unknown_wordsframe=pd.DataFrame(unknown_words)"
      ],
      "metadata": {
        "id": "BS3XHOunWhl5"
      },
      "execution_count": null,
      "outputs": []
    },
    {
      "cell_type": "code",
      "source": [
        "unknown_wordsframe.value_counts().to_csv(\"unknown words_twittertweets.csv\")"
      ],
      "metadata": {
        "id": "UuKQoiAlWkXE"
      },
      "execution_count": null,
      "outputs": []
    },
    {
      "cell_type": "code",
      "source": [
        "!gdown --id 1PiePliTAtktXtIjBCAvWsyAn124_NqU3"
      ],
      "metadata": {
        "colab": {
          "base_uri": "https://localhost:8080/"
        },
        "id": "ZDEvqS45e1Dz",
        "outputId": "12a88076-d93a-459e-eaee-128b5effbd40"
      },
      "execution_count": null,
      "outputs": [
        {
          "output_type": "stream",
          "name": "stdout",
          "text": [
            "/usr/local/lib/python3.8/dist-packages/gdown/cli.py:121: FutureWarning: Option `--id` was deprecated in version 4.3.1 and will be removed in 5.0. You don't need to pass it anymore to use a file ID.\n",
            "  warnings.warn(\n",
            "Downloading...\n",
            "From: https://drive.google.com/uc?id=1PiePliTAtktXtIjBCAvWsyAn124_NqU3\n",
            "To: /content/glove.twitter.27B.100d.pkl.zip\n",
            "100% 482M/482M [00:45<00:00, 10.5MB/s]\n"
          ]
        }
      ]
    },
    {
      "cell_type": "code",
      "source": [
        "!unzip \"/content/glove.twitter.27B.100d.pkl.zip\""
      ],
      "metadata": {
        "colab": {
          "base_uri": "https://localhost:8080/"
        },
        "id": "3fttQWNHe5SL",
        "outputId": "d35939fd-f541-4997-e38b-47c9725e20bd"
      },
      "execution_count": null,
      "outputs": [
        {
          "output_type": "stream",
          "name": "stdout",
          "text": [
            "Archive:  /content/glove.twitter.27B.100d.pkl.zip\n",
            "  inflating: glove.twitter.27B.100d.pkl  \n"
          ]
        }
      ]
    },
    {
      "cell_type": "code",
      "source": [
        "with open('glove.twitter.27B.100d.pkl', 'rb') as f:\n",
        "    glove = pickle.load(f)\n",
        "    \n",
        "# define an embedding matrix\n",
        "glove_matrix = np.zeros((len(tokenizer.word_index) + 1, 100))\n",
        "\n",
        "# get embeddings from GloVe and list out of vocabulary words\n",
        "unknown_words = []    \n",
        "for word, i in tokenizer.word_index.items():\n",
        "    try:\n",
        "        glove_matrix[i] = glove[word]\n",
        "    except KeyError:\n",
        "        unknown_words.append(word)\n",
        "        \n",
        "embedding_matrix = np.concatenate([glove_matrix], axis=-1)"
      ],
      "metadata": {
        "id": "-_RlBNTWe71A"
      },
      "execution_count": null,
      "outputs": []
    },
    {
      "cell_type": "code",
      "source": [
        "print(\"No of missing words:\",len(unknown_words))"
      ],
      "metadata": {
        "colab": {
          "base_uri": "https://localhost:8080/"
        },
        "id": "wFnKo2icfA0m",
        "outputId": "0c24d916-da72-49fd-ae8f-cb8d231b7b7b"
      },
      "execution_count": null,
      "outputs": [
        {
          "output_type": "stream",
          "name": "stdout",
          "text": [
            "No of missing words: 4243\n"
          ]
        }
      ]
    },
    {
      "cell_type": "markdown",
      "metadata": {
        "id": "GzBIPVudxD8L"
      },
      "source": [
        "#observation: \n",
        "\n",
        "** Overall fasttext word embedding  is best suited for model fitting\n",
        "\n",
        "** Try to do preprocessing on the missing words and improve the model"
      ]
    },
    {
      "cell_type": "markdown",
      "metadata": {
        "id": "vizOrFEOrEMl"
      },
      "source": [
        "#Lets try Conv1D and lSTM and Bidirectional LSTM with glove word embedding "
      ]
    },
    {
      "cell_type": "code",
      "execution_count": null,
      "metadata": {
        "id": "G9T-9vAlaCnQ"
      },
      "outputs": [],
      "source": [
        "model = Sequential()\n",
        "model.add(Embedding(input_dim=max_vocabulary+1,output_dim=300,input_length=maxlen,weights=[embedding_matrix]))\n",
        "model.add(Conv1D(32, 7, activation='relu'))\n",
        "model.add(MaxPooling1D())\n",
        "model.add(Conv1D(32, 7, activation='relu'))\n",
        "model.add(GlobalMaxPooling1D())\n",
        "model.add(Dense(1, activation='sigmoid'))\n",
        "model.compile(optimizer=Adam(learning_rate=0.001), loss='binary_crossentropy', metrics=[\"accuracy\"])"
      ]
    },
    {
      "cell_type": "code",
      "execution_count": null,
      "metadata": {
        "colab": {
          "base_uri": "https://localhost:8080/"
        },
        "id": "DXDSdAisR181",
        "outputId": "d7384545-5a75-4fce-c2ae-c489ad8a99fb"
      },
      "outputs": [
        {
          "output_type": "stream",
          "name": "stdout",
          "text": [
            "Epoch 1/10\n",
            "160/160 [==============================] - ETA: 0s - loss: 0.4983 - accuracy: 0.7592\n",
            "Epoch 1: val_accuracy improved from -inf to 0.80382, saving model to best_model.h5\n",
            "\n",
            "Epoch: 1 - Training Precision: 0.908711 - Training Recall: 0.892484 - Training F1: 0.898022\n",
            "Epoch: 1 - Validation Precision: 0.806634 - Validation Recall: 0.791033 - Validation F1: 0.795462\n",
            "160/160 [==============================] - 11s 15ms/step - loss: 0.4983 - accuracy: 0.7592 - val_loss: 0.4354 - val_accuracy: 0.8038\n",
            "Epoch 2/10\n",
            "152/160 [===========================>..] - ETA: 0s - loss: 0.2786 - accuracy: 0.8945\n",
            "Epoch 2: val_accuracy improved from 0.80382 to 0.80899, saving model to best_model.h5\n",
            "\n",
            "Epoch: 2 - Training Precision: 0.963052 - Training Recall: 0.957572 - Training F1: 0.959968\n",
            "Epoch: 2 - Validation Precision: 0.808475 - Validation Recall: 0.799446 - Validation F1: 0.802578\n",
            "160/160 [==============================] - 2s 13ms/step - loss: 0.2785 - accuracy: 0.8947 - val_loss: 0.4700 - val_accuracy: 0.8090\n",
            "Epoch 3/10\n",
            "156/160 [============================>.] - ETA: 0s - loss: 0.1398 - accuracy: 0.9535\n",
            "Epoch 3: val_accuracy did not improve from 0.80899\n",
            "\n",
            "Epoch: 3 - Training Precision: 0.977522 - Training Recall: 0.975666 - Training F1: 0.97655\n",
            "Epoch: 3 - Validation Precision: 0.797241 - Validation Recall: 0.779224 - Validation F1: 0.78386\n",
            "160/160 [==============================] - 2s 10ms/step - loss: 0.1395 - accuracy: 0.9541 - val_loss: 0.5515 - val_accuracy: 0.7935\n",
            "Epoch 4/10\n",
            "153/160 [===========================>..] - ETA: 0s - loss: 0.0879 - accuracy: 0.9708\n",
            "Epoch 4: val_accuracy did not improve from 0.80899\n",
            "\n",
            "Epoch: 4 - Training Precision: 0.980847 - Training Recall: 0.98159 - Training F1: 0.981211\n",
            "Epoch: 4 - Validation Precision: 0.771515 - Validation Recall: 0.776496 - Validation F1: 0.772083\n",
            "160/160 [==============================] - 2s 10ms/step - loss: 0.0894 - accuracy: 0.9708 - val_loss: 0.6579 - val_accuracy: 0.7740\n",
            "Epoch 5/10\n",
            "158/160 [============================>.] - ETA: 0s - loss: 0.0715 - accuracy: 0.9782\n",
            "Epoch 5: val_accuracy did not improve from 0.80899\n",
            "\n",
            "Epoch: 5 - Training Precision: 0.985298 - Training Recall: 0.98429 - Training F1: 0.984781\n",
            "Epoch: 5 - Validation Precision: 0.780449 - Validation Recall: 0.773224 - Validation F1: 0.775761\n",
            "160/160 [==============================] - 2s 11ms/step - loss: 0.0717 - accuracy: 0.9782 - val_loss: 0.6758 - val_accuracy: 0.7827\n",
            "Epoch 6/10\n",
            "160/160 [==============================] - ETA: 0s - loss: 0.0575 - accuracy: 0.9816\n",
            "Epoch 6: val_accuracy did not improve from 0.80899\n",
            "\n",
            "Epoch: 6 - Training Precision: 0.987205 - Training Recall: 0.985608 - Training F1: 0.986375\n",
            "Epoch: 6 - Validation Precision: 0.797705 - Validation Recall: 0.788778 - Validation F1: 0.791823\n",
            "160/160 [==============================] - 2s 11ms/step - loss: 0.0575 - accuracy: 0.9816 - val_loss: 0.7048 - val_accuracy: 0.7986\n",
            "Epoch 7/10\n",
            "159/160 [============================>.] - ETA: 0s - loss: 0.0517 - accuracy: 0.9827\n",
            "Epoch 7: val_accuracy did not improve from 0.80899\n",
            "\n",
            "Epoch: 7 - Training Precision: 0.98917 - Training Recall: 0.987268 - Training F1: 0.988175\n",
            "Epoch: 7 - Validation Precision: 0.787533 - Validation Recall: 0.777425 - Validation F1: 0.780661\n",
            "160/160 [==============================] - 2s 10ms/step - loss: 0.0518 - accuracy: 0.9825 - val_loss: 0.6657 - val_accuracy: 0.7883\n"
          ]
        }
      ],
      "source": [
        "hist = model.fit(X_train_pad_tokens,y_train, epochs=10,validation_data=(X_test_pad_tokens,y_test),batch_size=32,callbacks=callbacks)"
      ]
    },
    {
      "cell_type": "code",
      "execution_count": null,
      "metadata": {
        "colab": {
          "base_uri": "https://localhost:8080/",
          "height": 312
        },
        "id": "4rNhr143SN29",
        "outputId": "6ac8a753-26a8-4599-fbd9-57f2ed634c2c"
      },
      "outputs": [
        {
          "output_type": "execute_result",
          "data": {
            "text/plain": [
              "[]"
            ]
          },
          "metadata": {},
          "execution_count": 63
        },
        {
          "output_type": "display_data",
          "data": {
            "text/plain": [
              "<Figure size 432x288 with 1 Axes>"
            ],
            "image/png": "[encoded data removed]"
          },
          "metadata": {
            "needs_background": "light"
          }
        }
      ],
      "source": [
        "acc = hist.history['accuracy']\n",
        "val = hist.history['val_accuracy']\n",
        "epochs = range(1, len(acc) + 1)\n",
        " \n",
        "plt.plot(epochs, acc, '-', label='Training accuracy')\n",
        "plt.plot(epochs, val, ':', label='Validation accuracy')\n",
        "plt.title('Training and Validation Accuracy')\n",
        "plt.xlabel('Epoch')\n",
        "plt.ylabel('Accuracy')\n",
        "plt.legend(loc='lower right')\n",
        "plt.plot()"
      ]
    },
    {
      "cell_type": "markdown",
      "metadata": {
        "id": "sypgWC0HrRgX"
      },
      "source": [
        "Observation:\n",
        "\n",
        "** Conv1D with glove word embedding found accuracy of 81.894 with F1 of 0.8127\n",
        "Kaggle output as below"
      ]
    },
    {
      "cell_type": "markdown",
      "metadata": {
        "id": "w5wyMqiMkwLu"
      },
      "source": [
        "#LSTM Model"
      ]
    },
    {
      "cell_type": "code",
      "execution_count": null,
      "metadata": {
        "colab": {
          "base_uri": "https://localhost:8080/"
        },
        "id": "8MXGA-EVf_8R",
        "outputId": "f0e48204-aa94-4440-e13e-c51e5f67cdaf"
      },
      "outputs": [
        {
          "output_type": "stream",
          "name": "stderr",
          "text": [
            "WARNING:tensorflow:Layer lstm will not use cuDNN kernels since it doesn't meet the criteria. It will use a generic GPU kernel as fallback when running on GPU.\n"
          ]
        }
      ],
      "source": [
        "lstm_model = Sequential()\n",
        "lstm_model.add(Embedding(input_dim=max_vocabulary+1,output_dim=300,input_length=maxlen,weights=[embedding_matrix]))\n",
        "lstm_model.add(LSTM(units=100,kernel_initializer='glorot_uniform',recurrent_dropout=0.5,return_sequences=True))\n",
        "lstm_model.add(BatchNormalization())\n",
        "lstm_model.add(Dropout(0.5))\n",
        "lstm_model.add(Dense(300, activation=\"relu\"))\n",
        "lstm_model.add(Dropout(0.25))\n",
        "lstm_model.add(Dense(1, activation = \"sigmoid\"))\n"
      ]
    },
    {
      "cell_type": "code",
      "execution_count": null,
      "metadata": {
        "colab": {
          "base_uri": "https://localhost:8080/"
        },
        "id": "eW-h7sD_f_3K",
        "outputId": "9bccdcba-b8fc-46b3-b749-dbe721447c76"
      },
      "outputs": [
        {
          "output_type": "stream",
          "name": "stdout",
          "text": [
            "Model: \"sequential_1\"\n",
            "_________________________________________________________________\n",
            " Layer (type)                Output Shape              Param #   \n",
            "=================================================================\n",
            " embedding_1 (Embedding)     (None, 27, 300)           4672800   \n",
            "                                                                 \n",
            " lstm (LSTM)                 (None, 27, 100)           160400    \n",
            "                                                                 \n",
            " batch_normalization (BatchN  (None, 27, 100)          400       \n",
            " ormalization)                                                   \n",
            "                                                                 \n",
            " dropout (Dropout)           (None, 27, 100)           0         \n",
            "                                                                 \n",
            " dense_1 (Dense)             (None, 27, 300)           30300     \n",
            "                                                                 \n",
            " dropout_1 (Dropout)         (None, 27, 300)           0         \n",
            "                                                                 \n",
            " dense_2 (Dense)             (None, 27, 1)             301       \n",
            "                                                                 \n",
            "=================================================================\n",
            "Total params: 4,864,201\n",
            "Trainable params: 4,864,001\n",
            "Non-trainable params: 200\n",
            "_________________________________________________________________\n"
          ]
        }
      ],
      "source": [
        "lstm_model.compile(optimizer = Adam(learning_rate=0.001), loss = \"binary_crossentropy\", metrics = [\"accuracy\"])\n",
        "lstm_model.summary()"
      ]
    },
    {
      "cell_type": "code",
      "source": [
        "callbacks1 =[checkpoint,early_stop]"
      ],
      "metadata": {
        "id": "czY6QQd9AARZ"
      },
      "execution_count": null,
      "outputs": []
    },
    {
      "cell_type": "code",
      "execution_count": null,
      "metadata": {
        "colab": {
          "base_uri": "https://localhost:8080/"
        },
        "id": "foLLYenGf_xp",
        "outputId": "ae6f61b8-c565-4675-9ae8-e3fc8a475507"
      },
      "outputs": [
        {
          "output_type": "stream",
          "name": "stdout",
          "text": [
            "Epoch 1/10\n",
            "160/160 [==============================] - ETA: 0s - loss: 0.5136 - accuracy: 0.7611\n",
            "Epoch 1: val_accuracy did not improve from 0.80899\n",
            "160/160 [==============================] - 21s 105ms/step - loss: 0.5136 - accuracy: 0.7611 - val_loss: 0.5376 - val_accuracy: 0.7882\n",
            "Epoch 2/10\n",
            "160/160 [==============================] - ETA: 0s - loss: 0.3662 - accuracy: 0.8487\n",
            "Epoch 2: val_accuracy did not improve from 0.80899\n",
            "160/160 [==============================] - 19s 116ms/step - loss: 0.3662 - accuracy: 0.8487 - val_loss: 0.4638 - val_accuracy: 0.7920\n",
            "Epoch 3/10\n",
            "160/160 [==============================] - ETA: 0s - loss: 0.2433 - accuracy: 0.9055\n",
            "Epoch 3: val_accuracy did not improve from 0.80899\n",
            "160/160 [==============================] - 16s 103ms/step - loss: 0.2433 - accuracy: 0.9055 - val_loss: 0.5642 - val_accuracy: 0.7717\n",
            "Epoch 4/10\n",
            "160/160 [==============================] - ETA: 0s - loss: 0.1667 - accuracy: 0.9372\n",
            "Epoch 4: val_accuracy did not improve from 0.80899\n",
            "160/160 [==============================] - 17s 105ms/step - loss: 0.1667 - accuracy: 0.9372 - val_loss: 0.7866 - val_accuracy: 0.7685\n",
            "Epoch 5/10\n",
            "160/160 [==============================] - ETA: 0s - loss: 0.1221 - accuracy: 0.9534\n",
            "Epoch 5: val_accuracy did not improve from 0.80899\n",
            "160/160 [==============================] - 17s 106ms/step - loss: 0.1221 - accuracy: 0.9534 - val_loss: 0.8754 - val_accuracy: 0.7542\n",
            "Epoch 6/10\n",
            "160/160 [==============================] - ETA: 0s - loss: 0.0983 - accuracy: 0.9629\n",
            "Epoch 6: val_accuracy did not improve from 0.80899\n",
            "160/160 [==============================] - 19s 120ms/step - loss: 0.0983 - accuracy: 0.9629 - val_loss: 0.9735 - val_accuracy: 0.7555\n",
            "Epoch 7/10\n",
            "160/160 [==============================] - ETA: 0s - loss: 0.0819 - accuracy: 0.9655\n",
            "Epoch 7: val_accuracy did not improve from 0.80899\n",
            "160/160 [==============================] - 16s 102ms/step - loss: 0.0819 - accuracy: 0.9655 - val_loss: 1.1254 - val_accuracy: 0.7525\n"
          ]
        }
      ],
      "source": [
        "hist = lstm_model.fit(X_train_pad_tokens,y_train, epochs=10,validation_data=(X_test_pad_tokens,y_test),batch_size=32,callbacks=callbacks1)"
      ]
    },
    {
      "cell_type": "markdown",
      "metadata": {
        "id": "CKPH3osqrvqF"
      },
      "source": [
        "Observation:\n",
        "\n",
        "** LSTM with glove word embedding found accuracy of 79.61\n",
        "kaggle screenshots below"
      ]
    },
    {
      "cell_type": "markdown",
      "metadata": {
        "id": "ZO93kznmlFki"
      },
      "source": [
        "#Bidirectional LSTM"
      ]
    },
    {
      "cell_type": "code",
      "source": [
        "from tensorflow.keras.layers import Bidirectional"
      ],
      "metadata": {
        "id": "zqdIcz9caq-_"
      },
      "execution_count": null,
      "outputs": []
    },
    {
      "cell_type": "code",
      "execution_count": null,
      "metadata": {
        "colab": {
          "base_uri": "https://localhost:8080/"
        },
        "id": "XQfifWcgf_ob",
        "outputId": "f2e6ea30-9637-422c-e54d-7899ae5fa836"
      },
      "outputs": [
        {
          "output_type": "stream",
          "name": "stderr",
          "text": [
            "WARNING:tensorflow:Layer lstm_2 will not use cuDNN kernels since it doesn't meet the criteria. It will use a generic GPU kernel as fallback when running on GPU.\n",
            "WARNING:tensorflow:Layer lstm_2 will not use cuDNN kernels since it doesn't meet the criteria. It will use a generic GPU kernel as fallback when running on GPU.\n",
            "WARNING:tensorflow:Layer lstm_2 will not use cuDNN kernels since it doesn't meet the criteria. It will use a generic GPU kernel as fallback when running on GPU.\n"
          ]
        }
      ],
      "source": [
        "lstm_model1 = Sequential()\n",
        "lstm_model1.add(Embedding(input_dim=max_vocabulary+1,output_dim=300,input_length=maxlen,weights=[embedding_matrix]))\n",
        "lstm_model1.add(Bidirectional(LSTM(units=100,kernel_initializer='glorot_uniform',recurrent_dropout=0.5,return_sequences=True)))\n",
        "lstm_model1.add(BatchNormalization())\n",
        "lstm_model1.add(Dropout(0.5))\n",
        "lstm_model1.add(Dense(128, activation=\"relu\"))\n",
        "lstm_model1.add(Dropout(0.25))\n",
        "lstm_model1.add(Dense(1, activation = \"sigmoid\"))"
      ]
    },
    {
      "cell_type": "code",
      "execution_count": null,
      "metadata": {
        "colab": {
          "base_uri": "https://localhost:8080/"
        },
        "id": "3dP8IcF_lO97",
        "outputId": "9adc383c-4a01-40c3-a399-e706400d3c65"
      },
      "outputs": [
        {
          "output_type": "stream",
          "name": "stdout",
          "text": [
            "Model: \"sequential_3\"\n",
            "_________________________________________________________________\n",
            " Layer (type)                Output Shape              Param #   \n",
            "=================================================================\n",
            " embedding_3 (Embedding)     (None, 27, 300)           4672800   \n",
            "                                                                 \n",
            " bidirectional_1 (Bidirectio  (None, 27, 200)          320800    \n",
            " nal)                                                            \n",
            "                                                                 \n",
            " batch_normalization_2 (Batc  (None, 27, 200)          800       \n",
            " hNormalization)                                                 \n",
            "                                                                 \n",
            " dropout_4 (Dropout)         (None, 27, 200)           0         \n",
            "                                                                 \n",
            " dense_5 (Dense)             (None, 27, 128)           25728     \n",
            "                                                                 \n",
            " dropout_5 (Dropout)         (None, 27, 128)           0         \n",
            "                                                                 \n",
            " dense_6 (Dense)             (None, 27, 1)             129       \n",
            "                                                                 \n",
            "=================================================================\n",
            "Total params: 5,020,257\n",
            "Trainable params: 5,019,857\n",
            "Non-trainable params: 400\n",
            "_________________________________________________________________\n"
          ]
        }
      ],
      "source": [
        "lstm_model1.compile(optimizer = Adam(learning_rate=0.001), loss = \"binary_crossentropy\", metrics = [\"accuracy\"])\n",
        "lstm_model1.summary()"
      ]
    },
    {
      "cell_type": "code",
      "execution_count": null,
      "metadata": {
        "colab": {
          "base_uri": "https://localhost:8080/"
        },
        "id": "KQe7k0s1lR99",
        "outputId": "c87632a6-5e11-4a34-ccb7-80fce141a9aa"
      },
      "outputs": [
        {
          "output_type": "stream",
          "name": "stdout",
          "text": [
            "Epoch 1/10\n",
            "160/160 [==============================] - ETA: 0s - loss: 0.5186 - accuracy: 0.7651\n",
            "Epoch 1: val_accuracy improved from 0.80948 to 0.81063, saving model to best_model.h5\n",
            "160/160 [==============================] - 58s 219ms/step - loss: 0.5186 - accuracy: 0.7651 - val_loss: 0.5031 - val_accuracy: 0.8106\n",
            "Epoch 2/10\n",
            "160/160 [==============================] - ETA: 0s - loss: 0.3286 - accuracy: 0.8652\n",
            "Epoch 2: val_accuracy did not improve from 0.81063\n",
            "160/160 [==============================] - 37s 231ms/step - loss: 0.3286 - accuracy: 0.8652 - val_loss: 0.4487 - val_accuracy: 0.7955\n",
            "Epoch 3/10\n",
            "160/160 [==============================] - ETA: 0s - loss: 0.1978 - accuracy: 0.9247\n",
            "Epoch 3: val_accuracy did not improve from 0.81063\n",
            "160/160 [==============================] - 44s 273ms/step - loss: 0.1978 - accuracy: 0.9247 - val_loss: 0.5140 - val_accuracy: 0.7893\n",
            "Epoch 4/10\n",
            "160/160 [==============================] - ETA: 0s - loss: 0.1281 - accuracy: 0.9554\n",
            "Epoch 4: val_accuracy did not improve from 0.81063\n",
            "160/160 [==============================] - 33s 208ms/step - loss: 0.1281 - accuracy: 0.9554 - val_loss: 0.6773 - val_accuracy: 0.7774\n",
            "Epoch 5/10\n",
            "160/160 [==============================] - ETA: 0s - loss: 0.0854 - accuracy: 0.9679\n",
            "Epoch 5: val_accuracy did not improve from 0.81063\n",
            "160/160 [==============================] - 34s 212ms/step - loss: 0.0854 - accuracy: 0.9679 - val_loss: 1.0934 - val_accuracy: 0.7749\n",
            "Epoch 6/10\n",
            "160/160 [==============================] - ETA: 0s - loss: 0.0643 - accuracy: 0.9768\n",
            "Epoch 6: val_accuracy did not improve from 0.81063\n",
            "160/160 [==============================] - 32s 199ms/step - loss: 0.0643 - accuracy: 0.9768 - val_loss: 1.2793 - val_accuracy: 0.7740\n"
          ]
        }
      ],
      "source": [
        "hist = lstm_model1.fit(X_train_pad_tokens,y_train, epochs=10,validation_data=(X_test_pad_tokens,y_test),batch_size=32,callbacks=callbacks1)"
      ]
    },
    {
      "cell_type": "markdown",
      "metadata": {
        "id": "bXkU67o5rxX4"
      },
      "source": [
        "Observation:\n",
        "\n",
        "** Bidirectional LSTM with fast text embedding found accuracy of 81.17 twitter tweets with 100d"
      ]
    },
    {
      "cell_type": "markdown",
      "metadata": {
        "id": "h4STSDRsYt_6"
      },
      "source": [
        "#lets try Text metafeatures along with text features"
      ]
    },
    {
      "cell_type": "code",
      "execution_count": null,
      "metadata": {
        "id": "F7L4RY9xcAFX"
      },
      "outputs": [],
      "source": [
        "from keras.models import Model"
      ]
    },
    {
      "cell_type": "code",
      "execution_count": null,
      "metadata": {
        "colab": {
          "base_uri": "https://localhost:8080/"
        },
        "id": "TxOefjQRYtl-",
        "outputId": "095ce60d-4b23-488f-d515-db52ae7985e1"
      },
      "outputs": [
        {
          "output_type": "stream",
          "name": "stdout",
          "text": [
            "Model: \"model_2\"\n",
            "__________________________________________________________________________________________________\n",
            " Layer (type)                   Output Shape         Param #     Connected to                     \n",
            "==================================================================================================\n",
            " text_input (InputLayer)        [(None, 27)]         0           []                               \n",
            "                                                                                                  \n",
            " embedding_18 (Embedding)       (None, 27, 300)      4641600     ['text_input[0][0]']             \n",
            "                                                                                                  \n",
            " lstm_10 (LSTM)                 (None, 27, 100)      160400      ['embedding_18[0][0]']           \n",
            "                                                                                                  \n",
            " numerical features (InputLayer  [(None, 6)]         0           []                               \n",
            " )                                                                                                \n",
            "                                                                                                  \n",
            " flatten_3 (Flatten)            (None, 2700)         0           ['lstm_10[0][0]']                \n",
            "                                                                                                  \n",
            " dense_32 (Dense)               (None, 300)          2100        ['numerical features[0][0]']     \n",
            "                                                                                                  \n",
            " concatenate_2 (Concatenate)    (None, 3000)         0           ['flatten_3[0][0]',              \n",
            "                                                                  'dense_32[0][0]']               \n",
            "                                                                                                  \n",
            " dense_33 (Dense)               (None, 300)          900300      ['concatenate_2[0][0]']          \n",
            "                                                                                                  \n",
            " dropout_19 (Dropout)           (None, 300)          0           ['dense_33[0][0]']               \n",
            "                                                                                                  \n",
            " dense_34 (Dense)               (None, 100)          30100       ['dropout_19[0][0]']             \n",
            "                                                                                                  \n",
            " dropout_20 (Dropout)           (None, 100)          0           ['dense_34[0][0]']               \n",
            "                                                                                                  \n",
            " dense_35 (Dense)               (None, 100)          10100       ['dropout_20[0][0]']             \n",
            "                                                                                                  \n",
            " output (Dense)                 (None, 1)            101         ['dense_35[0][0]']               \n",
            "                                                                                                  \n",
            "==================================================================================================\n",
            "Total params: 5,744,701\n",
            "Trainable params: 5,744,701\n",
            "Non-trainable params: 0\n",
            "__________________________________________________________________________________________________\n",
            "None\n"
          ]
        }
      ],
      "source": [
        "# First create text data with LSTM & Embedding\n",
        "text= Input(shape=(27,),name='text_input') # Fromm glove vectors we have taken 300 dimension\n",
        "X_text=Embedding(input_dim=max_vocabulary+1,output_dim=300,input_length=maxlen,weights=[embedding_mat],trainable=True)(text)\n",
        "lstm_text=LSTM(units=100,kernel_initializer='glorot_uniform',recurrent_dropout=0.5,return_sequences=True)(X_text) # Recurrent dropout was taken 0.5\n",
        "flatten_1=Flatten()(lstm_text)\n",
        "\n",
        "\n",
        "# Lets do for numerical features\n",
        "numeric_features=Input(shape=(6,),name=\"numerical features\")\n",
        "numeric_dense=Dense(300,activation=\"relu\",kernel_initializer = tf.keras.initializers.he_normal())(numeric_features)\n",
        "\n",
        "X_concat = concatenate([flatten_1,numeric_dense])\n",
        "\n",
        "# Lets create model\n",
        "model=Dense(300,activation=\"relu\",kernel_initializer = tf.keras.initializers.he_normal())(X_concat)\n",
        "\n",
        "# Dropout layer\n",
        "model = Dropout(0.5)(model)\n",
        "\n",
        "# Dense layer\n",
        "model = Dense(100,activation=\"relu\",kernel_initializer=tf.keras.initializers.glorot_normal())(model)\n",
        "\n",
        "#  Dropout layer\n",
        "model = Dropout(0.5)(model)\n",
        "\n",
        "# Dense layer\n",
        "model = Dense(100,activation=\"relu\",kernel_initializer=tf.keras.initializers.glorot_normal())(model)\n",
        "\n",
        "#Output layer\n",
        "output = Dense(1, activation='sigmoid',kernel_initializer=tf.keras.initializers.glorot_normal(),name='output')(model)\n",
        "\n",
        "model=Model(inputs=[text ,numeric_features ],outputs=[output])\n",
        "\n",
        "print(model.summary())\n",
        "\n"
      ]
    },
    {
      "cell_type": "code",
      "execution_count": null,
      "metadata": {
        "id": "6c3vlHIMcIHm"
      },
      "outputs": [],
      "source": [
        "# In input order need to assign the features\n",
        "train_data=[X_train_pad_tokens,X_train_numeric_features]\n",
        "\n",
        "test_data =[X_test_pad_tokens,X_test_numeric_features]"
      ]
    },
    {
      "cell_type": "code",
      "execution_count": null,
      "metadata": {
        "id": "HNx9RhERcoPJ"
      },
      "outputs": [],
      "source": [
        "model.compile(loss='binary_crossentropy', optimizer=Adam(learning_rate=0.001), metrics=[\"accuracy\"])\n",
        "## Training \n",
        "\n",
        "model.fit(train_data,y_train,epochs=20,verbose=2,validation_data=(test_data,y_test),batch_size =32,callbacks=callbacks)"
      ]
    },
    {
      "cell_type": "markdown",
      "metadata": {
        "id": "pTZG-5_aT8hf"
      },
      "source": [
        "# BERT Model"
      ]
    },
    {
      "cell_type": "code",
      "execution_count": null,
      "metadata": {
        "id": "rz4ZGSOUdD_0"
      },
      "outputs": [],
      "source": [
        "import tensorflow_hub as hub\n",
        "from tensorflow.keras.models import Model"
      ]
    },
    {
      "cell_type": "code",
      "execution_count": null,
      "metadata": {
        "id": "lIxUsOLQTqPv"
      },
      "outputs": [],
      "source": [
        "## Loading the Pretrained Model from tensorflow HUB\n",
        "tf.keras.backend.clear_session()\n",
        "\n",
        "max_seq_length = 27\n",
        "\n",
        "input_word_ids = tf.keras.layers.Input(shape=(max_seq_length,), dtype=tf.int32, name=\"input_word_ids\")\n",
        "\n",
        "\n",
        "input_mask = tf.keras.layers.Input(shape=(max_seq_length,), dtype=tf.int32, name=\"input_mask\")\n",
        "\n",
        "segment_ids = tf.keras.layers.Input(shape=(max_seq_length,), dtype=tf.int32, name=\"segment_ids\")\n",
        "\n",
        "#bert layer \n",
        "bert_layer = hub.KerasLayer(\"https://tfhub.dev/tensorflow/bert_en_uncased_L-12_H-768_A-12/1\", trainable=False)\n",
        "pooled_output, sequence_output = bert_layer([input_word_ids, input_mask, segment_ids])\n",
        "\n",
        "#Bert model\n",
        "#We are using only pooled output not sequence out. \n",
        "#If you want to know about those, please read https://www.kaggle.com/questions-and-answers/86510\n",
        "bert_model = Model(inputs=[input_word_ids, input_mask, segment_ids], outputs=pooled_output)"
      ]
    },
    {
      "cell_type": "code",
      "execution_count": null,
      "metadata": {
        "colab": {
          "base_uri": "https://localhost:8080/"
        },
        "id": "pb9ZG4gUUBzJ",
        "outputId": "248db8ed-4fff-4790-fcd4-dbb6d7f750b3"
      },
      "outputs": [
        {
          "output_type": "stream",
          "name": "stdout",
          "text": [
            "Model: \"model\"\n",
            "__________________________________________________________________________________________________\n",
            " Layer (type)                   Output Shape         Param #     Connected to                     \n",
            "==================================================================================================\n",
            " input_word_ids (InputLayer)    [(None, 27)]         0           []                               \n",
            "                                                                                                  \n",
            " input_mask (InputLayer)        [(None, 27)]         0           []                               \n",
            "                                                                                                  \n",
            " segment_ids (InputLayer)       [(None, 27)]         0           []                               \n",
            "                                                                                                  \n",
            " keras_layer (KerasLayer)       [(None, 768),        109482241   ['input_word_ids[0][0]',         \n",
            "                                 (None, 27, 768)]                 'input_mask[0][0]',             \n",
            "                                                                  'segment_ids[0][0]']            \n",
            "                                                                                                  \n",
            "==================================================================================================\n",
            "Total params: 109,482,241\n",
            "Trainable params: 0\n",
            "Non-trainable params: 109,482,241\n",
            "__________________________________________________________________________________________________\n"
          ]
        }
      ],
      "source": [
        "bert_model.summary()"
      ]
    },
    {
      "cell_type": "markdown",
      "metadata": {
        "id": "6poUZQ-3UKe3"
      },
      "source": [
        "#Tokenization"
      ]
    },
    {
      "cell_type": "code",
      "execution_count": null,
      "metadata": {
        "id": "c2_UGojYUGzv"
      },
      "outputs": [],
      "source": [
        "vocab_file = bert_layer.resolved_object.vocab_file.asset_path.numpy()\n",
        "do_lower_case = bert_layer.resolved_object.do_lower_case.numpy()"
      ]
    },
    {
      "cell_type": "code",
      "execution_count": null,
      "metadata": {
        "colab": {
          "base_uri": "https://localhost:8080/"
        },
        "id": "U9WKxSXVUPuZ",
        "outputId": "bb033220-64af-4016-a1e6-6e1ed38e0618"
      },
      "outputs": [
        {
          "output_type": "stream",
          "name": "stdout",
          "text": [
            "Looking in indexes: https://pypi.org/simple, https://us-python.pkg.dev/colab-wheels/public/simple/\n",
            "Collecting sentencepiece\n",
            "  Downloading sentencepiece-0.1.97-cp38-cp38-manylinux_2_17_x86_64.manylinux2014_x86_64.whl (1.3 MB)\n",
            "\u001b[2K     \u001b[90m━━━━━━━━━━━━━━━━━━━━━━━━━━━━━━━━━━━━━━━━\u001b[0m \u001b[32m1.3/1.3 MB\u001b[0m \u001b[31m35.2 MB/s\u001b[0m eta \u001b[36m0:00:00\u001b[0m\n",
            "\u001b[?25hInstalling collected packages: sentencepiece\n",
            "Successfully installed sentencepiece-0.1.97\n"
          ]
        }
      ],
      "source": [
        "!pip install sentencepiece"
      ]
    },
    {
      "cell_type": "code",
      "execution_count": null,
      "metadata": {
        "colab": {
          "base_uri": "https://localhost:8080/"
        },
        "id": "n0q3gdvdeiM5",
        "outputId": "6bb4df8f-1343-46cc-8165-bc722ee2774a"
      },
      "outputs": [
        {
          "output_type": "stream",
          "name": "stdout",
          "text": [
            "/usr/local/lib/python3.8/dist-packages/gdown/cli.py:121: FutureWarning: Option `--id` was deprecated in version 4.3.1 and will be removed in 5.0. You don't need to pass it anymore to use a file ID.\n",
            "  warnings.warn(\n",
            "Downloading...\n",
            "From: https://drive.google.com/uc?id=17Afug8QaE_iLaN_cQBQvDmeuCrMYZItu\n",
            "To: /content/tokenization.py\n",
            "100% 17.3k/17.3k [00:00<00:00, 18.3MB/s]\n"
          ]
        }
      ],
      "source": [
        "!gdown --id 17Afug8QaE_iLaN_cQBQvDmeuCrMYZItu"
      ]
    },
    {
      "cell_type": "code",
      "execution_count": null,
      "metadata": {
        "colab": {
          "base_uri": "https://localhost:8080/"
        },
        "id": "pJeC4f0qnjEk",
        "outputId": "eb18e51a-e61e-4adc-a027-fb8b2a36d41b"
      },
      "outputs": [
        {
          "name": "stdout",
          "output_type": "stream",
          "text": [
            "Looking in indexes: https://pypi.org/simple, https://us-python.pkg.dev/colab-wheels/public/simple/\n",
            "Requirement already satisfied: bert-tensorflow==1.0.1 in /usr/local/lib/python3.8/dist-packages (1.0.1)\n",
            "Requirement already satisfied: six in /usr/local/lib/python3.8/dist-packages (from bert-tensorflow==1.0.1) (1.15.0)\n"
          ]
        }
      ],
      "source": [
        " #!pip install bert-tensorflow==1.0.1"
      ]
    },
    {
      "cell_type": "code",
      "execution_count": null,
      "metadata": {
        "id": "XBV88gZ4ndi2"
      },
      "outputs": [],
      "source": [
        "import tokenization"
      ]
    },
    {
      "cell_type": "code",
      "execution_count": null,
      "metadata": {
        "id": "ZVPbqXoAUVHG"
      },
      "outputs": [],
      "source": [
        "tokenizer=tokenization.FullTokenizer(vocab_file,do_lower_case )"
      ]
    },
    {
      "cell_type": "code",
      "execution_count": null,
      "metadata": {
        "id": "Y9582c80UYnv"
      },
      "outputs": [],
      "source": [
        "def bert_tokenizer(text):\n",
        "  tokens=tokenizer.tokenize(text)\n",
        "  # After tokenized the given text , We will get tokens for each text.\n",
        "  # maximum number of tokens is 25(We already given this to BERT layer above) so shape is (None, 25) \n",
        "  if len(tokens) > max_seq_length-2:\n",
        "    tokens=tokens[0:max_seq_length-2]\n",
        "  # lets  add '[CLS]' at start of the Tokens and '[SEP]' at the end of the tokens.\n",
        "  tokens= ['[CLS]',*tokens,'[SEP]']\n",
        "  # lets do masking and padding\n",
        "  mask=[1]*len(tokens) # First make mask as 1 as equal to length of tokens \n",
        "  \n",
        "  if len(tokens) < 27:\n",
        "      mask =mask+([0]*(max_seq_length-len(tokens))) # To fill remaining values to zero upto max_length\n",
        "      tokens = tokens+(['[PAD]']*(max_seq_length-len(tokens))) # Padding\n",
        "  # Create a segment input for train and test. We are using only one sentence so all zeros.\n",
        "  segment=[0]*len(tokens)\n",
        "  indexed_tokens = np.array(tokenizer.convert_tokens_to_ids(tokens))\n",
        "  return indexed_tokens,mask,segment"
      ]
    },
    {
      "cell_type": "code",
      "execution_count": null,
      "metadata": {
        "id": "Z6lhLZfkUfSV"
      },
      "outputs": [],
      "source": [
        "#initialization with zeroes for shape of requirements\n",
        "X_train_tokens = np.zeros(shape=(len(X_train),max_seq_length))\n",
        "X_train_mask = np.zeros(shape=(len(X_train),max_seq_length))\n",
        "X_train_segment = np.zeros(shape=(len(X_train),max_seq_length))\n",
        "X_test_tokens =np.zeros(shape=(len(X_test),max_seq_length))\n",
        "X_test_mask =np.zeros(shape=(len(X_test),max_seq_length))\n",
        "X_test_segment =np.zeros(shape=(len(X_test),max_seq_length))\n",
        "\n",
        " # lets pass each text and get tokens,mask,segment\n",
        "for idx,text in enumerate(X_train[\"clean_text\"].values):\n",
        "    X_train_tokens[idx],X_train_mask[idx],X_train_segment[idx]=bert_tokenizer(text)\n",
        "for idx,text in enumerate(X_test[\"clean_text\"].values):\n",
        "    X_test_tokens[idx],X_test_mask[idx],X_test_segment[idx]=bert_tokenizer(text)"
      ]
    },
    {
      "cell_type": "code",
      "execution_count": null,
      "metadata": {
        "id": "WhmUEvsVwz7I"
      },
      "outputs": [],
      "source": [
        "X_test_tokens1 =np.zeros(shape=(len(x_test),max_seq_length))\n",
        "X_test_mask1 =np.zeros(shape=(len(x_test),max_seq_length))\n",
        "X_test_segment1 =np.zeros(shape=(len(x_test),max_seq_length))\n",
        "for idx,text in enumerate(x_test[0].values):\n",
        "    X_test_tokens1[idx],X_test_mask1[idx],X_test_segment1[idx]=bert_tokenizer(text)"
      ]
    },
    {
      "cell_type": "code",
      "execution_count": null,
      "metadata": {
        "id": "tThOt-N0UqlE"
      },
      "outputs": [],
      "source": [
        "import pickle"
      ]
    },
    {
      "cell_type": "code",
      "execution_count": null,
      "metadata": {
        "id": "BKSNRYW2UsqN"
      },
      "outputs": [],
      "source": [
        "##save all your results to disk so that, no need to run all again. \n",
        "pickle.dump((X_train, X_train_tokens, X_train_mask, X_train_segment, y_train),open('train_data.pkl','wb'))\n",
        "pickle.dump((X_test, X_test_tokens, X_test_mask, X_test_segment, y_test),open('test_data.pkl','wb'))"
      ]
    },
    {
      "cell_type": "code",
      "execution_count": null,
      "metadata": {
        "id": "lp3IlVU7Ux9Y"
      },
      "outputs": [],
      "source": [
        "#you can load from disk\n",
        "X_train, X_train_tokens, X_train_mask, X_train_segment, y_train = pickle.load(open(\"train_data.pkl\", 'rb')) \n",
        "X_test, X_test_tokens, X_test_mask, X_test_segment, y_test = pickle.load(open(\"test_data.pkl\", 'rb')) "
      ]
    },
    {
      "cell_type": "code",
      "execution_count": null,
      "metadata": {
        "colab": {
          "base_uri": "https://localhost:8080/"
        },
        "id": "oaoa5-ykUx2J",
        "outputId": "007696c1-b0a5-41ab-ff39-6db8ac94b597"
      },
      "outputs": [
        {
          "output_type": "stream",
          "name": "stdout",
          "text": [
            "160/160 [==============================] - 11s 58ms/step\n"
          ]
        }
      ],
      "source": [
        "X_train_pooled_output=bert_model.predict([X_train_tokens,X_train_mask,X_train_segment])"
      ]
    },
    {
      "cell_type": "code",
      "execution_count": null,
      "metadata": {
        "colab": {
          "base_uri": "https://localhost:8080/"
        },
        "id": "icYRWRkyUxwm",
        "outputId": "1aa801c2-c0ca-4d53-f84b-b11c0d73b135"
      },
      "outputs": [
        {
          "output_type": "stream",
          "name": "stdout",
          "text": [
            "79/79 [==============================] - 5s 59ms/step\n"
          ]
        }
      ],
      "source": [
        "X_test_pooled_output=bert_model.predict([X_test_tokens,X_test_mask,X_test_segment])"
      ]
    },
    {
      "cell_type": "code",
      "execution_count": null,
      "metadata": {
        "colab": {
          "base_uri": "https://localhost:8080/"
        },
        "id": "B2qh0rsNwlOj",
        "outputId": "9e536137-ef04-4631-b8a3-d1c3f6658b53"
      },
      "outputs": [
        {
          "output_type": "stream",
          "name": "stdout",
          "text": [
            "102/102 [==============================] - 6s 59ms/step\n"
          ]
        }
      ],
      "source": [
        "x_test_pooled_output1=bert_model.predict([X_test_tokens1,X_test_mask1,X_test_segment1])"
      ]
    },
    {
      "cell_type": "code",
      "execution_count": null,
      "metadata": {
        "id": "l3xF2hBbUxqC"
      },
      "outputs": [],
      "source": [
        "pickle.dump((X_train_pooled_output, X_test_pooled_output),open('final_output.pkl','wb'))"
      ]
    },
    {
      "cell_type": "code",
      "execution_count": null,
      "metadata": {
        "id": "w1CU7u9EU961"
      },
      "outputs": [],
      "source": [
        "X_train_pooled_output, X_test_pooled_output= pickle.load(open('final_output.pkl', 'rb'))"
      ]
    },
    {
      "cell_type": "code",
      "execution_count": null,
      "metadata": {
        "id": "Ojv21qfzxR_v"
      },
      "outputs": [],
      "source": [
        "from tensorflow.keras.initializers import he_normal\n",
        "from tensorflow.keras.regularizers import l2"
      ]
    },
    {
      "cell_type": "code",
      "execution_count": null,
      "metadata": {
        "colab": {
          "base_uri": "https://localhost:8080/"
        },
        "id": "VYs1kXVtVDZf",
        "outputId": "8d520b7b-854d-4d7d-c3e3-b9a37f5b3686"
      },
      "outputs": [
        {
          "output_type": "stream",
          "name": "stdout",
          "text": [
            "Model: \"model_1\"\n",
            "_________________________________________________________________\n",
            " Layer (type)                Output Shape              Param #   \n",
            "=================================================================\n",
            " input_1 (InputLayer)        [(None, 768)]             0         \n",
            "                                                                 \n",
            " dense (Dense)               (None, 512)               393728    \n",
            "                                                                 \n",
            " dense_1 (Dense)             (None, 256)               131328    \n",
            "                                                                 \n",
            " dense_2 (Dense)             (None, 128)               32896     \n",
            "                                                                 \n",
            " Reviewclassifier (Dense)    (None, 1)                 129       \n",
            "                                                                 \n",
            "=================================================================\n",
            "Total params: 558,081\n",
            "Trainable params: 558,081\n",
            "Non-trainable params: 0\n",
            "_________________________________________________________________\n"
          ]
        }
      ],
      "source": [
        "input_layer=Input(shape=(X_train_pooled_output.shape[1],))\n",
        "denselayer1 = Dense(units=512, activation=\"relu\", kernel_initializer=he_normal,kernel_regularizer=l2(0.001))(input_layer)\n",
        "denselayer2 = Dense(units=256, activation=\"relu\", kernel_initializer=he_normal,kernel_regularizer=l2(0.001))(denselayer1)\n",
        "denselayer3 = Dense(units=128, activation=\"relu\", kernel_initializer=he_normal,kernel_regularizer=l2(0.001))(denselayer2)\n",
        "output_layer = Dense(1, activation='sigmoid',kernel_regularizer=l2(0.001), name=\"Reviewclassifier\")(denselayer3)\n",
        "bertmodel = Model(inputs = [input_layer],outputs = [output_layer])\n",
        "bertmodel.summary()"
      ]
    },
    {
      "cell_type": "code",
      "execution_count": null,
      "metadata": {
        "colab": {
          "base_uri": "https://localhost:8080/",
          "height": 754
        },
        "id": "C5DsvFHRVGSB",
        "outputId": "dbb05641-1813-4be2-a852-3be93fd588d6"
      },
      "outputs": [
        {
          "output_type": "execute_result",
          "data": {
            "image/png": "[encoded data removed]",
            "text/plain": [
              "<IPython.core.display.Image object>"
            ]
          },
          "metadata": {},
          "execution_count": 120
        }
      ],
      "source": [
        "tf.keras.utils.plot_model(model,to_file = 'model.png',show_shapes=True,show_layer_names=True)"
      ]
    },
    {
      "cell_type": "code",
      "source": [
        "callbacks2 =[checkpoint]"
      ],
      "metadata": {
        "id": "Oa9NPXx3Olx6"
      },
      "execution_count": null,
      "outputs": []
    },
    {
      "cell_type": "code",
      "execution_count": null,
      "metadata": {
        "colab": {
          "base_uri": "https://localhost:8080/"
        },
        "id": "kwHy3CbTVRrt",
        "outputId": "757ab6cb-946d-467f-c653-758fbef333f6"
      },
      "outputs": [
        {
          "output_type": "stream",
          "name": "stdout",
          "text": [
            "Epoch 1/60\n",
            "\n",
            "Epoch 1: val_accuracy did not improve from 0.81178\n",
            "160/160 - 3s - loss: 1.5716 - accuracy: 0.6702 - val_loss: 1.1162 - val_accuracy: 0.7382 - 3s/epoch - 16ms/step\n",
            "Epoch 2/60\n",
            "\n",
            "Epoch 2: val_accuracy did not improve from 0.81178\n",
            "160/160 - 2s - loss: 0.9917 - accuracy: 0.7288 - val_loss: 0.8524 - val_accuracy: 0.7656 - 2s/epoch - 10ms/step\n",
            "Epoch 3/60\n",
            "\n",
            "Epoch 3: val_accuracy did not improve from 0.81178\n",
            "160/160 - 2s - loss: 0.8148 - accuracy: 0.7478 - val_loss: 0.7288 - val_accuracy: 0.7799 - 2s/epoch - 10ms/step\n",
            "Epoch 4/60\n",
            "\n",
            "Epoch 4: val_accuracy did not improve from 0.81178\n",
            "160/160 - 2s - loss: 0.7246 - accuracy: 0.7563 - val_loss: 0.6892 - val_accuracy: 0.7533 - 2s/epoch - 10ms/step\n",
            "Epoch 5/60\n",
            "\n",
            "Epoch 5: val_accuracy did not improve from 0.81178\n",
            "160/160 - 1s - loss: 0.6912 - accuracy: 0.7431 - val_loss: 0.6365 - val_accuracy: 0.7752 - 1s/epoch - 9ms/step\n",
            "Epoch 6/60\n",
            "\n",
            "Epoch 6: val_accuracy did not improve from 0.81178\n",
            "160/160 - 2s - loss: 0.6432 - accuracy: 0.7608 - val_loss: 0.6067 - val_accuracy: 0.7732 - 2s/epoch - 11ms/step\n",
            "Epoch 7/60\n",
            "\n",
            "Epoch 7: val_accuracy did not improve from 0.81178\n",
            "160/160 - 2s - loss: 0.6079 - accuracy: 0.7684 - val_loss: 0.6428 - val_accuracy: 0.7191 - 2s/epoch - 12ms/step\n",
            "Epoch 8/60\n",
            "\n",
            "Epoch 8: val_accuracy did not improve from 0.81178\n",
            "160/160 - 1s - loss: 0.6020 - accuracy: 0.7571 - val_loss: 0.5661 - val_accuracy: 0.7788 - 1s/epoch - 9ms/step\n",
            "Epoch 9/60\n",
            "\n",
            "Epoch 9: val_accuracy did not improve from 0.81178\n",
            "160/160 - 2s - loss: 0.5935 - accuracy: 0.7614 - val_loss: 0.6014 - val_accuracy: 0.7453 - 2s/epoch - 10ms/step\n",
            "Epoch 10/60\n",
            "\n",
            "Epoch 10: val_accuracy did not improve from 0.81178\n",
            "160/160 - 1s - loss: 0.5719 - accuracy: 0.7684 - val_loss: 0.5383 - val_accuracy: 0.7871 - 1s/epoch - 8ms/step\n",
            "Epoch 11/60\n",
            "\n",
            "Epoch 11: val_accuracy did not improve from 0.81178\n",
            "160/160 - 1s - loss: 0.5693 - accuracy: 0.7700 - val_loss: 0.5718 - val_accuracy: 0.7596 - 1s/epoch - 9ms/step\n",
            "Epoch 12/60\n",
            "\n",
            "Epoch 12: val_accuracy did not improve from 0.81178\n",
            "160/160 - 2s - loss: 0.5671 - accuracy: 0.7622 - val_loss: 0.5495 - val_accuracy: 0.7724 - 2s/epoch - 10ms/step\n",
            "Epoch 13/60\n",
            "\n",
            "Epoch 13: val_accuracy did not improve from 0.81178\n",
            "160/160 - 2s - loss: 0.5659 - accuracy: 0.7641 - val_loss: 0.5400 - val_accuracy: 0.7720 - 2s/epoch - 11ms/step\n",
            "Epoch 14/60\n",
            "\n",
            "Epoch 14: val_accuracy did not improve from 0.81178\n",
            "160/160 - 1s - loss: 0.5530 - accuracy: 0.7735 - val_loss: 0.5287 - val_accuracy: 0.7815 - 748ms/epoch - 5ms/step\n",
            "Epoch 15/60\n",
            "\n",
            "Epoch 15: val_accuracy did not improve from 0.81178\n",
            "160/160 - 1s - loss: 0.5447 - accuracy: 0.7733 - val_loss: 0.5577 - val_accuracy: 0.7620 - 740ms/epoch - 5ms/step\n",
            "Epoch 16/60\n",
            "\n",
            "Epoch 16: val_accuracy did not improve from 0.81178\n",
            "160/160 - 1s - loss: 0.5307 - accuracy: 0.7818 - val_loss: 0.5562 - val_accuracy: 0.7660 - 748ms/epoch - 5ms/step\n",
            "Epoch 17/60\n",
            "\n",
            "Epoch 17: val_accuracy did not improve from 0.81178\n",
            "160/160 - 1s - loss: 0.5450 - accuracy: 0.7692 - val_loss: 0.5281 - val_accuracy: 0.7807 - 902ms/epoch - 6ms/step\n",
            "Epoch 18/60\n",
            "\n",
            "Epoch 18: val_accuracy did not improve from 0.81178\n",
            "160/160 - 1s - loss: 0.5342 - accuracy: 0.7786 - val_loss: 0.6063 - val_accuracy: 0.7016 - 745ms/epoch - 5ms/step\n",
            "Epoch 19/60\n",
            "\n",
            "Epoch 19: val_accuracy did not improve from 0.81178\n",
            "160/160 - 1s - loss: 0.5312 - accuracy: 0.7757 - val_loss: 0.5255 - val_accuracy: 0.7784 - 870ms/epoch - 5ms/step\n",
            "Epoch 20/60\n",
            "\n",
            "Epoch 20: val_accuracy did not improve from 0.81178\n",
            "160/160 - 1s - loss: 0.5328 - accuracy: 0.7712 - val_loss: 0.5046 - val_accuracy: 0.7907 - 849ms/epoch - 5ms/step\n",
            "Epoch 21/60\n",
            "\n",
            "Epoch 21: val_accuracy did not improve from 0.81178\n",
            "160/160 - 1s - loss: 0.5183 - accuracy: 0.7825 - val_loss: 0.5025 - val_accuracy: 0.7915 - 749ms/epoch - 5ms/step\n",
            "Epoch 22/60\n",
            "\n",
            "Epoch 22: val_accuracy did not improve from 0.81178\n",
            "160/160 - 1s - loss: 0.5185 - accuracy: 0.7792 - val_loss: 0.5000 - val_accuracy: 0.7859 - 740ms/epoch - 5ms/step\n",
            "Epoch 23/60\n",
            "\n",
            "Epoch 23: val_accuracy did not improve from 0.81178\n",
            "160/160 - 1s - loss: 0.5133 - accuracy: 0.7804 - val_loss: 0.4941 - val_accuracy: 0.7931 - 885ms/epoch - 6ms/step\n",
            "Epoch 24/60\n",
            "\n",
            "Epoch 24: val_accuracy did not improve from 0.81178\n",
            "160/160 - 1s - loss: 0.5303 - accuracy: 0.7669 - val_loss: 0.5488 - val_accuracy: 0.7620 - 761ms/epoch - 5ms/step\n",
            "Epoch 25/60\n",
            "\n",
            "Epoch 25: val_accuracy did not improve from 0.81178\n",
            "160/160 - 1s - loss: 0.5282 - accuracy: 0.7716 - val_loss: 0.5357 - val_accuracy: 0.7600 - 865ms/epoch - 5ms/step\n",
            "Epoch 26/60\n",
            "\n",
            "Epoch 26: val_accuracy did not improve from 0.81178\n",
            "160/160 - 1s - loss: 0.5116 - accuracy: 0.7816 - val_loss: 0.4991 - val_accuracy: 0.7907 - 775ms/epoch - 5ms/step\n",
            "Epoch 27/60\n",
            "\n",
            "Epoch 27: val_accuracy did not improve from 0.81178\n",
            "160/160 - 1s - loss: 0.5117 - accuracy: 0.7841 - val_loss: 0.5036 - val_accuracy: 0.7891 - 861ms/epoch - 5ms/step\n",
            "Epoch 28/60\n",
            "\n",
            "Epoch 28: val_accuracy did not improve from 0.81178\n",
            "160/160 - 1s - loss: 0.5116 - accuracy: 0.7849 - val_loss: 0.4939 - val_accuracy: 0.7919 - 873ms/epoch - 5ms/step\n",
            "Epoch 29/60\n",
            "\n",
            "Epoch 29: val_accuracy did not improve from 0.81178\n",
            "160/160 - 1s - loss: 0.5040 - accuracy: 0.7855 - val_loss: 0.4920 - val_accuracy: 0.7871 - 862ms/epoch - 5ms/step\n",
            "Epoch 30/60\n",
            "\n",
            "Epoch 30: val_accuracy did not improve from 0.81178\n",
            "160/160 - 1s - loss: 0.5017 - accuracy: 0.7857 - val_loss: 0.5079 - val_accuracy: 0.7760 - 783ms/epoch - 5ms/step\n",
            "Epoch 31/60\n",
            "\n",
            "Epoch 31: val_accuracy did not improve from 0.81178\n",
            "160/160 - 1s - loss: 0.5060 - accuracy: 0.7835 - val_loss: 0.5565 - val_accuracy: 0.7497 - 746ms/epoch - 5ms/step\n",
            "Epoch 32/60\n",
            "\n",
            "Epoch 32: val_accuracy did not improve from 0.81178\n",
            "160/160 - 1s - loss: 0.5194 - accuracy: 0.7698 - val_loss: 0.5101 - val_accuracy: 0.7807 - 867ms/epoch - 5ms/step\n",
            "Epoch 33/60\n",
            "\n",
            "Epoch 33: val_accuracy did not improve from 0.81178\n",
            "160/160 - 1s - loss: 0.5100 - accuracy: 0.7775 - val_loss: 0.4853 - val_accuracy: 0.7939 - 863ms/epoch - 5ms/step\n",
            "Epoch 34/60\n",
            "\n",
            "Epoch 34: val_accuracy did not improve from 0.81178\n",
            "160/160 - 1s - loss: 0.4989 - accuracy: 0.7869 - val_loss: 0.5480 - val_accuracy: 0.7604 - 887ms/epoch - 6ms/step\n",
            "Epoch 35/60\n",
            "\n",
            "Epoch 35: val_accuracy did not improve from 0.81178\n",
            "160/160 - 1s - loss: 0.5000 - accuracy: 0.7851 - val_loss: 0.5054 - val_accuracy: 0.7847 - 861ms/epoch - 5ms/step\n",
            "Epoch 36/60\n",
            "\n",
            "Epoch 36: val_accuracy did not improve from 0.81178\n",
            "160/160 - 1s - loss: 0.4985 - accuracy: 0.7904 - val_loss: 0.4856 - val_accuracy: 0.7951 - 763ms/epoch - 5ms/step\n",
            "Epoch 37/60\n",
            "\n",
            "Epoch 37: val_accuracy did not improve from 0.81178\n",
            "160/160 - 1s - loss: 0.5122 - accuracy: 0.7794 - val_loss: 0.4950 - val_accuracy: 0.7875 - 752ms/epoch - 5ms/step\n",
            "Epoch 38/60\n",
            "\n",
            "Epoch 38: val_accuracy did not improve from 0.81178\n",
            "160/160 - 1s - loss: 0.5057 - accuracy: 0.7851 - val_loss: 0.5105 - val_accuracy: 0.7780 - 712ms/epoch - 4ms/step\n",
            "Epoch 39/60\n",
            "\n",
            "Epoch 39: val_accuracy did not improve from 0.81178\n",
            "160/160 - 1s - loss: 0.5088 - accuracy: 0.7812 - val_loss: 0.4931 - val_accuracy: 0.7907 - 753ms/epoch - 5ms/step\n",
            "Epoch 40/60\n",
            "\n",
            "Epoch 40: val_accuracy did not improve from 0.81178\n",
            "160/160 - 1s - loss: 0.4974 - accuracy: 0.7896 - val_loss: 0.4867 - val_accuracy: 0.7959 - 855ms/epoch - 5ms/step\n",
            "Epoch 41/60\n",
            "\n",
            "Epoch 41: val_accuracy did not improve from 0.81178\n",
            "160/160 - 1s - loss: 0.4966 - accuracy: 0.7925 - val_loss: 0.5893 - val_accuracy: 0.7270 - 885ms/epoch - 6ms/step\n",
            "Epoch 42/60\n",
            "\n",
            "Epoch 42: val_accuracy did not improve from 0.81178\n",
            "160/160 - 1s - loss: 0.4968 - accuracy: 0.7888 - val_loss: 0.4937 - val_accuracy: 0.7855 - 767ms/epoch - 5ms/step\n",
            "Epoch 43/60\n",
            "\n",
            "Epoch 43: val_accuracy did not improve from 0.81178\n",
            "160/160 - 1s - loss: 0.4951 - accuracy: 0.7906 - val_loss: 0.4876 - val_accuracy: 0.7899 - 869ms/epoch - 5ms/step\n",
            "Epoch 44/60\n",
            "\n",
            "Epoch 44: val_accuracy did not improve from 0.81178\n",
            "160/160 - 1s - loss: 0.4989 - accuracy: 0.7827 - val_loss: 0.4868 - val_accuracy: 0.7907 - 885ms/epoch - 6ms/step\n",
            "Epoch 45/60\n",
            "\n",
            "Epoch 45: val_accuracy did not improve from 0.81178\n",
            "160/160 - 1s - loss: 0.4895 - accuracy: 0.7941 - val_loss: 0.4888 - val_accuracy: 0.7883 - 852ms/epoch - 5ms/step\n",
            "Epoch 46/60\n",
            "\n",
            "Epoch 46: val_accuracy did not improve from 0.81178\n",
            "160/160 - 1s - loss: 0.4943 - accuracy: 0.7892 - val_loss: 0.5735 - val_accuracy: 0.7445 - 738ms/epoch - 5ms/step\n",
            "Epoch 47/60\n",
            "\n",
            "Epoch 47: val_accuracy did not improve from 0.81178\n",
            "160/160 - 1s - loss: 0.5013 - accuracy: 0.7867 - val_loss: 0.4993 - val_accuracy: 0.7819 - 864ms/epoch - 5ms/step\n",
            "Epoch 48/60\n",
            "\n",
            "Epoch 48: val_accuracy did not improve from 0.81178\n",
            "160/160 - 1s - loss: 0.5148 - accuracy: 0.7720 - val_loss: 0.5005 - val_accuracy: 0.7899 - 748ms/epoch - 5ms/step\n",
            "Epoch 49/60\n",
            "\n",
            "Epoch 49: val_accuracy did not improve from 0.81178\n",
            "160/160 - 1s - loss: 0.4929 - accuracy: 0.7935 - val_loss: 0.4881 - val_accuracy: 0.7927 - 760ms/epoch - 5ms/step\n",
            "Epoch 50/60\n",
            "\n",
            "Epoch 50: val_accuracy did not improve from 0.81178\n",
            "160/160 - 1s - loss: 0.4993 - accuracy: 0.7831 - val_loss: 0.4801 - val_accuracy: 0.7971 - 748ms/epoch - 5ms/step\n",
            "Epoch 51/60\n",
            "\n",
            "Epoch 51: val_accuracy did not improve from 0.81178\n",
            "160/160 - 1s - loss: 0.4872 - accuracy: 0.7975 - val_loss: 0.4807 - val_accuracy: 0.7963 - 725ms/epoch - 5ms/step\n",
            "Epoch 52/60\n",
            "\n",
            "Epoch 52: val_accuracy did not improve from 0.81178\n",
            "160/160 - 1s - loss: 0.4957 - accuracy: 0.7896 - val_loss: 0.5354 - val_accuracy: 0.7624 - 854ms/epoch - 5ms/step\n",
            "Epoch 53/60\n",
            "\n",
            "Epoch 53: val_accuracy did not improve from 0.81178\n",
            "160/160 - 1s - loss: 0.4889 - accuracy: 0.7918 - val_loss: 0.4832 - val_accuracy: 0.7903 - 745ms/epoch - 5ms/step\n",
            "Epoch 54/60\n",
            "\n",
            "Epoch 54: val_accuracy did not improve from 0.81178\n",
            "160/160 - 1s - loss: 0.4877 - accuracy: 0.7931 - val_loss: 0.4784 - val_accuracy: 0.7939 - 865ms/epoch - 5ms/step\n",
            "Epoch 55/60\n",
            "\n",
            "Epoch 55: val_accuracy did not improve from 0.81178\n",
            "160/160 - 1s - loss: 0.4820 - accuracy: 0.7935 - val_loss: 0.4805 - val_accuracy: 0.7931 - 739ms/epoch - 5ms/step\n",
            "Epoch 56/60\n",
            "\n",
            "Epoch 56: val_accuracy did not improve from 0.81178\n",
            "160/160 - 1s - loss: 0.4919 - accuracy: 0.7906 - val_loss: 0.4878 - val_accuracy: 0.7899 - 883ms/epoch - 6ms/step\n",
            "Epoch 57/60\n",
            "\n",
            "Epoch 57: val_accuracy did not improve from 0.81178\n",
            "160/160 - 1s - loss: 0.4875 - accuracy: 0.7908 - val_loss: 0.5411 - val_accuracy: 0.7624 - 789ms/epoch - 5ms/step\n",
            "Epoch 58/60\n",
            "\n",
            "Epoch 58: val_accuracy did not improve from 0.81178\n",
            "160/160 - 1s - loss: 0.4932 - accuracy: 0.7878 - val_loss: 0.5011 - val_accuracy: 0.7847 - 873ms/epoch - 5ms/step\n",
            "Epoch 59/60\n",
            "\n",
            "Epoch 59: val_accuracy did not improve from 0.81178\n",
            "160/160 - 1s - loss: 0.4898 - accuracy: 0.7892 - val_loss: 0.5611 - val_accuracy: 0.7425 - 726ms/epoch - 5ms/step\n",
            "Epoch 60/60\n",
            "\n",
            "Epoch 60: val_accuracy did not improve from 0.81178\n",
            "160/160 - 1s - loss: 0.4949 - accuracy: 0.7841 - val_loss: 0.4966 - val_accuracy: 0.7883 - 865ms/epoch - 5ms/step\n"
          ]
        }
      ],
      "source": [
        "bertmodel.compile(loss='binary_crossentropy', optimizer=Adam(learning_rate=0.001), metrics=['accuracy'])\n",
        "## Training \n",
        "\n",
        "history=bertmodel.fit(X_train_pooled_output,y_train,epochs=60,verbose=2,validation_data=(X_test_pooled_output,y_test),batch_size =32,callbacks=callbacks2) "
      ]
    },
    {
      "cell_type": "markdown",
      "metadata": {
        "id": "nYk8hrbKwKNb"
      },
      "source": [
        "Observation:\n",
        "\n",
        "** Bert model not performing as expected. Will try to fit after further preprocessing with accuracy as 0.7971"
      ]
    },
    {
      "cell_type": "code",
      "execution_count": null,
      "metadata": {
        "colab": {
          "base_uri": "https://localhost:8080/"
        },
        "id": "s7Rv1CSZic_S",
        "outputId": "d2e8ac3b-3a43-405d-cb72-8c0df065b0a3"
      },
      "outputs": [
        {
          "output_type": "stream",
          "name": "stderr",
          "text": [
            "WARNING:tensorflow:Layer lstm_2 will not use cuDNN kernels since it doesn't meet the criteria. It will use a generic GPU kernel as fallback when running on GPU.\n",
            "WARNING:tensorflow:Layer lstm_2 will not use cuDNN kernels since it doesn't meet the criteria. It will use a generic GPU kernel as fallback when running on GPU.\n",
            "WARNING:tensorflow:Layer lstm_2 will not use cuDNN kernels since it doesn't meet the criteria. It will use a generic GPU kernel as fallback when running on GPU.\n"
          ]
        }
      ],
      "source": [
        "from keras.models import load_model\n",
        "model = load_model('best_model.h5')"
      ]
    },
    {
      "cell_type": "code",
      "execution_count": null,
      "metadata": {
        "colab": {
          "base_uri": "https://localhost:8080/"
        },
        "id": "4jxDU6X6G1Pd",
        "outputId": "e8cc15a0-209c-429b-ec5e-1d800911d827"
      },
      "outputs": [
        {
          "output_type": "stream",
          "name": "stdout",
          "text": [
            "102/102 [==============================] - 2s 17ms/step\n"
          ]
        }
      ],
      "source": [
        "y_pred = model.predict(x_test_pad_tokens)"
      ]
    },
    {
      "cell_type": "code",
      "execution_count": null,
      "metadata": {
        "id": "6tHCxnAy916-"
      },
      "outputs": [],
      "source": [
        "sample_submission = pd.read_csv(\"/content/data/sample_submission.csv\")"
      ]
    },
    {
      "cell_type": "code",
      "source": [
        "y_final=[]\n",
        "for i in range(0,3263):\n",
        "   y_final.append(y_pred[i][0])\n"
      ],
      "metadata": {
        "id": "Eb2cfCxZ-g4e"
      },
      "execution_count": null,
      "outputs": []
    },
    {
      "cell_type": "code",
      "execution_count": null,
      "metadata": {
        "id": "br6SVAWVJIcC"
      },
      "outputs": [],
      "source": [
        "sample_submission['target'] = np.round(y_final).astype(int)\n",
        "sample_submission.to_csv('model_submission_BILSTM_crawlembedding_bp.csv', index=False)"
      ]
    }
  ],
  "metadata": {
    "colab": {
      "provenance": []
    },
    "gpuClass": "standard",
    "kernelspec": {
      "display_name": "Python 3",
      "name": "python3"
    },
    "language_info": {
      "name": "python"
    },
    "accelerator": "GPU"
  },
  "nbformat": 4,
  "nbformat_minor": 0
}